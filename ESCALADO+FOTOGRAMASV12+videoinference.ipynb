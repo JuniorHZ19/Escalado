{
  "nbformat": 4,
  "nbformat_minor": 0,
  "metadata": {
    "colab": {
      "provenance": [],
      "gpuType": "T4",
      "include_colab_link": true
    },
    "kernelspec": {
      "name": "python3",
      "display_name": "Python 3"
    },
    "language_info": {
      "name": "python"
    },
    "accelerator": "GPU"
  },
  "cells": [
    {
      "cell_type": "markdown",
      "metadata": {
        "id": "view-in-github",
        "colab_type": "text"
      },
      "source": [
        "<a href=\"https://colab.research.google.com/github/JuniorHZ19/HerramientasIA/blob/main/ESCALADO%2BFOTOGRAMASV12%2Bvideoinference.ipynb\" target=\"_parent\"><img src=\"https://colab.research.google.com/assets/colab-badge.svg\" alt=\"Open In Colab\"/></a>"
      ]
    },
    {
      "cell_type": "code",
      "source": [
        "\n",
        "#@markdown # *0) ** Montar Google Drive (OBLIGATORIO)\n",
        "\n",
        "from google.colab import drive, files\n",
        "drive.mount('/content/drive')\n"
      ],
      "metadata": {
        "colab": {
          "base_uri": "https://localhost:8080/"
        },
        "id": "QzvXxvpvqcZy",
        "outputId": "97fb61a2-af30-420c-c263-37d6539c1790"
      },
      "execution_count": 1,
      "outputs": [
        {
          "output_type": "stream",
          "name": "stdout",
          "text": [
            "Mounted at /content/drive\n"
          ]
        }
      ]
    },
    {
      "cell_type": "markdown",
      "source": [
        "#**ESRGAN**\n",
        "\n"
      ],
      "metadata": {
        "id": "j6Ue--eFqM_G"
      }
    },
    {
      "cell_type": "code",
      "execution_count": null,
      "metadata": {
        "id": "7syXvyWDp155"
      },
      "outputs": [],
      "source": [
        "\n",
        "#@markdown # **1) Descargar Librerias**\n",
        "# # Clone Real-ESRGAN and enter the Real-ESRGAN\n",
        "from google.colab import drive, files\n",
        "import os, shutil, subprocess\n",
        "drive_mounted = False\n",
        "temp_folder = 'tmp_frames'\n",
        "result_folder = 'results'\n",
        "!git clone https://github.com/xinntao/Real-ESRGAN.git\n",
        "%cd Real-ESRGAN\n",
        "# Set up the environment\n",
        "!pip install basicsr facexlib gfpgan\n",
        "!pip install -r requirements.txt\n",
        "\n",
        "!pip install torch==2.0.0+cu117 torchvision==0.15.0+cu117 -f https://download.pytorch.org/whl/torch_stable.html\n",
        "!python setup.py develop\n",
        "!pip install ffmpeg-python\n",
        "%cd ..\n"
      ]
    },
    {
      "cell_type": "code",
      "source": [
        "\n",
        "#@markdown # **2) Descargar Modelos**\n",
        "!pip install gdown\n",
        "\n",
        "!gdown --id 1a6EZMTmsabf7C8YCTDqraoxNOSPsuXsD\n",
        "!7z e ModelosESRGAN.zip\n",
        "\n",
        "# Ruta al archivo ZIP que deseas descomprimir\n",
        "archivo_zip = '/content/modelScaled.zip'\n",
        "\n",
        "import zipfile\n",
        "# Directorio de destino para la descompresión\n",
        "directorio_destino = '/content/Real-ESRGAN/experiments/pretrained_models'  # Cambia '/content/destino/' al directorio donde deseas descomprimir los archivos\n",
        "\n",
        "\n",
        "with zipfile.ZipFile(archivo_zip, 'r') as zip_ref:\n",
        "    # Descomprime los archivos en el directorio de destino\n",
        "    zip_ref.extractall(directorio_destino)\n",
        "\n",
        "# Verifica los archivos descomprimidos\n",
        "import os\n",
        "os.listdir(directorio_destino)"
      ],
      "metadata": {
        "colab": {
          "base_uri": "https://localhost:8080/"
        },
        "id": "APTvICzDqDCy",
        "outputId": "92155585-d495-491d-d7ae-2e24814b32ce"
      },
      "execution_count": 3,
      "outputs": [
        {
          "output_type": "stream",
          "name": "stdout",
          "text": [
            "Requirement already satisfied: gdown in /usr/local/lib/python3.10/dist-packages (5.1.0)\n",
            "Requirement already satisfied: beautifulsoup4 in /usr/local/lib/python3.10/dist-packages (from gdown) (4.12.3)\n",
            "Requirement already satisfied: filelock in /usr/local/lib/python3.10/dist-packages (from gdown) (3.15.4)\n",
            "Requirement already satisfied: requests[socks] in /usr/local/lib/python3.10/dist-packages (from gdown) (2.31.0)\n",
            "Requirement already satisfied: tqdm in /usr/local/lib/python3.10/dist-packages (from gdown) (4.66.4)\n",
            "Requirement already satisfied: soupsieve>1.2 in /usr/local/lib/python3.10/dist-packages (from beautifulsoup4->gdown) (2.5)\n",
            "Requirement already satisfied: charset-normalizer<4,>=2 in /usr/local/lib/python3.10/dist-packages (from requests[socks]->gdown) (3.3.2)\n",
            "Requirement already satisfied: idna<4,>=2.5 in /usr/local/lib/python3.10/dist-packages (from requests[socks]->gdown) (3.7)\n",
            "Requirement already satisfied: urllib3<3,>=1.21.1 in /usr/local/lib/python3.10/dist-packages (from requests[socks]->gdown) (2.0.7)\n",
            "Requirement already satisfied: certifi>=2017.4.17 in /usr/local/lib/python3.10/dist-packages (from requests[socks]->gdown) (2024.6.2)\n",
            "Requirement already satisfied: PySocks!=1.5.7,>=1.5.6 in /usr/local/lib/python3.10/dist-packages (from requests[socks]->gdown) (1.7.1)\n",
            "/usr/local/lib/python3.10/dist-packages/gdown/__main__.py:132: FutureWarning: Option `--id` was deprecated in version 4.3.1 and will be removed in 5.0. You don't need to pass it anymore to use a file ID.\n",
            "  warnings.warn(\n",
            "Downloading...\n",
            "From (original): https://drive.google.com/uc?id=1a6EZMTmsabf7C8YCTDqraoxNOSPsuXsD\n",
            "From (redirected): https://drive.google.com/uc?id=1a6EZMTmsabf7C8YCTDqraoxNOSPsuXsD&confirm=t&uuid=2d878067-0a25-4334-bd70-89e763a19b83\n",
            "To: /content/modelScaled.zip\n",
            "100% 141M/141M [00:03<00:00, 43.2MB/s]\n",
            "\n",
            "7-Zip [64] 16.02 : Copyright (c) 1999-2016 Igor Pavlov : 2016-05-21\n",
            "p7zip Version 16.02 (locale=en_US.UTF-8,Utf16=on,HugeFiles=on,64 bits,2 CPUs Intel(R) Xeon(R) CPU @ 2.20GHz (406F0),ASM,AES-NI)\n",
            "\n",
            "Scanning the drive for archives:\n",
            "  0M Scan\b\b\b\b\b\b\b\b\b         \b\b\b\b\b\b\b\b\b\n",
            "ERROR: No more files\n",
            "ModelosESRGAN.zip\n",
            "\n",
            "\n",
            "\n",
            "System ERROR:\n",
            "Unknown error -2147024872\n"
          ]
        },
        {
          "output_type": "execute_result",
          "data": {
            "text/plain": [
              "['RealESRGAN_x4plus_anime_6B .pth',\n",
              " 'README.md',\n",
              " 'RealESRGAN_x4plus.pth',\n",
              " 'RealESRGAN_x2plus.pth']"
            ]
          },
          "metadata": {},
          "execution_count": 3
        }
      ]
    },
    {
      "cell_type": "code",
      "source": [
        "\n",
        "#@markdown # **3.5) ** Montar el archivo de Google Drive\n",
        "#@markdown Pon la ruta del archivo en tu google drive \"content/drive/MyDrive/... y da click\"\n",
        "\n",
        "\n",
        "\n",
        "drive_mounted = True\n",
        "drive_path = '/content/anchadaoop2.mp4'#@param{type: \"string\"}\n",
        "file_name = drive_path.split('/')[-1]\n",
        "input_path = f'/content/drive/MyDrive{drive_path}'\n",
        "print(\"video path set:\\n\",input_path)\n"
      ],
      "metadata": {
        "colab": {
          "base_uri": "https://localhost:8080/"
        },
        "id": "G-CuLlg8qgte",
        "outputId": "27f16d29-621d-4b2c-d1db-9ee78293009a"
      },
      "execution_count": null,
      "outputs": [
        {
          "output_type": "stream",
          "name": "stdout",
          "text": [
            "video path set:\n",
            " /content/drive/MyDrive/content/anchadaoop2.mp4\n"
          ]
        }
      ]
    },
    {
      "cell_type": "code",
      "source": [
        "\n",
        "#@markdown # **4) Extracter Frames del Video (Solo si no usamos interference-video)**\n",
        "\n",
        "if os.path.isdir(temp_folder):\n",
        "  shutil.rmtree(temp_folder)\n",
        "\n",
        "os.mkdir(temp_folder)\n",
        "print(f'Extracting Frames to: {temp_folder}')\n",
        "cmd = [\n",
        "       'ffmpeg',\n",
        "       '-i',\n",
        "       drive_path,\n",
        "       '-qscale:v',\n",
        "       '1',\n",
        "       '-qmin',\n",
        "       '1',\n",
        "       '-qmax',\n",
        "       '1',\n",
        "       '-vsync',\n",
        "       '0',\n",
        "       f'{temp_folder}/frame_%08d.png'\n",
        "]\n",
        "process = subprocess.Popen(cmd, stdout=subprocess.PIPE, stderr=subprocess.PIPE)\n",
        "stdout, stderr = process.communicate()\n",
        "if process.returncode != 0:\n",
        "    print(stderr)\n",
        "    raise RuntimeError(stderr)\n",
        "else:\n",
        "    frame_count = len(os.listdir(f'/content/{temp_folder}'))\n",
        "    print(f\"Done, Extracted {frame_count} Frames\")"
      ],
      "metadata": {
        "id": "zdXZD18Gqi3f",
        "cellView": "form"
      },
      "execution_count": null,
      "outputs": []
    },
    {
      "cell_type": "code",
      "source": [
        "#@markdown # **4) Run ERSGAN con InterfaceVideo solo con modelo realesr-animevideo **\n",
        "\n",
        "#@markdown realesr-animevideov3\n",
        "path = '/content/results/samuraix540p_outx2s_outx2s.mp4'#@param{type: \"string\"}\n",
        "xResolucion = 1 #@param{type: \"number\"}\n",
        "num_process_gpu = 3 #@param{type: \"number\"}\n",
        "modelo = 'RealESRGAN_x4plus_anime_6B' #@param [\"RealESRGAN_x4plus\", \"RealESRGAN_x2plus\", \"RealESRGAN_x4plus_anime_6B\",\"realesr-general-x4v3\",\"realesr-animevideov3\"]\n",
        "tile=256 #@param{type: \"number\"}\n",
        "\n",
        "!python /content/Real-ESRGAN/inference_realesrgan_video.py -i {path} -n {modelo} -s {xResolucion} --suffix outx2s --num_process_per_gpu {num_process_gpu} --tile {tile}\n"
      ],
      "metadata": {
        "id": "PO6QCRRfjKsp"
      },
      "execution_count": null,
      "outputs": []
    },
    {
      "cell_type": "code",
      "source": [],
      "metadata": {
        "id": "p2J-ENKyuhER"
      },
      "execution_count": null,
      "outputs": []
    },
    {
      "cell_type": "code",
      "source": [
        "#@markdown # **4) Run ERSGAN y escalar**\n",
        "\n",
        "#@markdown Camibar el nombre del modelo que queramos usar :\n",
        "\n",
        "#@markdown RealESRGAN_x2plus,RealESRGAN_x4plus ,RealESRGAN_x4plus_anime_6B\n",
        "\n",
        "%cd /content/Real-ESRGAN\n",
        "frame_count = len(os.listdir(f'/content/{temp_folder}'))\n",
        "print(f\"Enhancing {frame_count} Frames with ESRGAN...\")\n",
        "cmd = [\n",
        "       'python',\n",
        "       'inference_realesrgan.py',\n",
        "       '-n',\n",
        "       'RealESRGAN_x4plus_anime_6B',\n",
        "       '-i',\n",
        "       f'../{temp_folder}',\n",
        "       '--outscale',\n",
        "       '4',\n",
        "\n",
        "]\n",
        "#process = subprocess.Popen(cmd, stdout=subprocess.PIPE, stderr=subprocess.PIPE, text=True)\n",
        "# stdout, stderr = process.communicate()\n",
        "# if process.returncode != 0:\n",
        "#     print(stderr)\n",
        "#     raise RuntimeError(stderr)\n",
        "# else:\n",
        "#     print(\"Done Extracting Frames\")\n",
        "!{' '.join(cmd)}\n",
        "print(\"Done Enhancing Frames\")\n",
        "%cd .."
      ],
      "metadata": {
        "id": "Yl8nyFqeqlGd"
      },
      "execution_count": null,
      "outputs": []
    },
    {
      "cell_type": "code",
      "source": [
        "#@markdown # **5) Crear el nuevo video de  los frames escalados\n",
        "import subprocess\n",
        "frame_count = len(os.listdir(f'/content/{temp_folder}'))\n",
        "if os.path.isdir(result_folder):\n",
        "  shutil.rmtree(result_folder)\n",
        "os.mkdir(result_folder)\n",
        "\n",
        "fps = 30 #@param {type: \"number\"}\n",
        "framesSalida=30 #@param {type: \"number\"}\n",
        "print(f\"Recompiling {frame_count} Frames into Video...\")\n",
        "cmd = [\n",
        "      'ffmpeg',\n",
        "    '-framerate',str(fps),\n",
        "     '-i',\n",
        "       f'/content/Real-ESRGAN/results/frame_%08d_out.png',\n",
        "      '-i',\n",
        "      drive_path,\n",
        "      '-vf',\"scale=3840:2160 ,unsharp=5:5:1:5:5:1,eq=brightness=-0.004:saturation=1.3:contrast=1.0,curves=all=0/0 0.2/0.3 0.8/1 1/1'\",\n",
        "      #activar filtro video si quermos a 4k hdr\n",
        "\n",
        "       '-map',\n",
        "       '0:v',\n",
        "       '-map',\n",
        "       '1:a',\n",
        "       '-c:v',\n",
        "       'h264_nvenc',\n",
        "       '-c:a',\n",
        "        'mp3',\n",
        "        '-r',\n",
        "        str(framesSalida),\n",
        "       '-b:v',\n",
        "       '65M', #birate 5M (720P), 6M (720P:60FPS),8M(1080P), 10M (1080P),15M(1080P:60FPS) ,25M(2K),30M(2K:60FP) 40M(4K:60FP)\n",
        "\n",
        "\n",
        "       f'{result_folder}/Mejorado{file_name}'\n",
        "\n",
        "]\n",
        "\n",
        "\n",
        "process = subprocess.Popen(cmd, stdout=subprocess.PIPE, stderr=subprocess.PIPE)\n",
        "stdout, stderr = process.communicate()\n",
        "if process.returncode != 0:\n",
        "    print(stderr)\n",
        "    raise RuntimeError(stderr)\n",
        "else:\n",
        "    print(\"Done Recreating Video\")"
      ],
      "metadata": {
        "id": "yrKheuGsqykK",
        "colab": {
          "base_uri": "https://localhost:8080/",
          "height": 220
        },
        "outputId": "26ba2fb2-2ed6-442a-b6d8-30da1aa7f863"
      },
      "execution_count": null,
      "outputs": [
        {
          "output_type": "error",
          "ename": "FileNotFoundError",
          "evalue": "[Errno 2] No such file or directory: '/content/tmp_frames'",
          "traceback": [
            "\u001b[0;31m---------------------------------------------------------------------------\u001b[0m",
            "\u001b[0;31mFileNotFoundError\u001b[0m                         Traceback (most recent call last)",
            "\u001b[0;32m<ipython-input-24-772b87cde9fb>\u001b[0m in \u001b[0;36m<cell line: 3>\u001b[0;34m()\u001b[0m\n\u001b[1;32m      1\u001b[0m \u001b[0;31m#@markdown # **5) Crear el nuevo video de  los frames escalados\u001b[0m\u001b[0;34m\u001b[0m\u001b[0;34m\u001b[0m\u001b[0m\n\u001b[1;32m      2\u001b[0m \u001b[0;32mimport\u001b[0m \u001b[0msubprocess\u001b[0m\u001b[0;34m\u001b[0m\u001b[0;34m\u001b[0m\u001b[0m\n\u001b[0;32m----> 3\u001b[0;31m \u001b[0mframe_count\u001b[0m \u001b[0;34m=\u001b[0m \u001b[0mlen\u001b[0m\u001b[0;34m(\u001b[0m\u001b[0mos\u001b[0m\u001b[0;34m.\u001b[0m\u001b[0mlistdir\u001b[0m\u001b[0;34m(\u001b[0m\u001b[0;34mf'/content/{temp_folder}'\u001b[0m\u001b[0;34m)\u001b[0m\u001b[0;34m)\u001b[0m\u001b[0;34m\u001b[0m\u001b[0;34m\u001b[0m\u001b[0m\n\u001b[0m\u001b[1;32m      4\u001b[0m \u001b[0;32mif\u001b[0m \u001b[0mos\u001b[0m\u001b[0;34m.\u001b[0m\u001b[0mpath\u001b[0m\u001b[0;34m.\u001b[0m\u001b[0misdir\u001b[0m\u001b[0;34m(\u001b[0m\u001b[0mresult_folder\u001b[0m\u001b[0;34m)\u001b[0m\u001b[0;34m:\u001b[0m\u001b[0;34m\u001b[0m\u001b[0;34m\u001b[0m\u001b[0m\n\u001b[1;32m      5\u001b[0m   \u001b[0mshutil\u001b[0m\u001b[0;34m.\u001b[0m\u001b[0mrmtree\u001b[0m\u001b[0;34m(\u001b[0m\u001b[0mresult_folder\u001b[0m\u001b[0;34m)\u001b[0m\u001b[0;34m\u001b[0m\u001b[0;34m\u001b[0m\u001b[0m\n",
            "\u001b[0;31mFileNotFoundError\u001b[0m: [Errno 2] No such file or directory: '/content/tmp_frames'"
          ]
        }
      ]
    },
    {
      "cell_type": "code",
      "source": [
        "#@markdown # **6)Descargar archivo mejorado**\n",
        "#@markdown Se pasara el archivo a nuestro drive\n",
        "\n",
        "from google.colab import files\n",
        "\n",
        "filename= os.listdir(result_folder)\n",
        "if drive_mounted:\n",
        "  if os.path.exists('/content/drive/MyDrive/ESRGAN-Videos') is not True:\n",
        "    os.makedirs('/content/drive/MyDrive/ESRGAN-Videos')\n",
        "  shutil.move(f'{result_folder}/{filename[0]}',f'/content/drive/MyDrive/ESRGAN-Videos/{filename[0]}')\n",
        "  print(f\"MOviendo {filename[0]} el archivo a la carpeta ESRGAN-Videos en tu Drive\")\n",
        "else:\n",
        "  files.download(f'{result_folder}/{filename[0]}')"
      ],
      "metadata": {
        "id": "iSWWJoYiq1RC"
      },
      "execution_count": null,
      "outputs": []
    },
    {
      "cell_type": "code",
      "source": [
        "#@markdown # 7) Opcional Borrar archivos temporales  solo dar si vamos a escalar otro video\n",
        "#@markdown  Solo dar click si vamos a escalar otro video\n",
        "\n",
        "import os\n",
        "\n",
        "# Ruta de la carpeta que contiene los archivos que deseas eliminar\n",
        "carpetatemp = '/content/tmp_frames'\n",
        "carpetaresult='/content/Real-ESRGAN/results'\n",
        "\n",
        "# Lista todos los archivos en la carpeta\n",
        "archivos = os.listdir(carpetatemp)\n",
        "\n",
        "# Itera a través de los archivos y elimínalos\n",
        "for archivo in archivos:\n",
        "    ruta_completa = os.path.join(carpetatemp, archivo)\n",
        "    if os.path.isfile(ruta_completa):\n",
        "        os.remove(ruta_completa)\n",
        "        print(f\"Archivo eliminado: {ruta_completa}\")\n",
        "\n",
        "archivos = os.listdir(carpetaresult)\n",
        "for archivo in archivos:\n",
        "    ruta_completa = os.path.join(carpetaresult,archivo)\n",
        "    if os.path.isfile(ruta_completa):\n",
        "        os.remove(ruta_completa)\n",
        "        print(f\"Archivo eliminado: {ruta_completa}\")\n",
        "\n"
      ],
      "metadata": {
        "id": "eWueOhFDq5fi"
      },
      "execution_count": null,
      "outputs": []
    },
    {
      "cell_type": "markdown",
      "source": [
        "#**RIFE**\n",
        "\n"
      ],
      "metadata": {
        "id": "bGe58TMGrByT"
      }
    },
    {
      "cell_type": "code",
      "source": [
        "\n",
        "#@markdown # **1) Instalar Librerias**\n",
        "# # Clone Real-ESRGAN and enter the Real-ESRGAN\n",
        "!git clone https://github.com/hzwer/Practical-RIFE.git\n",
        "%cd Practical-RIFE\n",
        "! import skvideo.io\n",
        "!pip3 install -r requirements.txt\n",
        "!pip3 install --upgrade pip setuptools\n",
        "!pip install sk-video\n"
      ],
      "metadata": {
        "colab": {
          "base_uri": "https://localhost:8080/",
          "height": 1000
        },
        "id": "mXld-oWYrKSh",
        "outputId": "af5e650d-bae7-40a0-8803-c4fbe5be528d"
      },
      "execution_count": null,
      "outputs": [
        {
          "output_type": "stream",
          "name": "stdout",
          "text": [
            "Cloning into 'Practical-RIFE'...\n",
            "remote: Enumerating objects: 477, done.\u001b[K\n",
            "remote: Counting objects: 100% (295/295), done.\u001b[K\n",
            "remote: Compressing objects: 100% (102/102), done.\u001b[K\n",
            "remote: Total 477 (delta 274), reused 201 (delta 193), pack-reused 182\u001b[K\n",
            "Receiving objects: 100% (477/477), 2.99 MiB | 29.47 MiB/s, done.\n",
            "Resolving deltas: 100% (286/286), done.\n",
            "/content/Practical-RIFE\n",
            "/bin/bash: line 1: import: command not found\n",
            "Collecting numpy<=1.23.5,>=1.16 (from -r requirements.txt (line 1))\n",
            "  Downloading numpy-1.23.5-cp310-cp310-manylinux_2_17_x86_64.manylinux2014_x86_64.whl.metadata (2.3 kB)\n",
            "Requirement already satisfied: tqdm>=4.35.0 in /usr/local/lib/python3.10/dist-packages (from -r requirements.txt (line 2)) (4.66.4)\n",
            "Requirement already satisfied: sk-video>=1.1.10 in /usr/local/lib/python3.10/dist-packages (from -r requirements.txt (line 3)) (1.1.10)\n",
            "Requirement already satisfied: torch>=1.3.0 in /usr/local/lib/python3.10/dist-packages (from -r requirements.txt (line 4)) (2.0.0+cu117)\n",
            "Requirement already satisfied: opencv-python>=4.1.2 in /usr/local/lib/python3.10/dist-packages (from -r requirements.txt (line 5)) (4.8.0.76)\n",
            "Requirement already satisfied: moviepy>=1.0.3 in /usr/local/lib/python3.10/dist-packages (from -r requirements.txt (line 6)) (1.0.3)\n",
            "Requirement already satisfied: torchvision>=0.7.0 in /usr/local/lib/python3.10/dist-packages (from -r requirements.txt (line 7)) (0.15.0+cu117)\n",
            "Requirement already satisfied: scipy in /usr/local/lib/python3.10/dist-packages (from sk-video>=1.1.10->-r requirements.txt (line 3)) (1.11.4)\n",
            "Requirement already satisfied: filelock in /usr/local/lib/python3.10/dist-packages (from torch>=1.3.0->-r requirements.txt (line 4)) (3.15.4)\n",
            "Requirement already satisfied: typing-extensions in /usr/local/lib/python3.10/dist-packages (from torch>=1.3.0->-r requirements.txt (line 4)) (4.12.2)\n",
            "Requirement already satisfied: sympy in /usr/local/lib/python3.10/dist-packages (from torch>=1.3.0->-r requirements.txt (line 4)) (1.12.1)\n",
            "Requirement already satisfied: networkx in /usr/local/lib/python3.10/dist-packages (from torch>=1.3.0->-r requirements.txt (line 4)) (3.3)\n",
            "Requirement already satisfied: jinja2 in /usr/local/lib/python3.10/dist-packages (from torch>=1.3.0->-r requirements.txt (line 4)) (3.1.4)\n",
            "Requirement already satisfied: triton==2.0.0 in /usr/local/lib/python3.10/dist-packages (from torch>=1.3.0->-r requirements.txt (line 4)) (2.0.0)\n",
            "Requirement already satisfied: cmake in /usr/local/lib/python3.10/dist-packages (from triton==2.0.0->torch>=1.3.0->-r requirements.txt (line 4)) (3.27.9)\n",
            "Requirement already satisfied: lit in /usr/local/lib/python3.10/dist-packages (from triton==2.0.0->torch>=1.3.0->-r requirements.txt (line 4)) (18.1.8)\n",
            "Requirement already satisfied: decorator<5.0,>=4.0.2 in /usr/local/lib/python3.10/dist-packages (from moviepy>=1.0.3->-r requirements.txt (line 6)) (4.4.2)\n",
            "Requirement already satisfied: requests<3.0,>=2.8.1 in /usr/local/lib/python3.10/dist-packages (from moviepy>=1.0.3->-r requirements.txt (line 6)) (2.31.0)\n",
            "Requirement already satisfied: proglog<=1.0.0 in /usr/local/lib/python3.10/dist-packages (from moviepy>=1.0.3->-r requirements.txt (line 6)) (0.1.10)\n",
            "Requirement already satisfied: imageio<3.0,>=2.5 in /usr/local/lib/python3.10/dist-packages (from moviepy>=1.0.3->-r requirements.txt (line 6)) (2.31.6)\n",
            "Requirement already satisfied: imageio-ffmpeg>=0.2.0 in /usr/local/lib/python3.10/dist-packages (from moviepy>=1.0.3->-r requirements.txt (line 6)) (0.5.1)\n",
            "Requirement already satisfied: pillow!=8.3.*,>=5.3.0 in /usr/local/lib/python3.10/dist-packages (from torchvision>=0.7.0->-r requirements.txt (line 7)) (9.4.0)\n",
            "Requirement already satisfied: setuptools in /usr/local/lib/python3.10/dist-packages (from imageio-ffmpeg>=0.2.0->moviepy>=1.0.3->-r requirements.txt (line 6)) (70.2.0)\n",
            "Requirement already satisfied: charset-normalizer<4,>=2 in /usr/local/lib/python3.10/dist-packages (from requests<3.0,>=2.8.1->moviepy>=1.0.3->-r requirements.txt (line 6)) (3.3.2)\n",
            "Requirement already satisfied: idna<4,>=2.5 in /usr/local/lib/python3.10/dist-packages (from requests<3.0,>=2.8.1->moviepy>=1.0.3->-r requirements.txt (line 6)) (3.7)\n",
            "Requirement already satisfied: urllib3<3,>=1.21.1 in /usr/local/lib/python3.10/dist-packages (from requests<3.0,>=2.8.1->moviepy>=1.0.3->-r requirements.txt (line 6)) (2.0.7)\n",
            "Requirement already satisfied: certifi>=2017.4.17 in /usr/local/lib/python3.10/dist-packages (from requests<3.0,>=2.8.1->moviepy>=1.0.3->-r requirements.txt (line 6)) (2024.6.2)\n",
            "Requirement already satisfied: MarkupSafe>=2.0 in /usr/local/lib/python3.10/dist-packages (from jinja2->torch>=1.3.0->-r requirements.txt (line 4)) (2.1.5)\n",
            "Requirement already satisfied: mpmath<1.4.0,>=1.1.0 in /usr/local/lib/python3.10/dist-packages (from sympy->torch>=1.3.0->-r requirements.txt (line 4)) (1.3.0)\n",
            "Downloading numpy-1.23.5-cp310-cp310-manylinux_2_17_x86_64.manylinux2014_x86_64.whl (17.1 MB)\n",
            "\u001b[2K   \u001b[90m━━━━━━━━━━━━━━━━━━━━━━━━━━━━━━━━━━━━━━━━\u001b[0m \u001b[32m17.1/17.1 MB\u001b[0m \u001b[31m87.6 MB/s\u001b[0m eta \u001b[36m0:00:00\u001b[0m\n",
            "\u001b[?25hInstalling collected packages: numpy\n",
            "  Attempting uninstall: numpy\n",
            "    Found existing installation: numpy 1.25.2\n",
            "    Uninstalling numpy-1.25.2:\n",
            "      Successfully uninstalled numpy-1.25.2\n",
            "\u001b[31mERROR: pip's dependency resolver does not currently take into account all the packages that are installed. This behaviour is the source of the following dependency conflicts.\n",
            "chex 0.1.86 requires numpy>=1.24.1, but you have numpy 1.23.5 which is incompatible.\n",
            "pandas-stubs 2.0.3.230814 requires numpy>=1.25.0; python_version >= \"3.9\", but you have numpy 1.23.5 which is incompatible.\n",
            "torchtext 0.18.0 requires torch>=2.3.0, but you have torch 2.0.0+cu117 which is incompatible.\u001b[0m\u001b[31m\n",
            "\u001b[0mSuccessfully installed numpy-1.23.5\n",
            "\u001b[33mWARNING: Running pip as the 'root' user can result in broken permissions and conflicting behaviour with the system package manager, possibly rendering your system unusable.It is recommended to use a virtual environment instead: https://pip.pypa.io/warnings/venv. Use the --root-user-action option if you know what you are doing and want to suppress this warning.\u001b[0m\u001b[33m\n",
            "\u001b[0m"
          ]
        },
        {
          "output_type": "display_data",
          "data": {
            "application/vnd.colab-display-data+json": {
              "pip_warning": {
                "packages": [
                  "numpy"
                ]
              },
              "id": "6d774ebecb8a4ab5965fd1b2c157a8b7"
            }
          },
          "metadata": {}
        },
        {
          "output_type": "stream",
          "name": "stdout",
          "text": [
            "Requirement already satisfied: pip in /usr/local/lib/python3.10/dist-packages (24.1.2)\n",
            "Requirement already satisfied: setuptools in /usr/local/lib/python3.10/dist-packages (70.2.0)\n",
            "\u001b[33mWARNING: Running pip as the 'root' user can result in broken permissions and conflicting behaviour with the system package manager, possibly rendering your system unusable.It is recommended to use a virtual environment instead: https://pip.pypa.io/warnings/venv. Use the --root-user-action option if you know what you are doing and want to suppress this warning.\u001b[0m\u001b[33m\n",
            "\u001b[0mRequirement already satisfied: sk-video in /usr/local/lib/python3.10/dist-packages (1.1.10)\n",
            "Requirement already satisfied: numpy in /usr/local/lib/python3.10/dist-packages (from sk-video) (1.23.5)\n",
            "Requirement already satisfied: scipy in /usr/local/lib/python3.10/dist-packages (from sk-video) (1.11.4)\n",
            "\u001b[33mWARNING: Running pip as the 'root' user can result in broken permissions and conflicting behaviour with the system package manager, possibly rendering your system unusable.It is recommended to use a virtual environment instead: https://pip.pypa.io/warnings/venv. Use the --root-user-action option if you know what you are doing and want to suppress this warning.\u001b[0m\u001b[33m\n",
            "\u001b[0m"
          ]
        }
      ]
    },
    {
      "cell_type": "code",
      "source": [
        "\n",
        "#@markdown # **2) Instalar Modelo**\n",
        "!mkdir /content/Practical-RIFE/train_log\n",
        "!gdown --id 1MmaZfFxHVEs0spM4iCB5NDRDM-bWKlIA\n",
        "!7z e InterpolacionModelo.zip\n",
        "\n",
        "# Ruta al archivo ZIP que deseas descomprimir\n",
        "archivo_zip = '/content/Practical-RIFE/InterpolacionModelo.zip'\n",
        "\n",
        "import zipfile\n",
        "# Directorio de destino para la descompresión\n",
        "directorio_destino = '/content/Practical-RIFE/train_log'\n",
        "\n",
        "with zipfile.ZipFile(archivo_zip, 'r') as zip_ref:\n",
        "    # Descomprime los archivos en el directorio de destino\n",
        "    zip_ref.extractall(directorio_destino)\n"
      ],
      "metadata": {
        "colab": {
          "base_uri": "https://localhost:8080/"
        },
        "id": "P1YpxdMsrRfV",
        "outputId": "10d84578-5cb3-4395-ed9a-83d30ddd0daa"
      },
      "execution_count": null,
      "outputs": [
        {
          "output_type": "stream",
          "name": "stdout",
          "text": [
            "/usr/local/lib/python3.10/dist-packages/gdown/__main__.py:132: FutureWarning: Option `--id` was deprecated in version 4.3.1 and will be removed in 5.0. You don't need to pass it anymore to use a file ID.\n",
            "  warnings.warn(\n",
            "Downloading...\n",
            "From: https://drive.google.com/uc?id=1MmaZfFxHVEs0spM4iCB5NDRDM-bWKlIA\n",
            "To: /content/Practical-RIFE/InterpolacionModelo.zip\n",
            "100% 11.3M/11.3M [00:00<00:00, 26.6MB/s]\n",
            "\n",
            "7-Zip [64] 16.02 : Copyright (c) 1999-2016 Igor Pavlov : 2016-05-21\n",
            "p7zip Version 16.02 (locale=en_US.UTF-8,Utf16=on,HugeFiles=on,64 bits,2 CPUs Intel(R) Xeon(R) CPU @ 2.20GHz (406F0),ASM,AES-NI)\n",
            "\n",
            "Scanning the drive for archives:\n",
            "  0M Scan\b\b\b\b\b\b\b\b\b         \b\b\b\b\b\b\b\b\b1 file, 11319928 bytes (11 MiB)\n",
            "\n",
            "Extracting archive: InterpolacionModelo.zip\n",
            "--\n",
            "Path = InterpolacionModelo.zip\n",
            "Type = zip\n",
            "Physical Size = 11319928\n",
            "\n",
            "  0%\b\b\b\b    \b\b\b\bEverything is Ok\n",
            "\n",
            "Folders: 1\n",
            "Files: 6\n",
            "Size:       12207729\n",
            "Compressed: 11319928\n"
          ]
        }
      ]
    },
    {
      "cell_type": "code",
      "source": [
        "#@markdown # 3.5)** Montar el archivo Videode Google Drive\n",
        "#@markdown Pon la ruta del archivo en tu google drive \"content/drive/MyDrive/... y da click\"\n",
        "import shutil\n",
        "\n",
        "\n",
        "drive_mounted = True\n",
        "drive_path = '/content/drive/MyDrive/output2_outx2.mp4'#@param{type: \"string\"}\n",
        "file_name = drive_path.split('/')[-1]\n",
        "input_path = f'/content/drive/MyDrive{drive_path}'\n",
        "shutil.copy(drive_path,'/content/Practical-RIFE')\n",
        "print(\"video path set:\\n\",input_path)\n"
      ],
      "metadata": {
        "colab": {
          "base_uri": "https://localhost:8080/"
        },
        "id": "ESdbiFXCrgyd",
        "outputId": "fed52839-a1ba-47d8-89ac-959fe261d312",
        "cellView": "form"
      },
      "execution_count": null,
      "outputs": [
        {
          "output_type": "stream",
          "name": "stdout",
          "text": [
            "video path set:\n",
            " /content/drive/MyDrive/content/drive/MyDrive/output2_outx2.mp4\n"
          ]
        }
      ]
    },
    {
      "cell_type": "code",
      "source": [
        "\n",
        "#@markdown # **3) Inter polacion de video**\n",
        "#@markdown\n",
        "import shutil\n",
        "fps=60\n",
        "muliplicacion=2\n",
        "\n",
        "#Si es resoluacion 4 poner --scale=0.5\n",
        "!python3 inference_video.py --exp=1 --fps={fps}  --multi={muliplicacion} --video={file_name} --scale=2"
      ],
      "metadata": {
        "colab": {
          "base_uri": "https://localhost:8080/"
        },
        "id": "SSvefG1krkw5",
        "outputId": "a6ae93b2-74bf-4809-d1ca-710a10b451b0"
      },
      "execution_count": null,
      "outputs": [
        {
          "output_type": "stream",
          "name": "stdout",
          "text": [
            "Loaded 3.x/4.x HD model.\n",
            "output2_outx2.mp4, 2834.0 frames in total, 29.97002997002997FPS to 60FPS\n",
            "Will not merge audio because using png or fps flag!\n",
            " 19% 526/2834.0 [19:59<1:25:27,  2.22s/it]Traceback (most recent call last):\n",
            "  File \"/content/Practical-RIFE/inference_video.py\", line 266, in <module>\n",
            "    mid = (((mid[0] * 255.).byte().cpu().numpy().transpose(1, 2, 0)))\n",
            "KeyboardInterrupt\n",
            "^C\n"
          ]
        }
      ]
    },
    {
      "cell_type": "code",
      "source": [
        "#@markdown # **5) ** Poner audio original +4k HDR\n",
        "\n",
        "import subprocess\n",
        "import os\n",
        "name_file_sin_ext=os.path.splitext(file_name)[0]\n",
        "\n",
        "fileFullNamme= f'{name_file_sin_ext}_{str(muliplicacion)}X_{fps}fps.mp4'\n",
        "print(fileFullNamme)\n",
        "\n",
        "\n",
        "if os.path.exists(f'/content/Practical-RIFE/Audio_{fileFullNamme}'):\n",
        "    os.remove(f'/content/Practical-RIFE/Audio_{fileFullNamme}')\n",
        "\n",
        "cmd = [\n",
        "      'ffmpeg',\n",
        "\n",
        "     '-i',\n",
        "     f'/content/Practical-RIFE/{fileFullNamme}',\n",
        "      '-i',\n",
        "        f'/content/Practical-RIFE/{file_name}',\n",
        "      '-map', '0:v',\n",
        "      '-map', '1:a',\n",
        "  '-vf',\"scale=3840:2160 ,hqdn3d=4:3:6:5,unsharp=5:5:1:5:5:1,eq=brightness=0.022:saturation=1.3:contrast=1.1,curves=all=0/0 0.2/0.3 0.7/1 1/1'\",\n",
        "      #activar filtro video si quermos a 4k hdr\n",
        "      '-c:v',\n",
        "       'h264_nvenc',\n",
        "       '-c:a',\n",
        "        'mp3',\n",
        "      '-r',\n",
        "      '60',\n",
        "       '-b:v','70M', #birate 8M (720P), 10M (720P:60FPS), 15M (1080P),25M(1080P:60FPS) ,40M(2K),50M(2K:60FP) 60M(4K:60FP)\n",
        "\n",
        "\n",
        "       f'/content/Practical-RIFE/Audio_{fileFullNamme}'\n",
        "\n",
        "]\n",
        "\n",
        "\n",
        "process = subprocess.Popen(cmd, stdout=subprocess.PIPE, stderr=subprocess.PIPE)\n",
        "stdout, stderr = process.communicate()\n",
        "if process.returncode != 0:\n",
        "    print(stderr)\n",
        "    raise RuntimeError(stderr)\n",
        "else:\n",
        "    print(\"Se puso el audio \")"
      ],
      "metadata": {
        "colab": {
          "base_uri": "https://localhost:8080/"
        },
        "id": "TRQ-p6SMrrSl",
        "outputId": "f49da195-ddaf-4ebb-b1bd-0798cce8966b"
      },
      "execution_count": null,
      "outputs": [
        {
          "output_type": "stream",
          "name": "stdout",
          "text": [
            "Mejoradopaprikaintrodst_2X_60fps.mp4\n",
            "Se puso el audio \n"
          ]
        }
      ]
    },
    {
      "cell_type": "code",
      "source": [
        "\n",
        "#@markdown # **6)Descargar archivo mejorado**\n",
        "#@markdown Se pasara el archivo a nuestro drive\n",
        "import os\n",
        "from google.colab import files\n",
        "\n",
        "\n",
        "\n",
        "\n",
        "if drive_mounted:\n",
        "  if os.path.exists('/content/drive/MyDrive/Real-Rife-Videos') is not True:\n",
        "    os.makedirs('/content/drive/MyDrive/Real-Rife-Videos')\n",
        "  shutil.move(f'/content/Practical-RIFE/Audio_{fileFullNamme}',f'/content/drive/MyDrive/Real-Rife-Videos/')\n",
        "  print(f\"MOviendo {fileFullNamme} el archivo a la carpetaReal-Rife-Videos en tu Drive\")\n"
      ],
      "metadata": {
        "colab": {
          "base_uri": "https://localhost:8080/"
        },
        "id": "lDdwZucirzWN",
        "outputId": "0a982c9a-e94c-40a6-d505-2377924f6a2f"
      },
      "execution_count": null,
      "outputs": [
        {
          "output_type": "stream",
          "name": "stdout",
          "text": [
            "MOviendo Mejoradopaprikaintrodst_2X_60fps.mp4 el archivo a la carpetaReal-Rife-Videos en tu Drive\n"
          ]
        }
      ]
    },
    {
      "cell_type": "markdown",
      "source": [
        "# UTILIADES: (OJO NUESTRO ARCHVIO DEBE DE ESTAR SELCINADO EN DRIVE)\n"
      ],
      "metadata": {
        "id": "9a9ru-P7svYx"
      }
    },
    {
      "cell_type": "code",
      "source": [
        "#@markdown #   ** Convertir a 10fps (Opcional Experimental)\n",
        "#@markdown Si nuestro archvio no esta en 10fps  los videos van a salir mas largos o cortos que no encajaran con el audio\n",
        "\n",
        "import subprocess\n",
        "\n",
        "cmd = [\n",
        "      'ffmpeg',\n",
        "     '-i',f'/content/Practical-RIFE/{file_name}',\n",
        "\n",
        "     #'-vf',\"scale=3840:2160\",\n",
        "\n",
        "    \"-r\", '10',  # Establece la tasa de cuadros de salida en 30 fps\n",
        "    \"-c:v\", \"h264_nvenc\",  # Utiliza el códec NVENC H.264\n",
        "    \"-c:a\", \"aac\",  # Códec de audio (puedes ajustarlo según tus necesidades)\n",
        "    \"-strict\", \"experimental\",\n",
        "\n",
        "      \"-b:v\",\"40M\",#birate 8M (720P), 10M (720P:60FPS), 15M (1080P),25M(1080P:60FPS) ,40M(2K),50M(2K:60FP) 60M(4K:60FP)\n",
        "\n",
        "\n",
        "       f'/content/Practical-RIFE/10_{file_name}'\n",
        "\n",
        "]\n",
        "\n",
        "\n",
        "process = subprocess.Popen(cmd, stdout=subprocess.PIPE, stderr=subprocess.PIPE)\n",
        "stdout, stderr = process.communicate()\n",
        "if process.returncode != 0:\n",
        "    print(stderr)\n",
        "\n",
        "    raise RuntimeError(stderr)\n",
        "else:\n",
        "\n",
        "  shutil.move(f'/content/Practical-RIFE/10_{file_name}', f'/content/Practical-RIFE/{file_name}')\n"
      ],
      "metadata": {
        "id": "SAPlhu-Xsz2g"
      },
      "execution_count": null,
      "outputs": []
    },
    {
      "cell_type": "code",
      "source": [
        "#@markdown #  ** Convertir a 20fps (Opcional Experimental)\n",
        "#@markdown Si nuestro archvio no esta en 20fps  los videos van a salir mas largos o cortos que no encajaran con el audio\n",
        "\n",
        "import subprocess\n",
        "\n",
        "cmd = [\n",
        "      'ffmpeg',\n",
        "     '-i',f'/content/Practical-RIFE/{file_name}',\n",
        "\n",
        "     #'-vf',\"scale=3840:2160\",\n",
        "\n",
        "    \"-r\", '20',  # Establece la tasa de cuadros de salida en 30 fps\n",
        "    \"-c:v\", \"h264_nvenc\",  # Utiliza el códec NVENC H.264\n",
        "    \"-c:a\", \"aac\",  # Códec de audio (puedes ajustarlo según tus necesidades)\n",
        "    \"-strict\", \"experimental\",\n",
        "\n",
        "      #\"-b:v\",\"40M\",#birate 8M (720P), 10M (720P:60FPS), 15M (1080P),25M(1080P:60FPS) ,40M(2K),50M(2K:60FP) 60M(4K:60FP)\n",
        "\n",
        "\n",
        "       f'/content/Practical-RIFE/20_{file_name}'\n",
        "\n",
        "]\n",
        "\n",
        "\n",
        "process = subprocess.Popen(cmd, stdout=subprocess.PIPE, stderr=subprocess.PIPE)\n",
        "stdout, stderr = process.communicate()\n",
        "if process.returncode != 0:\n",
        "    print(stderr)\n",
        "\n",
        "    raise RuntimeError(stderr)\n",
        "else:\n",
        "\n",
        "  shutil.move(f'/content/Practical-RIFE/20_{file_name}', f'/content/Practical-RIFE/{file_name}')\n"
      ],
      "metadata": {
        "id": "4mB4WXgWs3Ck",
        "outputId": "fd27f255-0704-42ad-f414-dfb549ac0243",
        "colab": {
          "base_uri": "https://localhost:8080/",
          "height": 390
        }
      },
      "execution_count": null,
      "outputs": [
        {
          "output_type": "error",
          "ename": "KeyboardInterrupt",
          "evalue": "ignored",
          "traceback": [
            "\u001b[0;31m---------------------------------------------------------------------------\u001b[0m",
            "\u001b[0;31mKeyboardInterrupt\u001b[0m                         Traceback (most recent call last)",
            "\u001b[0;32m<ipython-input-7-7b79c66183ed>\u001b[0m in \u001b[0;36m<cell line: 26>\u001b[0;34m()\u001b[0m\n\u001b[1;32m     24\u001b[0m \u001b[0;34m\u001b[0m\u001b[0m\n\u001b[1;32m     25\u001b[0m \u001b[0mprocess\u001b[0m \u001b[0;34m=\u001b[0m \u001b[0msubprocess\u001b[0m\u001b[0;34m.\u001b[0m\u001b[0mPopen\u001b[0m\u001b[0;34m(\u001b[0m\u001b[0mcmd\u001b[0m\u001b[0;34m,\u001b[0m \u001b[0mstdout\u001b[0m\u001b[0;34m=\u001b[0m\u001b[0msubprocess\u001b[0m\u001b[0;34m.\u001b[0m\u001b[0mPIPE\u001b[0m\u001b[0;34m,\u001b[0m \u001b[0mstderr\u001b[0m\u001b[0;34m=\u001b[0m\u001b[0msubprocess\u001b[0m\u001b[0;34m.\u001b[0m\u001b[0mPIPE\u001b[0m\u001b[0;34m)\u001b[0m\u001b[0;34m\u001b[0m\u001b[0;34m\u001b[0m\u001b[0m\n\u001b[0;32m---> 26\u001b[0;31m \u001b[0mstdout\u001b[0m\u001b[0;34m,\u001b[0m \u001b[0mstderr\u001b[0m \u001b[0;34m=\u001b[0m \u001b[0mprocess\u001b[0m\u001b[0;34m.\u001b[0m\u001b[0mcommunicate\u001b[0m\u001b[0;34m(\u001b[0m\u001b[0;34m)\u001b[0m\u001b[0;34m\u001b[0m\u001b[0;34m\u001b[0m\u001b[0m\n\u001b[0m\u001b[1;32m     27\u001b[0m \u001b[0;32mif\u001b[0m \u001b[0mprocess\u001b[0m\u001b[0;34m.\u001b[0m\u001b[0mreturncode\u001b[0m \u001b[0;34m!=\u001b[0m \u001b[0;36m0\u001b[0m\u001b[0;34m:\u001b[0m\u001b[0;34m\u001b[0m\u001b[0;34m\u001b[0m\u001b[0m\n\u001b[1;32m     28\u001b[0m     \u001b[0mprint\u001b[0m\u001b[0;34m(\u001b[0m\u001b[0mstderr\u001b[0m\u001b[0;34m)\u001b[0m\u001b[0;34m\u001b[0m\u001b[0;34m\u001b[0m\u001b[0m\n",
            "\u001b[0;32m/usr/lib/python3.10/subprocess.py\u001b[0m in \u001b[0;36mcommunicate\u001b[0;34m(self, input, timeout)\u001b[0m\n\u001b[1;32m   1152\u001b[0m \u001b[0;34m\u001b[0m\u001b[0m\n\u001b[1;32m   1153\u001b[0m             \u001b[0;32mtry\u001b[0m\u001b[0;34m:\u001b[0m\u001b[0;34m\u001b[0m\u001b[0;34m\u001b[0m\u001b[0m\n\u001b[0;32m-> 1154\u001b[0;31m                 \u001b[0mstdout\u001b[0m\u001b[0;34m,\u001b[0m \u001b[0mstderr\u001b[0m \u001b[0;34m=\u001b[0m \u001b[0mself\u001b[0m\u001b[0;34m.\u001b[0m\u001b[0m_communicate\u001b[0m\u001b[0;34m(\u001b[0m\u001b[0minput\u001b[0m\u001b[0;34m,\u001b[0m \u001b[0mendtime\u001b[0m\u001b[0;34m,\u001b[0m \u001b[0mtimeout\u001b[0m\u001b[0;34m)\u001b[0m\u001b[0;34m\u001b[0m\u001b[0;34m\u001b[0m\u001b[0m\n\u001b[0m\u001b[1;32m   1155\u001b[0m             \u001b[0;32mexcept\u001b[0m \u001b[0mKeyboardInterrupt\u001b[0m\u001b[0;34m:\u001b[0m\u001b[0;34m\u001b[0m\u001b[0;34m\u001b[0m\u001b[0m\n\u001b[1;32m   1156\u001b[0m                 \u001b[0;31m# https://bugs.python.org/issue25942\u001b[0m\u001b[0;34m\u001b[0m\u001b[0;34m\u001b[0m\u001b[0m\n",
            "\u001b[0;32m/usr/lib/python3.10/subprocess.py\u001b[0m in \u001b[0;36m_communicate\u001b[0;34m(self, input, endtime, orig_timeout)\u001b[0m\n\u001b[1;32m   2019\u001b[0m                             'failed to raise TimeoutExpired.')\n\u001b[1;32m   2020\u001b[0m \u001b[0;34m\u001b[0m\u001b[0m\n\u001b[0;32m-> 2021\u001b[0;31m                     \u001b[0mready\u001b[0m \u001b[0;34m=\u001b[0m \u001b[0mselector\u001b[0m\u001b[0;34m.\u001b[0m\u001b[0mselect\u001b[0m\u001b[0;34m(\u001b[0m\u001b[0mtimeout\u001b[0m\u001b[0;34m)\u001b[0m\u001b[0;34m\u001b[0m\u001b[0;34m\u001b[0m\u001b[0m\n\u001b[0m\u001b[1;32m   2022\u001b[0m                     \u001b[0mself\u001b[0m\u001b[0;34m.\u001b[0m\u001b[0m_check_timeout\u001b[0m\u001b[0;34m(\u001b[0m\u001b[0mendtime\u001b[0m\u001b[0;34m,\u001b[0m \u001b[0morig_timeout\u001b[0m\u001b[0;34m,\u001b[0m \u001b[0mstdout\u001b[0m\u001b[0;34m,\u001b[0m \u001b[0mstderr\u001b[0m\u001b[0;34m)\u001b[0m\u001b[0;34m\u001b[0m\u001b[0;34m\u001b[0m\u001b[0m\n\u001b[1;32m   2023\u001b[0m \u001b[0;34m\u001b[0m\u001b[0m\n",
            "\u001b[0;32m/usr/lib/python3.10/selectors.py\u001b[0m in \u001b[0;36mselect\u001b[0;34m(self, timeout)\u001b[0m\n\u001b[1;32m    414\u001b[0m         \u001b[0mready\u001b[0m \u001b[0;34m=\u001b[0m \u001b[0;34m[\u001b[0m\u001b[0;34m]\u001b[0m\u001b[0;34m\u001b[0m\u001b[0;34m\u001b[0m\u001b[0m\n\u001b[1;32m    415\u001b[0m         \u001b[0;32mtry\u001b[0m\u001b[0;34m:\u001b[0m\u001b[0;34m\u001b[0m\u001b[0;34m\u001b[0m\u001b[0m\n\u001b[0;32m--> 416\u001b[0;31m             \u001b[0mfd_event_list\u001b[0m \u001b[0;34m=\u001b[0m \u001b[0mself\u001b[0m\u001b[0;34m.\u001b[0m\u001b[0m_selector\u001b[0m\u001b[0;34m.\u001b[0m\u001b[0mpoll\u001b[0m\u001b[0;34m(\u001b[0m\u001b[0mtimeout\u001b[0m\u001b[0;34m)\u001b[0m\u001b[0;34m\u001b[0m\u001b[0;34m\u001b[0m\u001b[0m\n\u001b[0m\u001b[1;32m    417\u001b[0m         \u001b[0;32mexcept\u001b[0m \u001b[0mInterruptedError\u001b[0m\u001b[0;34m:\u001b[0m\u001b[0;34m\u001b[0m\u001b[0;34m\u001b[0m\u001b[0m\n\u001b[1;32m    418\u001b[0m             \u001b[0;32mreturn\u001b[0m \u001b[0mready\u001b[0m\u001b[0;34m\u001b[0m\u001b[0;34m\u001b[0m\u001b[0m\n",
            "\u001b[0;31mKeyboardInterrupt\u001b[0m: "
          ]
        }
      ]
    },
    {
      "cell_type": "code",
      "source": [
        "#@markdown #  ** Convertir a 30fps (Opcional)\n",
        "#@markdown Si nuestro archvio no esta en 30fps  los videos van a salir mas largos o cortos que no encajaran con el audio\n",
        "\n",
        "import subprocess\n",
        "\n",
        "cmd = [\n",
        "      'ffmpeg',\n",
        "     '-i',f'/content/Practical-RIFE/{file_name}',\n",
        "\n",
        "     #'-vf',\"scale=3840:2160\",\n",
        "\n",
        "    \"-r\", '30',  # Establece la tasa de cuadros de salida en 30 fps\n",
        "    \"-c:v\", \"h264_nvenc\",  # Utiliza el códec NVENC H.264\n",
        "    \"-c:a\", \"aac\",  # Códec de audio (puedes ajustarlo según tus necesidades)\n",
        "    \"-strict\", \"experimental\",\n",
        "\n",
        "      \"-b:v\",\"60M\",#birate 8M (720P), 10M (720P:60FPS), 15M (1080P),25M(1080P:60FPS) ,40M(2K),50M(2K:60FP) 60M(4K:60FP)\n",
        "\n",
        "\n",
        "       f'/content/Practical-RIFE/30_{file_name}'\n",
        "\n",
        "]\n",
        "\n",
        "\n",
        "process = subprocess.Popen(cmd, stdout=subprocess.PIPE, stderr=subprocess.PIPE)\n",
        "stdout, stderr = process.communicate()\n",
        "if process.returncode != 0:\n",
        "    print(stderr)\n",
        "\n",
        "    raise RuntimeError(stderr)\n",
        "else:\n",
        "\n",
        "  shutil.move(f'/content/Practical-RIFE/30_{file_name}', f'/content/Practical-RIFE/{file_name}')"
      ],
      "metadata": {
        "id": "ysYW-fRjs44V"
      },
      "execution_count": null,
      "outputs": []
    },
    {
      "cell_type": "code",
      "source": [
        "#@markdown #  ** Subir a youtube (Opcional)\n",
        "#@markdown\n",
        "\n",
        "!pip install google-auth google-auth-oauthlib google-auth-httplib2 google-api-python-client\n",
        "\n",
        "from google.colab import auth\n",
        "from googleapiclient.http import MediaFileUpload\n",
        "from googleapiclient.discovery import build\n",
        "\n",
        "# Autentica con tu cuenta de Google\n",
        "auth.authenticate_user()\n",
        "\n",
        "# Crea una instancia de la API de YouTube\n",
        "youtube = build('youtube', 'v3')\n",
        "\n",
        "# Especifica el ID de la cuenta de YouTube a la que deseas subir el video\n",
        "channel_id ='UCnIQSwiMpOJ1ufGj58vSSMA' #@param{type: \"string\"}\n",
        "\n",
        "# Ruta al video que deseas subir\n",
        "video_path = '/content/drive/MyDrive/ESRGAN-Videos/MejoradoTrailer.mp4.mp4'#@param{type: \"string\"}\n",
        "\n",
        "# Carga el video\n",
        "media = MediaFileUpload(video_path)\n",
        "\n",
        "# Sube el video a YouTube\n",
        "\n",
        "titulo_video='Perfect Blue  Trailer [4k 60fps HDR]'#@param{type: \"string\"}\n",
        "Descripcion='Perfect blue movie trailer 4k 60fps Hdr'#@param{type: \"string\"}\n",
        "Categoria='10'#@param{type: \"string\"}\n",
        "Estado='Private'#@param{type: \"string\"}\n",
        "request = youtube.videos().insert(\n",
        "    part=\"snippet,status\",\n",
        "    body={\n",
        "      \"snippet\": {\n",
        "        \"title\": {titulo_video},\n",
        "        \"description\": {Descripcion},\n",
        "        \"categoryId\": {Categoria},  # ID de la categoría de YouTube (puedes ajustar esto)\n",
        "      },\n",
        "      \"status\": {\n",
        "        \"privacyStatus\":{Estado},  # Configura la privacidad del video\n",
        "      },\n",
        "    },\n",
        "    media_body=media\n",
        ")\n",
        "\n",
        "response = request.execute()\n",
        "\n",
        "print(f\"Video subido exitosamente. Enlace: https://www.youtube.com/watch?v={response['id']}\")"
      ],
      "metadata": {
        "id": "CCf2rC-OjOTs"
      },
      "execution_count": null,
      "outputs": []
    }
  ]
}