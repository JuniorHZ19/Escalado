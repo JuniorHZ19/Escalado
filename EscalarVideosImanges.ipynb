{
  "nbformat": 4,
  "nbformat_minor": 0,
  "metadata": {
    "colab": {
      "provenance": [],
      "gpuType": "T4",
      "include_colab_link": true
    },
    "kernelspec": {
      "name": "python3",
      "display_name": "Python 3"
    },
    "language_info": {
      "name": "python"
    },
    "accelerator": "GPU"
  },
  "cells": [
    {
      "cell_type": "markdown",
      "metadata": {
        "id": "view-in-github",
        "colab_type": "text"
      },
      "source": [
        "<a href=\"https://colab.research.google.com/github/JuniorHZ19/Escalado/blob/main/EscalarVideosImanges.ipynb\" target=\"_parent\"><img src=\"https://colab.research.google.com/assets/colab-badge.svg\" alt=\"Open In Colab\"/></a>"
      ]
    },
    {
      "cell_type": "code",
      "execution_count": null,
      "metadata": {
        "id": "jIGpplLmraCI"
      },
      "outputs": [],
      "source": [
        "#@markdown # **1) Descargar Librerias**\n",
        "# # Clone Real-ESRGAN and enter the Real-ESRGAN\n",
        "from google.colab import drive, files\n",
        "import os, shutil, subprocess\n",
        "drive_mounted = False\n",
        "temp_folder = 'tmp_frames'\n",
        "result_folder = 'results'\n",
        "!git clone https://github.com/xinntao/Real-ESRGAN.git\n",
        "%cd Real-ESRGAN\n",
        "# Set up the environment\n",
        "!pip install basicsr facexlib gfpgan\n",
        "!pip install -r requirements.txt\n",
        "!python setup.py develop\n",
        "\n",
        "%cd .."
      ]
    },
    {
      "cell_type": "code",
      "source": [
        "#@markdown # **2) Descargar Modelos**\n",
        "!pip install gdown\n",
        "\n",
        "!gdown --id 1a6EZMTmsabf7C8YCTDqraoxNOSPsuXsD\n",
        "!7z e ModelosESRGAN.zip\n",
        "\n",
        "# Ruta al archivo ZIP que deseas descomprimir\n",
        "archivo_zip = '/content/modelScaled.zip'\n",
        "\n",
        "import zipfile\n",
        "# Directorio de destino para la descompresión\n",
        "directorio_destino = '/content/Real-ESRGAN/experiments/pretrained_models'  # Cambia '/content/destino/' al directorio donde deseas descomprimir los archivos\n",
        "\n",
        "\n",
        "with zipfile.ZipFile(archivo_zip, 'r') as zip_ref:\n",
        "    # Descomprime los archivos en el directorio de destino\n",
        "    zip_ref.extractall(directorio_destino)\n",
        "\n",
        "# Verifica los archivos descomprimidos\n",
        "import os\n",
        "os.listdir(directorio_destino)\n"
      ],
      "metadata": {
        "id": "Cr9gu6JBuQK_"
      },
      "execution_count": null,
      "outputs": []
    },
    {
      "cell_type": "code",
      "source": [
        "#@markdown # **3) ** Montar Google Drive\n",
        "\n",
        "if os.path.exists('/content/drive') is not True:\n",
        "  drive.mount('/content/drive')"
      ],
      "metadata": {
        "id": "mLPg9gmz1oSk"
      },
      "execution_count": null,
      "outputs": []
    },
    {
      "cell_type": "code",
      "source": [
        "#@markdown # **3.5) ** Montar el archivo de Google Drive\n",
        "#@markdown Pon la ruta del archivo en tu google drive \"content/drive/MyDrive/... y da click\"\n",
        "\n",
        "\n",
        "\n",
        "drive_mounted = True\n",
        "drive_path = '/content/drive/MyDrive/data_dst_muestra.mp4'#@param{type: \"string\"}\n",
        "file_name = drive_path.split('/')[-1]\n",
        "input_path = f'/content/drive/MyDrive{drive_path}'\n",
        "print(\"video path set:\\n\",input_path)"
      ],
      "metadata": {
        "id": "U1kd5kQu06CQ"
      },
      "execution_count": null,
      "outputs": []
    },
    {
      "cell_type": "code",
      "source": [
        "#@markdown # **4) Extracter Frames del Video**\n",
        "\n",
        "if os.path.isdir(temp_folder):\n",
        "  shutil.rmtree(temp_folder)\n",
        "\n",
        "os.mkdir(temp_folder)\n",
        "print(f'Extracting Frames to: {temp_folder}')\n",
        "cmd = [\n",
        "       'ffmpeg',\n",
        "       '-i',\n",
        "       drive_path,\n",
        "       '-qscale:v',\n",
        "       '1',\n",
        "       '-qmin',\n",
        "       '1',\n",
        "       '-qmax',\n",
        "       '1',\n",
        "       '-vsync',\n",
        "       '0',\n",
        "       f'{temp_folder}/frame_%08d.png'\n",
        "]\n",
        "process = subprocess.Popen(cmd, stdout=subprocess.PIPE, stderr=subprocess.PIPE)\n",
        "stdout, stderr = process.communicate()\n",
        "if process.returncode != 0:\n",
        "    print(stderr)\n",
        "    raise RuntimeError(stderr)\n",
        "else:\n",
        "    frame_count = len(os.listdir(f'/content/{temp_folder}'))\n",
        "    print(f\"Done, Extracted {frame_count} Frames\")\n"
      ],
      "metadata": {
        "id": "pm2E_fza3ABU"
      },
      "execution_count": null,
      "outputs": []
    },
    {
      "cell_type": "code",
      "source": [
        "#@markdown # **4) Run ERSGAN y escalar**\n",
        "\n",
        "#@markdown Camibar el nombre del modelo que queramos usar :\n",
        "\n",
        "#@markdown RealESRGAN_x2plus,RealESRGAN_x4plus ,RealESRGAN_x4plus_anime_6B\n",
        "\n",
        "%cd /content/Real-ESRGAN\n",
        "frame_count = len(os.listdir(f'/content/{temp_folder}'))\n",
        "print(f\"Enhancing {frame_count} Frames with ESRGAN...\")\n",
        "cmd = [\n",
        "       'python',\n",
        "       'inference_realesrgan.py',\n",
        "       '-n',\n",
        "       'RealESRGAN_x4plus_anime_6B',\n",
        "       '-i',\n",
        "       f'../{temp_folder}',\n",
        "       '--outscale',\n",
        "       '2',\n",
        "\n",
        "]\n",
        "#process = subprocess.Popen(cmd, stdout=subprocess.PIPE, stderr=subprocess.PIPE, text=True)\n",
        "# stdout, stderr = process.communicate()\n",
        "# if process.returncode != 0:\n",
        "#     print(stderr)\n",
        "#     raise RuntimeError(stderr)\n",
        "# else:\n",
        "#     print(\"Done Extracting Frames\")\n",
        "!{' '.join(cmd)}\n",
        "print(\"Done Enhancing Frames\")\n",
        "%cd .."
      ],
      "metadata": {
        "id": "aFGZ9EsX3qtk"
      },
      "execution_count": null,
      "outputs": []
    },
    {
      "cell_type": "code",
      "source": [
        "#@markdown # **5) Crear el nuevo video de  los frames escalados\n",
        "import subprocess\n",
        "frame_count = len(os.listdir(f'/content/{temp_folder}'))\n",
        "if os.path.isdir(result_folder):\n",
        "  shutil.rmtree(result_folder)\n",
        "os.mkdir(result_folder)\n",
        "\n",
        "fps = 30 #@param {type: \"number\"}\n",
        "print(f\"Recompiling {frame_count} Frames into Video...\")\n",
        "cmd = [\n",
        "      'ffmpeg',\n",
        "    '-framerate',str(fps),\n",
        "     '-i',\n",
        "       f'/content/Real-ESRGAN/results/frame_%08d_out.png',\n",
        "      '-i',\n",
        "      drive_path,\n",
        "\n",
        "       '-map',\n",
        "       '0:v',\n",
        "       '-map',\n",
        "       '1:a',\n",
        "       '-c:v',\n",
        "       'h264_nvenc',\n",
        "       '-c:a',\n",
        "        'mp3',\n",
        "\n",
        "       '-b:v',\n",
        "       '40M', #birate 5M (720P), 6M (720P:60FPS),8M(1080P), 10M (1080P),15M(1080P:60FPS) ,25M(2K),30M(2K:60FP) 40M(4K:60FP)\n",
        "\n",
        "\n",
        "       f'{result_folder}/Mejorado{file_name}.mp4'\n",
        "\n",
        "]\n",
        "\n",
        "\n",
        "process = subprocess.Popen(cmd, stdout=subprocess.PIPE, stderr=subprocess.PIPE)\n",
        "stdout, stderr = process.communicate()\n",
        "if process.returncode != 0:\n",
        "    print(stderr)\n",
        "    raise RuntimeError(stderr)\n",
        "else:\n",
        "    print(\"Done Recreating Video\")"
      ],
      "metadata": {
        "id": "Di8JaeP7_XXU"
      },
      "execution_count": null,
      "outputs": []
    },
    {
      "cell_type": "code",
      "source": [
        "#@markdown # **6)Descargar archivo mejorado**\n",
        "#@markdown Se pasara el archivo a nuestro drive\n",
        "\n",
        "from google.colab import files\n",
        "\n",
        "filename= os.listdir(result_folder)\n",
        "if drive_mounted:\n",
        "  if os.path.exists('/content/drive/MyDrive/ESRGAN-Videos') is not True:\n",
        "    os.makedirs('/content/drive/MyDrive/ESRGAN-Videos')\n",
        "  shutil.move(f'{result_folder}/{filename[0]}',f'/content/drive/MyDrive/ESRGAN-Videos/{filename[0]}')\n",
        "  print(f\"MOviendo {filename[0]} el archivo a la carpeta ESRGAN-Videos en tu Drive\")\n",
        "else:\n",
        "  files.download(f'{result_folder}/{filename[0]}')"
      ],
      "metadata": {
        "id": "n-FoQLcF5AFr"
      },
      "execution_count": null,
      "outputs": []
    },
    {
      "cell_type": "code",
      "source": [
        "#@markdown # **7)Opcional Borrar archivos temporales  solo dar si vamos a escalar otro video\n",
        "#@markdown  Solo dar click si vamos a escalar otro video\n",
        "\n",
        "import os\n",
        "\n",
        "# Ruta de la carpeta que contiene los archivos que deseas eliminar\n",
        "carpetatemp = '/content/tmp_frames'\n",
        "carpetaresult='/content/Real-ESRGAN/results'\n",
        "\n",
        "# Lista todos los archivos en la carpeta\n",
        "archivos = os.listdir(carpetatemp)\n",
        "\n",
        "# Itera a través de los archivos y elimínalos\n",
        "for archivo in archivos:\n",
        "    ruta_completa = os.path.join(carpetatemp, archivo)\n",
        "    if os.path.isfile(ruta_completa):\n",
        "        os.remove(ruta_completa)\n",
        "        print(f\"Archivo eliminado: {ruta_completa}\")\n",
        "\n",
        "archivos = os.listdir(carpetaresult)\n",
        "for archivo in archivos:\n",
        "    ruta_completa = os.path.join(carpetaresult,archivo)\n",
        "    if os.path.isfile(ruta_completa):\n",
        "        os.remove(ruta_completa)\n",
        "        print(f\"Archivo eliminado: {ruta_completa}\")\n"
      ],
      "metadata": {
        "id": "THw-jv-QRelN"
      },
      "execution_count": null,
      "outputs": []
    }
  ]
}