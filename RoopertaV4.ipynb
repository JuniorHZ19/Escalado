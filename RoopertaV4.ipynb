{
  "cells": [
    {
      "cell_type": "markdown",
      "metadata": {
        "id": "view-in-github",
        "colab_type": "text"
      },
      "source": [
        "<a href=\"https://colab.research.google.com/github/JuniorHZ19/HerramientasIA/blob/main/RoopertaV4.ipynb\" target=\"_parent\"><img src=\"https://colab.research.google.com/assets/colab-badge.svg\" alt=\"Open In Colab\"/></a>"
      ]
    },
    {
      "cell_type": "code",
      "execution_count": null,
      "metadata": {
        "id": "0aHr4Fo-7IRy",
        "cellView": "form"
      },
      "outputs": [],
      "source": [
        "#@markdown # **1) Clone roop repo and install dependencies**\n",
        "\n",
        "!git clone https://github.com/based9based/roop\n",
        "%cd roop\n",
        "!pip install -r requirements.txt"
      ]
    },
    {
      "cell_type": "code",
      "execution_count": null,
      "metadata": {
        "id": "UQH2exUYGTbK",
        "cellView": "form"
      },
      "outputs": [],
      "source": [
        "\n",
        "#@markdown # **2) download mode**\n",
        "\n",
        "!pip install gdown\n",
        "\n",
        "!gdown --id 1gVbVd0WEfNIweGtZdPmSWFhwqMOhzk4w\n",
        "!7z e RoopModel.zip\n",
        "\n",
        "# Ruta al archivo ZIP que deseas descomprimir\n",
        "archivo_zip = '/content/roop/RoopModel.zip'\n",
        "\n",
        "import zipfile\n",
        "# Directorio de destino para la descompresión\n",
        "directorio_destino = '/content/roop'  #\n",
        "\n",
        "\n",
        "with zipfile.ZipFile(archivo_zip, 'r') as zip_ref:\n",
        "    # Descomprime los archivos en el directorio de destino\n",
        "    zip_ref.extractall(directorio_destino)\n",
        "\n",
        "\n",
        "\n",
        "\n",
        "\n",
        "\n"
      ]
    },
    {
      "cell_type": "code",
      "source": [
        "#@markdown # **3) Montar Driver**\n",
        "from google.colab import drive, files\n",
        "drive.mount('/content/drive')"
      ],
      "metadata": {
        "id": "bk4Ap_uge_Sg",
        "cellView": "form"
      },
      "execution_count": null,
      "outputs": []
    },
    {
      "cell_type": "code",
      "source": [
        "#@markdown # **4.A)Agregar Nueva Data SOURCE**\n",
        "\n",
        "import os\n",
        "from google.colab import files\n",
        "\n",
        "ruta_carpeta = '/content/roop/data_src'\n",
        "\n",
        "if not os.path.exists(ruta_carpeta):\n",
        "        os.makedirs(ruta_carpeta)\n",
        "        print(f'Carpeta creada en: {ruta_carpeta}')\n",
        "else:\n",
        "        print(f'La carpeta ya existe en: {ruta_carpeta}')\n",
        "\n",
        "# Cargar una imagen desde tu computadora\n",
        "uploaded = files.upload()\n",
        "\n",
        "# Mueve el archivo cargado a la carpeta de destino\n",
        "for filename in uploaded.keys():\n",
        "    ruta_origen = filename\n",
        "    ruta_destino = os.path.join(ruta_carpeta, filename)\n",
        "    os.rename(ruta_origen, ruta_destino)\n",
        "    print(f'Archivo movido a: {ruta_destino}')\n",
        "\n",
        "\n"
      ],
      "metadata": {
        "id": "h_mytCNlnSXH",
        "cellView": "form"
      },
      "execution_count": null,
      "outputs": []
    },
    {
      "cell_type": "code",
      "source": [
        "#@markdown # 4.B)AGREGAR VIDEO DESTINO *\n",
        "\n",
        "ruta_dst=\"/content/roop/data_dst\"\n",
        "\n",
        "if not os.path.exists(ruta_dst):\n",
        "        os.makedirs(ruta_dst)\n",
        "        print(f'Carpeta creada en: {ruta_dst}')\n",
        "else:\n",
        "        print(f'La carpeta ya existe en: {ruta_dst}')\n",
        "\n",
        "# Cargar una imagen desde tu computadora\n",
        "uploaded = files.upload()\n",
        "\n",
        "# Mueve el archivo cargado a la carpeta de destino\n",
        "for filename in uploaded.keys():\n",
        "    ruta_origen = filename\n",
        "    ruta_destino = os.path.join(ruta_dst, filename)\n",
        "    os.rename(ruta_origen, ruta_destino)\n",
        "    print(f'Video movido a: {ruta_destino}')\n"
      ],
      "metadata": {
        "cellView": "form",
        "id": "Vql7SWLPuQnv"
      },
      "execution_count": null,
      "outputs": []
    },
    {
      "cell_type": "code",
      "source": [
        "#@markdown # **5.A)SELECIONA SOURCE**\n",
        "from IPython.display import display, Image\n",
        "import ipywidgets as widgets\n",
        "import os\n",
        "\n",
        "# Ruta de la carpeta de imágenes\n",
        "carpeta_imagenes = '/content/roop/data_src'\n",
        "\n",
        "# Obtén la lista de archivos de la carpeta de imágenes\n",
        "lista_archivos = os.listdir(carpeta_imagenes)\n",
        "lista_imagenes = [archivo for archivo in lista_archivos if archivo.lower().endswith(('.png', '.jpg', '.jpeg', '.gif'))]\n",
        "\n",
        "# Crea un widget Dropdown con la lista de imágenes\n",
        "dropdown_imagenes = widgets.Dropdown(\n",
        "    options=lista_imagenes,\n",
        "    description='Selecciona una imagen:'\n",
        ")\n",
        "\n",
        "# Función para mostrar la imagen seleccionada sin reescalado\n",
        "def mostrar_imagen(imagen):\n",
        "    global ruta_completa_src\n",
        "    ruta_completa_src = os.path.join(carpeta_imagenes, imagen)\n",
        "    display(Image(filename=ruta_completa_src))\n",
        "\n",
        "# Vincula la función de mostrar_imagen al cambio en el Dropdown\n",
        "widgets.interactive(mostrar_imagen, imagen=dropdown_imagenes)\n"
      ],
      "metadata": {
        "cellView": "form",
        "id": "Nj1x5P_aorfv"
      },
      "execution_count": null,
      "outputs": []
    },
    {
      "cell_type": "code",
      "source": [
        "#@markdown # **5.B)SELECIONA DESTINO**\n",
        "from IPython.display import display, Image\n",
        "import ipywidgets as widgets\n",
        "import os\n",
        "\n",
        "# Ruta de la carpeta de imágenes\n",
        "carpeta_dst = '/content/roop/data_dst'\n",
        "\n",
        "# Obtén la lista de archivos de la carpeta de imágenes\n",
        "lista_archivos = os.listdir(carpeta_dst)\n",
        "lista_videos = [archivo for archivo in lista_archivos if archivo.lower().endswith(('.mp4', '.avi', '.mkv', '.mov'))]\n",
        "# Crea un widget Dropdown con la lista de imágenes\n",
        "dropdown_videos = widgets.Dropdown(\n",
        "    options=lista_videos,\n",
        "    description='Selecciona una video:'\n",
        ")\n",
        "ruta_seleccionada_dst = None\n",
        "# Función para mostrar la imagen seleccionada sin reescalado\n",
        "def seleccionar_video(change):\n",
        "    global ruta_seleccionada_dst\n",
        "    ruta_seleccionada_dst = os.path.join(carpeta_dst, change.new)\n",
        "\n",
        "# Vincula la función de almacenar la ruta al cambio en el Dropdown\n",
        "dropdown_videos.observe(seleccionar_video, names='value')\n",
        "\n",
        "# Muestra el ComboBox\n",
        "display(dropdown_videos)\n",
        "\n",
        "# Puedes imprimir la ruta seleccionada si es necesario\n"
      ],
      "metadata": {
        "colab": {
          "base_uri": "https://localhost:8080/",
          "height": 49,
          "referenced_widgets": [
            "67e5d5145252471ba46e584a36041b01",
            "c568867fb93147788bf8d969eb56bfde",
            "905afcb353a647b3a28b40796ca75442"
          ]
        },
        "id": "WMocGPh_vfot",
        "outputId": "d3058eb4-a714-48ce-f5d8-94b0d7f0fc8a",
        "cellView": "form"
      },
      "execution_count": null,
      "outputs": [
        {
          "output_type": "display_data",
          "data": {
            "text/plain": [
              "Dropdown(description='Selecciona una video:', options=('DistantReflectingPooch-mobile.mp4', 'sydances.mp4', 's…"
            ],
            "application/vnd.jupyter.widget-view+json": {
              "version_major": 2,
              "version_minor": 0,
              "model_id": "67e5d5145252471ba46e584a36041b01"
            }
          },
          "metadata": {}
        }
      ]
    },
    {
      "cell_type": "code",
      "execution_count": null,
      "metadata": {
        "id": "lDYdfL3L71i1",
        "cellView": "form"
      },
      "outputs": [],
      "source": [
        "\n",
        "\n",
        "#@markdown # **6) Swapped!!!\"\n",
        "import os\n",
        "drive_mounted = True\n",
        "NombreFinalSwapped = ''#@param{type: \"string\"}\n",
        "many_faces = False # @param {type:\"boolean\"}\n",
        "face_enhancer=False # @param {type:\"boolean\"}\n",
        "\n",
        "if many_faces:\n",
        "  many_faces= '--many_faces'\n",
        "else: many_faces=''\n",
        "\n",
        "if face_enhancer:\n",
        "  face_enhancer= 'face_enhancer'\n",
        "else: face_enhancer=''\n",
        "\n",
        "ruta_output=\"/content/roop/output\"\n",
        "\n",
        "\n",
        "\n",
        "if not os.path.exists(ruta_output):\n",
        "        os.makedirs(ruta_output)\n",
        "        print(f'Carpeta creada en: {ruta_output}')\n",
        "else:\n",
        "        print(f'La carpeta ya existe en: {ruta_output}')\n",
        "\n",
        "dst=ruta_seleccionada_dst\n",
        "src=ruta_completa_src\n",
        "\n",
        "!python /content/roop/run.py --target {ruta_seleccionada_dst} {many_faces} --source {ruta_completa_src} -o '/content/roop/output/'{NombreFinalSwapped}'.mp4' --execution-provider cuda --frame-processor  face_swapper {face_enhancer}\n",
        "\n",
        "# Ejecuta el comando (puedes comentar esta línea si solo deseas imprimir el comando)\n"
      ]
    },
    {
      "cell_type": "code",
      "execution_count": null,
      "metadata": {
        "id": "dB-yigWx8zht",
        "cellView": "form"
      },
      "outputs": [],
      "source": [
        "#@markdown # 7) Comprimir videos de output!!!\"\n",
        "\n",
        "import shutil\n",
        "import zipfile\n",
        "\n",
        "from PIL import Image\n",
        "import os\n",
        "\n",
        "\n",
        "\n",
        "Nombre_Rar = ''#@param{type: \"string\"}\n",
        "# Ruta de la carpeta de salida para videos\n",
        "ruta_carpeta_videos = '/content/roop/output'\n",
        "\n",
        "\n",
        "\n",
        "\n",
        "# Ruta de la carpeta que deseas comprimir\n",
        "\n",
        "shutil.make_archive(Nombre_Rar, 'zip', ruta_carpeta_videos)\n",
        "\n",
        "\n"
      ]
    },
    {
      "cell_type": "code",
      "source": [
        "#@markdown # **8)Descargar Zip de outpus a drive**\n",
        "#@markdown Se pasara el archivo a nuestro drive\n",
        "import os\n",
        "\n",
        "from google.colab import files\n",
        "from google.colab import drive, files\n",
        "\n",
        "shutil.move(f'/content/roop/{Nombre_Rar}.zip', f'/content/drive/MyDrive')\n",
        "print(f\"MOviendo {Nombre_Rar} el archivo a la carpeta data_src en tu Drive\")"
      ],
      "metadata": {
        "id": "z6fapp1VcCL3",
        "cellView": "form"
      },
      "execution_count": null,
      "outputs": []
    },
    {
      "cell_type": "code",
      "source": [],
      "metadata": {
        "id": "o7wcgUL8cCAP"
      },
      "execution_count": null,
      "outputs": []
    }
  ],
  "metadata": {
    "accelerator": "GPU",
    "colab": {
      "provenance": [],
      "include_colab_link": true
    },
    "kernelspec": {
      "display_name": "Python 3",
      "name": "python3"
    },
    "language_info": {
      "name": "python"
    },
    "widgets": {
      "application/vnd.jupyter.widget-state+json": {
        "67e5d5145252471ba46e584a36041b01": {
          "model_module": "@jupyter-widgets/controls",
          "model_name": "DropdownModel",
          "model_module_version": "1.5.0",
          "state": {
            "_dom_classes": [],
            "_model_module": "@jupyter-widgets/controls",
            "_model_module_version": "1.5.0",
            "_model_name": "DropdownModel",
            "_options_labels": [
              "DistantReflectingPooch-mobile.mp4",
              "sydances.mp4",
              "ssstik.io_1700438144121.mp4",
              "leyladst.mp4",
              "Download.mp4",
              "emirudance.mp4"
            ],
            "_view_count": null,
            "_view_module": "@jupyter-widgets/controls",
            "_view_module_version": "1.5.0",
            "_view_name": "DropdownView",
            "description": "Selecciona una video:",
            "description_tooltip": null,
            "disabled": false,
            "index": 1,
            "layout": "IPY_MODEL_c568867fb93147788bf8d969eb56bfde",
            "style": "IPY_MODEL_905afcb353a647b3a28b40796ca75442"
          }
        },
        "c568867fb93147788bf8d969eb56bfde": {
          "model_module": "@jupyter-widgets/base",
          "model_name": "LayoutModel",
          "model_module_version": "1.2.0",
          "state": {
            "_model_module": "@jupyter-widgets/base",
            "_model_module_version": "1.2.0",
            "_model_name": "LayoutModel",
            "_view_count": null,
            "_view_module": "@jupyter-widgets/base",
            "_view_module_version": "1.2.0",
            "_view_name": "LayoutView",
            "align_content": null,
            "align_items": null,
            "align_self": null,
            "border": null,
            "bottom": null,
            "display": null,
            "flex": null,
            "flex_flow": null,
            "grid_area": null,
            "grid_auto_columns": null,
            "grid_auto_flow": null,
            "grid_auto_rows": null,
            "grid_column": null,
            "grid_gap": null,
            "grid_row": null,
            "grid_template_areas": null,
            "grid_template_columns": null,
            "grid_template_rows": null,
            "height": null,
            "justify_content": null,
            "justify_items": null,
            "left": null,
            "margin": null,
            "max_height": null,
            "max_width": null,
            "min_height": null,
            "min_width": null,
            "object_fit": null,
            "object_position": null,
            "order": null,
            "overflow": null,
            "overflow_x": null,
            "overflow_y": null,
            "padding": null,
            "right": null,
            "top": null,
            "visibility": null,
            "width": null
          }
        },
        "905afcb353a647b3a28b40796ca75442": {
          "model_module": "@jupyter-widgets/controls",
          "model_name": "DescriptionStyleModel",
          "model_module_version": "1.5.0",
          "state": {
            "_model_module": "@jupyter-widgets/controls",
            "_model_module_version": "1.5.0",
            "_model_name": "DescriptionStyleModel",
            "_view_count": null,
            "_view_module": "@jupyter-widgets/base",
            "_view_module_version": "1.2.0",
            "_view_name": "StyleView",
            "description_width": ""
          }
        }
      }
    }
  },
  "nbformat": 4,
  "nbformat_minor": 0
}