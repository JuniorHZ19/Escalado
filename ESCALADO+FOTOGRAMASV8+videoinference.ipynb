{
  "nbformat": 4,
  "nbformat_minor": 0,
  "metadata": {
    "colab": {
      "provenance": [],
      "gpuType": "T4",
      "include_colab_link": true
    },
    "kernelspec": {
      "name": "python3",
      "display_name": "Python 3"
    },
    "language_info": {
      "name": "python"
    },
    "accelerator": "GPU"
  },
  "cells": [
    {
      "cell_type": "markdown",
      "metadata": {
        "id": "view-in-github",
        "colab_type": "text"
      },
      "source": [
        "<a href=\"https://colab.research.google.com/github/JuniorHZ19/HerramientasIA/blob/main/ESCALADO%2BFOTOGRAMASV8%2Bvideoinference.ipynb\" target=\"_parent\"><img src=\"https://colab.research.google.com/assets/colab-badge.svg\" alt=\"Open In Colab\"/></a>"
      ]
    },
    {
      "cell_type": "code",
      "source": [
        "\n",
        "#@markdown # *0) ** Montar Google Drive (OBLIGATORIO)\n",
        "\n",
        "from google.colab import drive, files\n",
        "drive.mount('/content/drive')\n"
      ],
      "metadata": {
        "colab": {
          "base_uri": "https://localhost:8080/"
        },
        "id": "QzvXxvpvqcZy",
        "outputId": "e9650f07-8c8f-4ea9-bf1e-67d9f6662061"
      },
      "execution_count": 1,
      "outputs": [
        {
          "output_type": "stream",
          "name": "stdout",
          "text": [
            "Mounted at /content/drive\n"
          ]
        }
      ]
    },
    {
      "cell_type": "markdown",
      "source": [
        "#**ESRGAN**\n",
        "\n"
      ],
      "metadata": {
        "id": "j6Ue--eFqM_G"
      }
    },
    {
      "cell_type": "code",
      "execution_count": null,
      "metadata": {
        "id": "7syXvyWDp155"
      },
      "outputs": [],
      "source": [
        "\n",
        "#@markdown # **1) Descargar Librerias**\n",
        "# # Clone Real-ESRGAN and enter the Real-ESRGAN\n",
        "from google.colab import drive, files\n",
        "import os, shutil, subprocess\n",
        "drive_mounted = False\n",
        "temp_folder = 'tmp_frames'\n",
        "result_folder = 'results'\n",
        "!git clone https://github.com/xinntao/Real-ESRGAN.git\n",
        "%cd Real-ESRGAN\n",
        "# Set up the environment\n",
        "!pip install basicsr facexlib gfpgan\n",
        "!pip install -r requirements.txt\n",
        "!pip uninstall torch torchvision\n",
        "!pip install torch==2.0.0+cu117 torchvision==0.15.0+cu117 -f https://download.pytorch.org/whl/torch_stable.html\n",
        "!python setup.py develop\n",
        "!pip install ffmpeg-python\n",
        "%cd ..\n"
      ]
    },
    {
      "cell_type": "code",
      "source": [
        "\n",
        "#@markdown # **2) Descargar Modelos**\n",
        "!pip install gdown\n",
        "\n",
        "!gdown --id 1a6EZMTmsabf7C8YCTDqraoxNOSPsuXsD\n",
        "!7z e ModelosESRGAN.zip\n",
        "\n",
        "# Ruta al archivo ZIP que deseas descomprimir\n",
        "archivo_zip = '/content/modelScaled.zip'\n",
        "\n",
        "import zipfile\n",
        "# Directorio de destino para la descompresión\n",
        "directorio_destino = '/content/Real-ESRGAN/experiments/pretrained_models'  # Cambia '/content/destino/' al directorio donde deseas descomprimir los archivos\n",
        "\n",
        "\n",
        "with zipfile.ZipFile(archivo_zip, 'r') as zip_ref:\n",
        "    # Descomprime los archivos en el directorio de destino\n",
        "    zip_ref.extractall(directorio_destino)\n",
        "\n",
        "# Verifica los archivos descomprimidos\n",
        "import os\n",
        "os.listdir(directorio_destino)"
      ],
      "metadata": {
        "colab": {
          "base_uri": "https://localhost:8080/"
        },
        "id": "APTvICzDqDCy",
        "outputId": "b471a5a7-68c2-4743-a4d8-cdc20f43f6f0"
      },
      "execution_count": 3,
      "outputs": [
        {
          "output_type": "stream",
          "name": "stdout",
          "text": [
            "Requirement already satisfied: gdown in /usr/local/lib/python3.10/dist-packages (5.1.0)\n",
            "Requirement already satisfied: beautifulsoup4 in /usr/local/lib/python3.10/dist-packages (from gdown) (4.12.3)\n",
            "Requirement already satisfied: filelock in /usr/local/lib/python3.10/dist-packages (from gdown) (3.15.4)\n",
            "Requirement already satisfied: requests[socks] in /usr/local/lib/python3.10/dist-packages (from gdown) (2.31.0)\n",
            "Requirement already satisfied: tqdm in /usr/local/lib/python3.10/dist-packages (from gdown) (4.66.4)\n",
            "Requirement already satisfied: soupsieve>1.2 in /usr/local/lib/python3.10/dist-packages (from beautifulsoup4->gdown) (2.5)\n",
            "Requirement already satisfied: charset-normalizer<4,>=2 in /usr/local/lib/python3.10/dist-packages (from requests[socks]->gdown) (3.3.2)\n",
            "Requirement already satisfied: idna<4,>=2.5 in /usr/local/lib/python3.10/dist-packages (from requests[socks]->gdown) (3.7)\n",
            "Requirement already satisfied: urllib3<3,>=1.21.1 in /usr/local/lib/python3.10/dist-packages (from requests[socks]->gdown) (2.0.7)\n",
            "Requirement already satisfied: certifi>=2017.4.17 in /usr/local/lib/python3.10/dist-packages (from requests[socks]->gdown) (2024.6.2)\n",
            "Requirement already satisfied: PySocks!=1.5.7,>=1.5.6 in /usr/local/lib/python3.10/dist-packages (from requests[socks]->gdown) (1.7.1)\n",
            "/usr/local/lib/python3.10/dist-packages/gdown/__main__.py:132: FutureWarning: Option `--id` was deprecated in version 4.3.1 and will be removed in 5.0. You don't need to pass it anymore to use a file ID.\n",
            "  warnings.warn(\n",
            "Downloading...\n",
            "From (original): https://drive.google.com/uc?id=1a6EZMTmsabf7C8YCTDqraoxNOSPsuXsD\n",
            "From (redirected): https://drive.google.com/uc?id=1a6EZMTmsabf7C8YCTDqraoxNOSPsuXsD&confirm=t&uuid=37432176-83f3-4c70-9dcc-4313b8210d4d\n",
            "To: /content/modelScaled.zip\n",
            "100% 141M/141M [00:03<00:00, 39.7MB/s]\n",
            "\n",
            "7-Zip [64] 16.02 : Copyright (c) 1999-2016 Igor Pavlov : 2016-05-21\n",
            "p7zip Version 16.02 (locale=en_US.UTF-8,Utf16=on,HugeFiles=on,64 bits,2 CPUs Intel(R) Xeon(R) CPU @ 2.20GHz (406F0),ASM,AES-NI)\n",
            "\n",
            "Scanning the drive for archives:\n",
            "  0M Scan\b\b\b\b\b\b\b\b\b         \b\b\b\b\b\b\b\b\b\n",
            "ERROR: No more files\n",
            "ModelosESRGAN.zip\n",
            "\n",
            "\n",
            "\n",
            "System ERROR:\n",
            "Unknown error -2147024872\n"
          ]
        },
        {
          "output_type": "execute_result",
          "data": {
            "text/plain": [
              "['RealESRGAN_x4plus_anime_6B .pth',\n",
              " 'RealESRGAN_x2plus.pth',\n",
              " 'RealESRGAN_x4plus.pth',\n",
              " 'README.md']"
            ]
          },
          "metadata": {},
          "execution_count": 3
        }
      ]
    },
    {
      "cell_type": "code",
      "source": [
        "\n",
        "#@markdown # **3.5) ** Montar el archivo de Google Drive\n",
        "#@markdown Pon la ruta del archivo en tu google drive \"content/drive/MyDrive/... y da click\"\n",
        "\n",
        "\n",
        "\n",
        "drive_mounted = True\n",
        "drive_path = '/content/drive/MyDrive/fma.mp4'#@param{type: \"string\"}\n",
        "file_name = drive_path.split('/')[-1]\n",
        "input_path = f'/content/drive/MyDrive{drive_path}'\n",
        "print(\"video path set:\\n\",input_path)\n"
      ],
      "metadata": {
        "colab": {
          "base_uri": "https://localhost:8080/"
        },
        "id": "G-CuLlg8qgte",
        "outputId": "bef66109-76d2-429c-9aad-bca35fabcc3c"
      },
      "execution_count": 10,
      "outputs": [
        {
          "output_type": "stream",
          "name": "stdout",
          "text": [
            "video path set:\n",
            " /content/drive/MyDrive/content/drive/MyDrive/fma.mp4\n"
          ]
        }
      ]
    },
    {
      "cell_type": "code",
      "source": [
        "\n",
        "#@markdown # **4) Extracter Frames del Video (Solo si no usamos interference-video)**\n",
        "\n",
        "if os.path.isdir(temp_folder):\n",
        "  shutil.rmtree(temp_folder)\n",
        "\n",
        "os.mkdir(temp_folder)\n",
        "print(f'Extracting Frames to: {temp_folder}')\n",
        "cmd = [\n",
        "       'ffmpeg',\n",
        "       '-i',\n",
        "       drive_path,\n",
        "       '-qscale:v',\n",
        "       '1',\n",
        "       '-qmin',\n",
        "       '1',\n",
        "       '-qmax',\n",
        "       '1',\n",
        "       '-vsync',\n",
        "       '0',\n",
        "       f'{temp_folder}/frame_%08d.png'\n",
        "]\n",
        "process = subprocess.Popen(cmd, stdout=subprocess.PIPE, stderr=subprocess.PIPE)\n",
        "stdout, stderr = process.communicate()\n",
        "if process.returncode != 0:\n",
        "    print(stderr)\n",
        "    raise RuntimeError(stderr)\n",
        "else:\n",
        "    frame_count = len(os.listdir(f'/content/{temp_folder}'))\n",
        "    print(f\"Done, Extracted {frame_count} Frames\")"
      ],
      "metadata": {
        "id": "zdXZD18Gqi3f",
        "cellView": "form"
      },
      "execution_count": null,
      "outputs": []
    },
    {
      "cell_type": "code",
      "source": [
        "#@markdown # **4) Run ERSGAN con InterfaceVideo solo con modelo realesr-animevideo **\n",
        "\n",
        "#@markdown realesr-animevideov3\n",
        "\n",
        "xResolucion = 2 #@param{type: \"number\"}\n",
        "num_process_gpu = 2 #@param{type: \"number\"}\n",
        "extrac_first = False #@param{type: \"boolean\"}\n",
        "if(extrac_first==True):\n",
        "  extract='--extract_frame_first'\n",
        "!python Real-ESRGAN/inference_realesrgan_video.py -i {drive_path} -n realesr-animevideov3 -s {xResolucion} --suffix outx2s --num_process_per_gpu {num_process_gpu} {extract}\n"
      ],
      "metadata": {
        "id": "PO6QCRRfjKsp",
        "outputId": "2f2ab01c-5292-44d1-c2fb-c89bca1da90a",
        "colab": {
          "base_uri": "https://localhost:8080/"
        }
      },
      "execution_count": 41,
      "outputs": [
        {
          "output_type": "stream",
          "name": "stdout",
          "text": [
            "/usr/local/lib/python3.10/dist-packages/torchvision/transforms/functional_tensor.py:5: UserWarning: The torchvision.transforms.functional_tensor module is deprecated in 0.15 and will be **removed in 0.17**. Please don't rely on it. You probably just need to use APIs in torchvision.transforms.functional or in torchvision.transforms.v2.functional.\n",
            "  warnings.warn(\n",
            "\rinference:   0% 0/2 [00:00<?, ?sub_video/s]/usr/local/lib/python3.10/dist-packages/torchvision/transforms/functional_tensor.py:5: UserWarning: The torchvision.transforms.functional_tensor module is deprecated in 0.15 and will be **removed in 0.17**. Please don't rely on it. You probably just need to use APIs in torchvision.transforms.functional or in torchvision.transforms.v2.functional.\n",
            "  warnings.warn(\n",
            "/usr/local/lib/python3.10/dist-packages/torchvision/transforms/functional_tensor.py:5: UserWarning: The torchvision.transforms.functional_tensor module is deprecated in 0.15 and will be **removed in 0.17**. Please don't rely on it. You probably just need to use APIs in torchvision.transforms.functional or in torchvision.transforms.v2.functional.\n",
            "  warnings.warn(\n",
            "duration: 94, part_time: 47\n",
            "ffmpeg -i /content/anchadaoop2.mp4 -ss 0 -to 47 -async 1 results/anchadaoop2_inp_tmp_videos/000.mp4 -y\n",
            "duration: 94, part_time: 47\n",
            "ffmpeg -i /content/anchadaoop2.mp4 -ss 47  -async 1 results/anchadaoop2_inp_tmp_videos/001.mp4 -y\n",
            "ffmpeg version 4.4.2-0ubuntu0.22.04.1 Copyright (c) 2000-2021 the FFmpeg developers\n",
            "  built with gcc 11 (Ubuntu 11.2.0-19ubuntu1)\n",
            "  configuration: --prefix=/usr --extra-version=0ubuntu0.22.04.1 --toolchain=hardened --libdir=/usr/lib/x86_64-linux-gnu --incdir=/usr/include/x86_64-linux-gnu --arch=amd64 --enable-gpl --disable-stripping --enable-gnutls --enable-ladspa --enable-libaom --enable-libass --enable-libbluray --enable-libbs2b --enable-libcaca --enable-libcdio --enable-libcodec2 --enable-libdav1d --enable-libflite --enable-libfontconfig --enable-libfreetype --enable-libfribidi --enable-libgme --enable-libgsm --enable-libjack --enable-libmp3lame --enable-libmysofa --enable-libopenjpeg --enable-libopenmpt --enable-libopus --enable-libpulse --enable-librabbitmq --enable-librubberband --enable-libshine --enable-libsnappy --enable-libsoxr --enable-libspeex --enable-libsrt --enable-libssh --enable-libtheora --enable-libtwolame --enable-libvidstab --enable-libvorbis --enable-libvpx --enable-libwebp --enable-libx265 --enable-libxml2 --enable-libxvid --enable-libzimg --enable-libzmq --enable-libzvbi --enable-lv2 --enable-omx --enable-openal --enable-opencl --enable-opengl --enable-sdl2 --enable-pocketsphinx --enable-librsvg --enable-libmfx --enable-libdc1394 --enable-libdrm --enable-libiec61883 --enable-chromaprint --enable-frei0r --enable-libx264 --enable-shared\n",
            "  libavutil      56. 70.100 / 56. 70.100\n",
            "  libavcodec     58.134.100 / 58.134.100\n",
            "  libavformat    58. 76.100 / 58. 76.100\n",
            "  libavdevice    58. 13.100 / 58. 13.100\n",
            "  libavfilter     7.110.100 /  7.110.100\n",
            "  libswscale      5.  9.100 /  5.  9.100\n",
            "  libswresample   3.  9.100 /  3.  9.100\n",
            "  libpostproc    55.  9.100 / 55.  9.100\n",
            "Input #0, mov,mp4,m4a,3gp,3g2,mj2, from '/content/anchadaoop2.mp4':\n",
            "  Metadata:\n",
            "    major_brand     : isom\n",
            "    minor_version   : 512\n",
            "    compatible_brands: isomiso2avc1mp41\n",
            "    title           : Naruto | Opening 2 - Haruka Kanata | VIZ\n",
            "    artist          : vizmedia\n",
            "    date            : 20210219\n",
            "    encoder         : Lavf60.3.100\n",
            "    comment         : https://www.youtube.com/watch?v=RiQrbSuLrsU\n",
            "    description     : An unforgettable opening! 🔥\n",
            "                    : \n",
            "                    : Opening 2 - Haruka Kanata by Asian Kung-Fu Generation.\n",
            "                    : \n",
            "                    : Order Naruto, Set 2 on Blu-ray/digital: https://bit.ly/3p8JcX3\n",
            "                    : \n",
            "                    : Learn more about #Naruto:\n",
            "                    : Naruto’s class takes a trip to the Forest of Death where many dangers await, including a snakelike foe who leaves his mark on Sasuke! Then it’s all the great one-on-one matches you remember in the Chunin Exams! Watch Lee struggle against the sadistic \n",
            "                    : \n",
            "                    : 4-Disc Blu-ray Set, 28 Episodes (28-55) in 1080p, 16x9 Video (Presented in its Original Full Frame), English and Japanese Stereo 2.0 Audio, English Subtitles\n",
            "                    : \n",
            "                    : SPECIAL FEATURES: Interview with Kate Higgins (English Voice of Sakura), Storyboards, Open and End Cleans, Art Gallery, Trailers\n",
            "                    : \n",
            "                    : Subscribe to VIZ: https://buff.ly/2Rqfml3\n",
            "                    : Follow us on Twitter: https://twitter.com/VIZMedia\n",
            "                    : Like us on Facebook: https://www.facebook.com/OfficialVIZMedia\n",
            "                    : Follow us on Instagram: https://www.instagram.com/vizmedia\n",
            "    synopsis        : An unforgettable opening! 🔥\n",
            "                    : \n",
            "                    : Opening 2 - Haruka Kanata by Asian Kung-Fu Generation.\n",
            "                    : \n",
            "                    : Order Naruto, Set 2 on Blu-ray/digital: https://bit.ly/3p8JcX3\n",
            "                    : \n",
            "                    : Learn more about #Naruto:\n",
            "                    : Naruto’s class takes a trip to the Forest of Death where many dangers await, including a snakelike foe who leaves his mark on Sasuke! Then it’s all the great one-on-one matches you remember in the Chunin Exams! Watch Lee struggle against the sadistic \n",
            "                    : \n",
            "                    : 4-Disc Blu-ray Set, 28 Episodes (28-55) in 1080p, 16x9 Video (Presented in its Original Full Frame), English and Japanese Stereo 2.0 Audio, English Subtitles\n",
            "                    : \n",
            "                    : SPECIAL FEATURES: Interview with Kate Higgins (English Voice of Sakura), Storyboards, Open and End Cleans, Art Gallery, Trailers\n",
            "                    : \n",
            "                    : Subscribe to VIZ: https://buff.ly/2Rqfml3\n",
            "                    : Follow us on Twitter: https://twitter.com/VIZMedia\n",
            "                    : Like us on Facebook: https://www.facebook.com/OfficialVIZMedia\n",
            "                    : Follow us on Instagram: https://www.instagram.com/vizmedia\n",
            "  Duration: 00:01:34.62, start: 0.000000, bitrate: 1268 kb/s\n",
            "  Stream #0:0(und): Video: h264 (High) (avc1 / 0x31637661), yuv420p(tv, bt709), 960x720 [SAR 4:3 DAR 16:9], 1139 kb/s, 29.97 fps, 29.97 tbr, 30k tbn, 59.94 tbc (default)\n",
            "    Metadata:\n",
            "      handler_name    : ISO Media file produced by Google Inc.\n",
            "      vendor_id       : [0][0][0][0]\n",
            "      encoder         : Lavc60.3.100 libx264\n",
            "  Stream #0:1(eng): Audio: aac (LC) (mp4a / 0x6134706D), 44100 Hz, stereo, fltp, 120 kb/s (default)\n",
            "    Metadata:\n",
            "      handler_name    : ISO Media file produced by Google Inc.\n",
            "      vendor_id       : [0][0][0][0]\n",
            "Stream mapping:\n",
            "  Stream #0:0 -> #0:0 (h264 (native) -> h264 (libx264))\n",
            "  Stream #0:1 -> #0:1 (aac (native) -> aac (native))\n",
            "Press [q] to stop, [?] for help\n",
            "-async is forwarded to lavfi similarly to -af aresample=async=1:min_hard_comp=0.100000:first_pts=0.\n",
            "ffmpeg version 4.4.2-0ubuntu0.22.04.1 Copyright (c) 2000-2021 the FFmpeg developers\n",
            "  built with gcc 11 (Ubuntu 11.2.0-19ubuntu1)\n",
            "  configuration: --prefix=/usr --extra-version=0ubuntu0.22.04.1 --toolchain=hardened --libdir=/usr/lib/x86_64-linux-gnu --incdir=/usr/include/x86_64-linux-gnu --arch=amd64 --enable-gpl --disable-stripping --enable-gnutls --enable-ladspa --enable-libaom --enable-libass --enable-libbluray --enable-libbs2b --enable-libcaca --enable-libcdio --enable-libcodec2 --enable-libdav1d --enable-libflite --enable-libfontconfig --enable-libfreetype --enable-libfribidi --enable-libgme --enable-libgsm --enable-libjack --enable-libmp3lame --enable-libmysofa --enable-libopenjpeg --enable-libopenmpt --enable-libopus --enable-libpulse --enable-librabbitmq --enable-librubberband --enable-libshine --enable-libsnappy --enable-libsoxr --enable-libspeex --enable-libsrt --enable-libssh --enable-libtheora --enable-libtwolame --enable-libvidstab --enable-libvorbis --enable-libvpx --enable-libwebp --enable-libx265 --enable-libxml2 --enable-libxvid --enable-libzimg --enable-libzmq --enable-libzvbi --enable-lv2 --enable-omx --enable-openal --enable-opencl --enable-opengl --enable-sdl2 --enable-pocketsphinx --enable-librsvg --enable-libmfx --enable-libdc1394 --enable-libdrm --enable-libiec61883 --enable-chromaprint --enable-frei0r --enable-libx264 --enable-shared\n",
            "  libavutil      56. 70.100 / 56. 70.100\n",
            "  libavcodec     58.134.100 / 58.134.100\n",
            "  libavformat    58. 76.100 / 58. 76.100\n",
            "  libavdevice    58. 13.100 / 58. 13.100\n",
            "  libavfilter     7.110.100 /  7.110.100\n",
            "  libswscale      5.  9.100 /  5.  9.100\n",
            "  libswresample   3.  9.100 /  3.  9.100\n",
            "  libpostproc    55.  9.100 / 55.  9.100\n",
            "Input #0, mov,mp4,m4a,3gp,3g2,mj2, from '/content/anchadaoop2.mp4':\n",
            "  Metadata:\n",
            "    major_brand     : isom\n",
            "    minor_version   : 512\n",
            "    compatible_brands: isomiso2avc1mp41\n",
            "    title           : Naruto | Opening 2 - Haruka Kanata | VIZ\n",
            "    artist          : vizmedia\n",
            "    date            : 20210219\n",
            "    encoder         : Lavf60.3.100\n",
            "    comment         : https://www.youtube.com/watch?v=RiQrbSuLrsU\n",
            "    description     : An unforgettable opening! 🔥\n",
            "                    : \n",
            "                    : Opening 2 - Haruka Kanata by Asian Kung-Fu Generation.\n",
            "                    : \n",
            "                    : Order Naruto, Set 2 on Blu-ray/digital: https://bit.ly/3p8JcX3\n",
            "                    : \n",
            "                    : Learn more about #Naruto:\n",
            "                    : Naruto’s class takes a trip to the Forest of Death where many dangers await, including a snakelike foe who leaves his mark on Sasuke! Then it’s all the great one-on-one matches you remember in the Chunin Exams! Watch Lee struggle against the sadistic \n",
            "                    : \n",
            "                    : 4-Disc Blu-ray Set, 28 Episodes (28-55) in 1080p, 16x9 Video (Presented in its Original Full Frame), English and Japanese Stereo 2.0 Audio, English Subtitles\n",
            "                    : \n",
            "                    : SPECIAL FEATURES: Interview with Kate Higgins (English Voice of Sakura), Storyboards, Open and End Cleans, Art Gallery, Trailers\n",
            "                    : \n",
            "                    : Subscribe to VIZ: https://buff.ly/2Rqfml3\n",
            "                    : Follow us on Twitter: https://twitter.com/VIZMedia\n",
            "                    : Like us on Facebook: https://www.facebook.com/OfficialVIZMedia\n",
            "                    : Follow us on Instagram: https://www.instagram.com/vizmedia\n",
            "    synopsis        : An unforgettable opening! 🔥\n",
            "                    : \n",
            "                    : Opening 2 - Haruka Kanata by Asian Kung-Fu Generation.\n",
            "                    : \n",
            "                    : Order Naruto, Set 2 on Blu-ray/digital: https://bit.ly/3p8JcX3\n",
            "                    : \n",
            "                    : Learn more about #Naruto:\n",
            "                    : Naruto’s class takes a trip to the Forest of Death where many dangers await, including a snakelike foe who leaves his mark on Sasuke! Then it’s all the great one-on-one matches you remember in the Chunin Exams! Watch Lee struggle against the sadistic \n",
            "                    : \n",
            "                    : 4-Disc Blu-ray Set, 28 Episodes (28-55) in 1080p, 16x9 Video (Presented in its Original Full Frame), English and Japanese Stereo 2.0 Audio, English Subtitles\n",
            "                    : \n",
            "                    : SPECIAL FEATURES: Interview with Kate Higgins (English Voice of Sakura), Storyboards, Open and End Cleans, Art Gallery, Trailers\n",
            "                    : \n",
            "                    : Subscribe to VIZ: https://buff.ly/2Rqfml3\n",
            "                    : Follow us on Twitter: https://twitter.com/VIZMedia\n",
            "                    : Like us on Facebook: https://www.facebook.com/OfficialVIZMedia\n",
            "                    : Follow us on Instagram: https://www.instagram.com/vizmedia\n",
            "  Duration: 00:01:34.62, start: 0.000000, bitrate: 1268 kb/s\n",
            "  Stream #0:0(und): Video: h264 (High) (avc1 / 0x31637661), yuv420p(tv, bt709), 960x720 [SAR 4:3 DAR 16:9], 1139 kb/s, 29.97 fps, 29.97 tbr, 30k tbn, 59.94 tbc (default)\n",
            "    Metadata:\n",
            "      handler_name    : ISO Media file produced by Google Inc.\n",
            "      vendor_id       : [0][0][0][0]\n",
            "      encoder         : Lavc60.3.100 libx264\n",
            "  Stream #0:1(eng): Audio: aac (LC) (mp4a / 0x6134706D), 44100 Hz, stereo, fltp, 120 kb/s (default)\n",
            "    Metadata:\n",
            "      handler_name    : ISO Media file produced by Google Inc.\n",
            "      vendor_id       : [0][0][0][0]\n",
            "Stream mapping:\n",
            "  Stream #0:0 -> #0:0 (h264 (native) -> h264 (libx264))\n",
            "  Stream #0:1 -> #0:1 (aac (native) -> aac (native))\n",
            "Press [q] to stop, [?] for help\n",
            "\u001b[1;36m[libx264 @ 0x5a51ea4ee9c0] \u001b[0musing SAR=4/3\n",
            "\u001b[1;36m[libx264 @ 0x5a51ea4ee9c0] \u001b[0musing cpu capabilities: MMX2 SSE2Fast SSSE3 SSE4.2 AVX FMA3 BMI2 AVX2\n",
            "-async is forwarded to lavfi similarly to -af aresample=async=1:min_hard_comp=0.100000:first_pts=0.\n",
            "\u001b[1;36m[libx264 @ 0x5a51ea4ee9c0] \u001b[0mprofile High, level 3.1, 4:2:0, 8-bit\n",
            "\u001b[1;36m[libx264 @ 0x5a51ea4ee9c0] \u001b[0m264 - core 163 r3060 5db6aa6 - H.264/MPEG-4 AVC codec - Copyleft 2003-2021 - http://www.videolan.org/x264.html - options: cabac=1 ref=3 deblock=1:0:0 analyse=0x3:0x113 me=hex subme=7 psy=1 psy_rd=1.00:0.00 mixed_ref=1 me_range=16 chroma_me=1 trellis=1 8x8dct=1 cqm=0 deadzone=21,11 fast_pskip=1 chroma_qp_offset=-2 threads=3 lookahead_threads=1 sliced_threads=0 nr=0 decimate=1 interlaced=0 bluray_compat=0 constrained_intra=0 bframes=3 b_pyramid=2 b_adapt=1 b_bias=0 direct=1 weightb=1 open_gop=0 weightp=2 keyint=250 keyint_min=25 scenecut=40 intra_refresh=0 rc_lookahead=40 rc=crf mbtree=1 crf=23.0 qcomp=0.60 qpmin=0 qpmax=69 qpstep=4 ip_ratio=1.40 aq=1:1.00\n",
            "Output #0, mp4, to 'results/anchadaoop2_inp_tmp_videos/000.mp4':\n",
            "  Metadata:\n",
            "    major_brand     : isom\n",
            "    minor_version   : 512\n",
            "    compatible_brands: isomiso2avc1mp41\n",
            "    title           : Naruto | Opening 2 - Haruka Kanata | VIZ\n",
            "    artist          : vizmedia\n",
            "    date            : 20210219\n",
            "    synopsis        : An unforgettable opening! 🔥\n",
            "                    : \n",
            "                    : Opening 2 - Haruka Kanata by Asian Kung-Fu Generation.\n",
            "                    : \n",
            "                    : Order Naruto, Set 2 on Blu-ray/digital: https://bit.ly/3p8JcX3\n",
            "                    : \n",
            "                    : Learn more about #Naruto:\n",
            "                    : Naruto’s class takes a trip to the Forest of Death where many dangers await, including a snakelike foe who leaves his mark on Sasuke! Then it’s all the great one-on-one matches you remember in the Chunin Exams! Watch Lee struggle against the sadistic \n",
            "                    : \n",
            "                    : 4-Disc Blu-ray Set, 28 Episodes (28-55) in 1080p, 16x9 Video (Presented in its Original Full Frame), English and Japanese Stereo 2.0 Audio, English Subtitles\n",
            "                    : \n",
            "                    : SPECIAL FEATURES: Interview with Kate Higgins (English Voice of Sakura), Storyboards, Open and End Cleans, Art Gallery, Trailers\n",
            "                    : \n",
            "                    : Subscribe to VIZ: https://buff.ly/2Rqfml3\n",
            "                    : Follow us on Twitter: https://twitter.com/VIZMedia\n",
            "                    : Like us on Facebook: https://www.facebook.com/OfficialVIZMedia\n",
            "                    : Follow us on Instagram: https://www.instagram.com/vizmedia\n",
            "    comment         : https://www.youtube.com/watch?v=RiQrbSuLrsU\n",
            "    description     : An unforgettable opening! 🔥\n",
            "                    : \n",
            "                    : Opening 2 - Haruka Kanata by Asian Kung-Fu Generation.\n",
            "                    : \n",
            "                    : Order Naruto, Set 2 on Blu-ray/digital: https://bit.ly/3p8JcX3\n",
            "                    : \n",
            "                    : Learn more about #Naruto:\n",
            "                    : Naruto’s class takes a trip to the Forest of Death where many dangers await, including a snakelike foe who leaves his mark on Sasuke! Then it’s all the great one-on-one matches you remember in the Chunin Exams! Watch Lee struggle against the sadistic \n",
            "                    : \n",
            "                    : 4-Disc Blu-ray Set, 28 Episodes (28-55) in 1080p, 16x9 Video (Presented in its Original Full Frame), English and Japanese Stereo 2.0 Audio, English Subtitles\n",
            "                    : \n",
            "                    : SPECIAL FEATURES: Interview with Kate Higgins (English Voice of Sakura), Storyboards, Open and End Cleans, Art Gallery, Trailers\n",
            "                    : \n",
            "                    : Subscribe to VIZ: https://buff.ly/2Rqfml3\n",
            "                    : Follow us on Twitter: https://twitter.com/VIZMedia\n",
            "                    : Like us on Facebook: https://www.facebook.com/OfficialVIZMedia\n",
            "                    : Follow us on Instagram: https://www.instagram.com/vizmedia\n",
            "    encoder         : Lavf58.76.100\n",
            "  Stream #0:0(und): Video: h264 (avc1 / 0x31637661), yuv420p(tv, bt709, progressive), 960x720 [SAR 4:3 DAR 16:9], q=2-31, 29.97 fps, 30k tbn (default)\n",
            "    Metadata:\n",
            "      handler_name    : ISO Media file produced by Google Inc.\n",
            "      vendor_id       : [0][0][0][0]\n",
            "      encoder         : Lavc58.134.100 libx264\n",
            "    Side data:\n",
            "      cpb: bitrate max/min/avg: 0/0/0 buffer size: 0 vbv_delay: N/A\n",
            "  Stream #0:1(eng): Audio: aac (LC) (mp4a / 0x6134706D), 44100 Hz, stereo, fltp, 128 kb/s (default)\n",
            "    Metadata:\n",
            "      handler_name    : ISO Media file produced by Google Inc.\n",
            "      vendor_id       : [0][0][0][0]\n",
            "      encoder         : Lavc58.134.100 aac\n",
            "\u001b[1;36m[libx264 @ 0x56b0be015980] \u001b[0musing SAR=4/3\n",
            "\u001b[1;36m[libx264 @ 0x56b0be015980] \u001b[0musing cpu capabilities: MMX2 SSE2Fast SSSE3 SSE4.2 AVX FMA3 BMI2 AVX2\n",
            "\u001b[1;36m[libx264 @ 0x56b0be015980] \u001b[0mprofile High, level 3.1, 4:2:0, 8-bit\n",
            "\u001b[1;36m[libx264 @ 0x56b0be015980] \u001b[0m264 - core 163 r3060 5db6aa6 - H.264/MPEG-4 AVC codec - Copyleft 2003-2021 - http://www.videolan.org/x264.html - options: cabac=1 ref=3 deblock=1:0:0 analyse=0x3:0x113 me=hex subme=7 psy=1 psy_rd=1.00:0.00 mixed_ref=1 me_range=16 chroma_me=1 trellis=1 8x8dct=1 cqm=0 deadzone=21,11 fast_pskip=1 chroma_qp_offset=-2 threads=3 lookahead_threads=1 sliced_threads=0 nr=0 decimate=1 interlaced=0 bluray_compat=0 constrained_intra=0 bframes=3 b_pyramid=2 b_adapt=1 b_bias=0 direct=1 weightb=1 open_gop=0 weightp=2 keyint=250 keyint_min=25 scenecut=40 intra_refresh=0 rc_lookahead=40 rc=crf mbtree=1 crf=23.0 qcomp=0.60 qpmin=0 qpmax=69 qpstep=4 ip_ratio=1.40 aq=1:1.00\n",
            "Output #0, mp4, to 'results/anchadaoop2_inp_tmp_videos/001.mp4':\n",
            "  Metadata:\n",
            "    major_brand     : isom\n",
            "    minor_version   : 512\n",
            "    compatible_brands: isomiso2avc1mp41\n",
            "    title           : Naruto | Opening 2 - Haruka Kanata | VIZ\n",
            "    artist          : vizmedia\n",
            "    date            : 20210219\n",
            "    synopsis        : An unforgettable opening! 🔥\n",
            "                    : \n",
            "                    : Opening 2 - Haruka Kanata by Asian Kung-Fu Generation.\n",
            "                    : \n",
            "                    : Order Naruto, Set 2 on Blu-ray/digital: https://bit.ly/3p8JcX3\n",
            "                    : \n",
            "                    : Learn more about #Naruto:\n",
            "                    : Naruto’s class takes a trip to the Forest of Death where many dangers await, including a snakelike foe who leaves his mark on Sasuke! Then it’s all the great one-on-one matches you remember in the Chunin Exams! Watch Lee struggle against the sadistic \n",
            "                    : \n",
            "                    : 4-Disc Blu-ray Set, 28 Episodes (28-55) in 1080p, 16x9 Video (Presented in its Original Full Frame), English and Japanese Stereo 2.0 Audio, English Subtitles\n",
            "                    : \n",
            "                    : SPECIAL FEATURES: Interview with Kate Higgins (English Voice of Sakura), Storyboards, Open and End Cleans, Art Gallery, Trailers\n",
            "                    : \n",
            "                    : Subscribe to VIZ: https://buff.ly/2Rqfml3\n",
            "                    : Follow us on Twitter: https://twitter.com/VIZMedia\n",
            "                    : Like us on Facebook: https://www.facebook.com/OfficialVIZMedia\n",
            "                    : Follow us on Instagram: https://www.instagram.com/vizmedia\n",
            "    comment         : https://www.youtube.com/watch?v=RiQrbSuLrsU\n",
            "    description     : An unforgettable opening! 🔥\n",
            "                    : \n",
            "                    : Opening 2 - Haruka Kanata by Asian Kung-Fu Generation.\n",
            "                    : \n",
            "                    : Order Naruto, Set 2 on Blu-ray/digital: https://bit.ly/3p8JcX3\n",
            "                    : \n",
            "                    : Learn more about #Naruto:\n",
            "                    : Naruto’s class takes a trip to the Forest of Death where many dangers await, including a snakelike foe who leaves his mark on Sasuke! Then it’s all the great one-on-one matches you remember in the Chunin Exams! Watch Lee struggle against the sadistic \n",
            "                    : \n",
            "                    : 4-Disc Blu-ray Set, 28 Episodes (28-55) in 1080p, 16x9 Video (Presented in its Original Full Frame), English and Japanese Stereo 2.0 Audio, English Subtitles\n",
            "                    : \n",
            "                    : SPECIAL FEATURES: Interview with Kate Higgins (English Voice of Sakura), Storyboards, Open and End Cleans, Art Gallery, Trailers\n",
            "                    : \n",
            "                    : Subscribe to VIZ: https://buff.ly/2Rqfml3\n",
            "                    : Follow us on Twitter: https://twitter.com/VIZMedia\n",
            "                    : Like us on Facebook: https://www.facebook.com/OfficialVIZMedia\n",
            "                    : Follow us on Instagram: https://www.instagram.com/vizmedia\n",
            "    encoder         : Lavf58.76.100\n",
            "  Stream #0:0(und): Video: h264 (avc1 / 0x31637661), yuv420p(tv, bt709, progressive), 960x720 [SAR 4:3 DAR 16:9], q=2-31, 29.97 fps, 30k tbn (default)\n",
            "    Metadata:\n",
            "      handler_name    : ISO Media file produced by Google Inc.\n",
            "      vendor_id       : [0][0][0][0]\n",
            "      encoder         : Lavc58.134.100 libx264\n",
            "    Side data:\n",
            "      cpb: bitrate max/min/avg: 0/0/0 buffer size: 0 vbv_delay: N/A\n",
            "  Stream #0:1(eng): Audio: aac (LC) (mp4a / 0x6134706D), 44100 Hz, stereo, fltp, 128 kb/s (default)\n",
            "    Metadata:\n",
            "      handler_name    : ISO Media file produced by Google Inc.\n",
            "      vendor_id       : [0][0][0][0]\n",
            "      encoder         : Lavc58.134.100 aac\n",
            "Traceback (most recent call last):\n",
            "  File \"/content/Real-ESRGAN/inference_realesrgan_video.py\", line 398, in <module>\n",
            "    main()\n",
            "  File \"/content/Real-ESRGAN/inference_realesrgan_video.py\", line 390, in main\n",
            "    run(args)\n",
            "  File \"/content/Real-ESRGAN/inference_realesrgan_video.py\", line 306, in run\n",
            "    pool.join()\n",
            "  File \"/usr/lib/python3.10/multiprocessing/pool.py\", line 665, in join\n",
            "    self._worker_handler.join()\n",
            "  File \"/usr/lib/python3.10/threading.py\", line 1096, in join\n",
            "  File \"/usr/lib/python3.10/threading.py\", line 1116, in _wait_for_tstate_lock\n",
            "    if lock.acquire(block, timeout):\n",
            "KeyboardInterrupt\n",
            "inference:   0% 0/2 [00:21<?, ?sub_video/s]\n",
            "frame=  195 fps= 11 q=-1.0 Lsize=    1389kB time=00:00:06.52 bitrate=1743.7kbits/s speed=0.357x    \n",
            "video:1284kB audio:94kB subtitle:0kB other streams:0kB global headers:0kB muxing overhead: 0.771868%\n",
            "\u001b[1;36m[libx264 @ 0x5a51ea4ee9c0] \u001b[0mframe I:11    Avg QP:17.13  size: 15394\n",
            "\u001b[1;36m[libx264 @ 0x5a51ea4ee9c0] \u001b[0mframe P:93    Avg QP:22.37  size:  8080\n",
            "\u001b[1;36m[libx264 @ 0x5a51ea4ee9c0] \u001b[0mframe B:91    Avg QP:24.72  size:  4327\n",
            "\u001b[1;36m[libx264 @ 0x5a51ea4ee9c0] \u001b[0mconsecutive B-frames: 24.1% 35.9% 15.4% 24.6%\n",
            "\u001b[1;36m[libx264 @ 0x5a51ea4ee9c0] \u001b[0mmb I  I16..4: 30.9% 64.8%  4.4%\n",
            "\u001b[1;36m[libx264 @ 0x5a51ea4ee9c0] \u001b[0mmb P  I16..4: 11.7% 30.1%  2.2%  P16..4: 19.3%  4.9%  1.3%  0.0%  0.0%    skip:30.6%\n",
            "\u001b[1;36m[libx264 @ 0x5a51ea4ee9c0] \u001b[0mmb B  I16..4:  2.9%  4.9%  0.3%  B16..8: 30.6%  6.3%  0.6%  direct: 2.0%  skip:52.4%  L0:50.2% L1:47.2% BI: 2.5%\n",
            "\u001b[1;36m[libx264 @ 0x5a51ea4ee9c0] \u001b[0m8x8 transform intra:66.7% inter:82.7%\n",
            "\u001b[1;36m[libx264 @ 0x5a51ea4ee9c0] \u001b[0mcoded y,uvDC,uvAC intra: 21.2% 45.8% 9.8% inter: 5.8% 12.5% 0.1%\n",
            "\u001b[1;36m[libx264 @ 0x5a51ea4ee9c0] \u001b[0mi16 v,h,dc,p: 45% 26% 15% 14%\n",
            "\u001b[1;36m[libx264 @ 0x5a51ea4ee9c0] \u001b[0mi8 v,h,dc,ddl,ddr,vr,hd,vl,hu: 33% 19% 30%  3%  3%  2%  4%  3%  3%\n",
            "\u001b[1;36m[libx264 @ 0x5a51ea4ee9c0] \u001b[0mi4 v,h,dc,ddl,ddr,vr,hd,vl,hu: 27% 18% 20%  5%  8%  6%  7%  5%  3%\n",
            "\u001b[1;36m[libx264 @ 0x5a51ea4ee9c0] \u001b[0mi8c dc,h,v,p: 52% 23% 18%  7%\n",
            "\u001b[1;36m[libx264 @ 0x5a51ea4ee9c0] \u001b[0mWeighted P-Frames: Y:3.2% UV:2.2%\n",
            "\u001b[1;36m[libx264 @ 0x5a51ea4ee9c0] \u001b[0mref P L0: 72.9%  9.0% 13.2%  5.0%  0.0%\n",
            "\u001b[1;36m[libx264 @ 0x5a51ea4ee9c0] \u001b[0mref B L0: 89.5%  9.5%  1.0%\n",
            "\u001b[1;36m[libx264 @ 0x5a51ea4ee9c0] \u001b[0mref B L1: 98.5%  1.5%\n",
            "\u001b[1;36m[libx264 @ 0x5a51ea4ee9c0] \u001b[0mkb/s:1616.27\n",
            "\u001b[1;36m[aac @ 0x5a51ea512380] \u001b[0mQavg: 12500.102\n",
            "Exiting normally, received signal 2.\n",
            "frame=  143 fps=7.8 q=-1.0 Lsize=    1011kB time=00:00:04.78 bitrate=1731.9kbits/s speed=0.261x    \n",
            "video:927kB audio:75kB subtitle:0kB other streams:0kB global headers:0kB muxing overhead: 0.891394%\n",
            "\u001b[1;36m[libx264 @ 0x56b0be015980] \u001b[0mframe I:3     Avg QP:20.82  size: 16004\n",
            "\u001b[1;36m[libx264 @ 0x56b0be015980] \u001b[0mframe P:68    Avg QP:23.10  size:  9121\n",
            "\u001b[1;36m[libx264 @ 0x56b0be015980] \u001b[0mframe B:72    Avg QP:24.37  size:  3893\n",
            "\u001b[1;36m[libx264 @ 0x56b0be015980] \u001b[0mconsecutive B-frames: 15.4% 46.2% 18.9% 19.6%\n",
            "\u001b[1;36m[libx264 @ 0x56b0be015980] \u001b[0mmb I  I16..4: 29.5% 66.3%  4.2%\n",
            "\u001b[1;36m[libx264 @ 0x56b0be015980] \u001b[0mmb P  I16..4: 11.0% 32.6%  1.3%  P16..4: 23.9%  4.7%  1.4%  0.0%  0.0%    skip:25.1%\n",
            "\u001b[1;36m[libx264 @ 0x56b0be015980] \u001b[0mmb B  I16..4:  2.0%  5.3%  0.1%  B16..8: 31.3%  4.0%  0.5%  direct: 1.2%  skip:55.6%  L0:53.1% L1:44.6% BI: 2.3%\n",
            "\u001b[1;36m[libx264 @ 0x56b0be015980] \u001b[0m8x8 transform intra:71.9% inter:90.6%\n",
            "\u001b[1;36m[libx264 @ 0x56b0be015980] \u001b[0mcoded y,uvDC,uvAC intra: 33.5% 44.1% 4.5% inter: 7.1% 10.4% 0.1%\n",
            "\u001b[1;36m[libx264 @ 0x56b0be015980] \u001b[0mi16 v,h,dc,p: 22% 30% 15% 34%\n",
            "\u001b[1;36m[libx264 @ 0x56b0be015980] \u001b[0mi8 v,h,dc,ddl,ddr,vr,hd,vl,hu: 25% 23% 20%  4%  6%  5%  7%  4%  5%\n",
            "\u001b[1;36m[libx264 @ 0x56b0be015980] \u001b[0mi4 v,h,dc,ddl,ddr,vr,hd,vl,hu: 33% 19% 12%  4%  8%  8%  8%  5%  3%\n",
            "\u001b[1;36m[libx264 @ 0x56b0be015980] \u001b[0mi8c dc,h,v,p: 54% 22% 19%  6%\n",
            "\u001b[1;36m[libx264 @ 0x56b0be015980] \u001b[0mWeighted P-Frames: Y:0.0% UV:0.0%\n",
            "\u001b[1;36m[libx264 @ 0x56b0be015980] \u001b[0mref P L0: 70.1% 11.7% 13.1%  5.1%\n",
            "\u001b[1;36m[libx264 @ 0x56b0be015980] \u001b[0mref B L0: 89.1%  9.5%  1.4%\n",
            "\u001b[1;36m[libx264 @ 0x56b0be015980] \u001b[0mref B L1: 98.6%  1.4%\n",
            "\u001b[1;36m[libx264 @ 0x56b0be015980] \u001b[0mkb/s:1590.28\n",
            "\u001b[1;36m[aac @ 0x56b0be039340] \u001b[0mQavg: 162.020\n",
            "Exiting normally, received signal 2.\n",
            "^C\n"
          ]
        }
      ]
    },
    {
      "cell_type": "code",
      "source": [
        "#@markdown # **4) Run ERSGAN y escalar**\n",
        "\n",
        "#@markdown Camibar el nombre del modelo que queramos usar :\n",
        "\n",
        "#@markdown RealESRGAN_x2plus,RealESRGAN_x4plus ,RealESRGAN_x4plus_anime_6B\n",
        "\n",
        "%cd /content/Real-ESRGAN\n",
        "frame_count = len(os.listdir(f'/content/{temp_folder}'))\n",
        "print(f\"Enhancing {frame_count} Frames with ESRGAN...\")\n",
        "cmd = [\n",
        "       'python',\n",
        "       'inference_realesrgan.py',\n",
        "       '-n',\n",
        "       'RealESRGAN_x4plus_anime_6B',\n",
        "       '-i',\n",
        "       f'../{temp_folder}',\n",
        "       '--outscale',\n",
        "       '4',\n",
        "\n",
        "]\n",
        "#process = subprocess.Popen(cmd, stdout=subprocess.PIPE, stderr=subprocess.PIPE, text=True)\n",
        "# stdout, stderr = process.communicate()\n",
        "# if process.returncode != 0:\n",
        "#     print(stderr)\n",
        "#     raise RuntimeError(stderr)\n",
        "# else:\n",
        "#     print(\"Done Extracting Frames\")\n",
        "!{' '.join(cmd)}\n",
        "print(\"Done Enhancing Frames\")\n",
        "%cd .."
      ],
      "metadata": {
        "id": "Yl8nyFqeqlGd",
        "cellView": "form"
      },
      "execution_count": null,
      "outputs": []
    },
    {
      "cell_type": "code",
      "source": [
        "#@markdown # **5) Crear el nuevo video de  los frames escalados\n",
        "import subprocess\n",
        "frame_count = len(os.listdir(f'/content/{temp_folder}'))\n",
        "if os.path.isdir(result_folder):\n",
        "  shutil.rmtree(result_folder)\n",
        "os.mkdir(result_folder)\n",
        "\n",
        "fps = 30 #@param {type: \"number\"}\n",
        "framesSalida=30 #@param {type: \"number\"}\n",
        "print(f\"Recompiling {frame_count} Frames into Video...\")\n",
        "cmd = [\n",
        "      'ffmpeg',\n",
        "    '-framerate',str(fps),\n",
        "     '-i',\n",
        "       f'/content/Real-ESRGAN/results/frame_%08d_out.png',\n",
        "      '-i',\n",
        "      drive_path,\n",
        "      '-vf',\"scale=3840:2160 ,unsharp=5:5:1:5:5:1,eq=brightness=-0.004:saturation=1.3:contrast=1.0,curves=all=0/0 0.2/0.3 0.8/1 1/1'\",\n",
        "      #activar filtro video si quermos a 4k hdr\n",
        "\n",
        "       '-map',\n",
        "       '0:v',\n",
        "       '-map',\n",
        "       '1:a',\n",
        "       '-c:v',\n",
        "       'h264_nvenc',\n",
        "       '-c:a',\n",
        "        'mp3',\n",
        "        '-r',\n",
        "        str(framesSalida),\n",
        "       '-b:v',\n",
        "       '65M', #birate 5M (720P), 6M (720P:60FPS),8M(1080P), 10M (1080P),15M(1080P:60FPS) ,25M(2K),30M(2K:60FP) 40M(4K:60FP)\n",
        "\n",
        "\n",
        "       f'{result_folder}/Mejorado{file_name}'\n",
        "\n",
        "]\n",
        "\n",
        "\n",
        "process = subprocess.Popen(cmd, stdout=subprocess.PIPE, stderr=subprocess.PIPE)\n",
        "stdout, stderr = process.communicate()\n",
        "if process.returncode != 0:\n",
        "    print(stderr)\n",
        "    raise RuntimeError(stderr)\n",
        "else:\n",
        "    print(\"Done Recreating Video\")"
      ],
      "metadata": {
        "id": "yrKheuGsqykK",
        "outputId": "26ba2fb2-2ed6-442a-b6d8-30da1aa7f863",
        "colab": {
          "base_uri": "https://localhost:8080/",
          "height": 220
        }
      },
      "execution_count": 24,
      "outputs": [
        {
          "output_type": "error",
          "ename": "FileNotFoundError",
          "evalue": "[Errno 2] No such file or directory: '/content/tmp_frames'",
          "traceback": [
            "\u001b[0;31m---------------------------------------------------------------------------\u001b[0m",
            "\u001b[0;31mFileNotFoundError\u001b[0m                         Traceback (most recent call last)",
            "\u001b[0;32m<ipython-input-24-772b87cde9fb>\u001b[0m in \u001b[0;36m<cell line: 3>\u001b[0;34m()\u001b[0m\n\u001b[1;32m      1\u001b[0m \u001b[0;31m#@markdown # **5) Crear el nuevo video de  los frames escalados\u001b[0m\u001b[0;34m\u001b[0m\u001b[0;34m\u001b[0m\u001b[0m\n\u001b[1;32m      2\u001b[0m \u001b[0;32mimport\u001b[0m \u001b[0msubprocess\u001b[0m\u001b[0;34m\u001b[0m\u001b[0;34m\u001b[0m\u001b[0m\n\u001b[0;32m----> 3\u001b[0;31m \u001b[0mframe_count\u001b[0m \u001b[0;34m=\u001b[0m \u001b[0mlen\u001b[0m\u001b[0;34m(\u001b[0m\u001b[0mos\u001b[0m\u001b[0;34m.\u001b[0m\u001b[0mlistdir\u001b[0m\u001b[0;34m(\u001b[0m\u001b[0;34mf'/content/{temp_folder}'\u001b[0m\u001b[0;34m)\u001b[0m\u001b[0;34m)\u001b[0m\u001b[0;34m\u001b[0m\u001b[0;34m\u001b[0m\u001b[0m\n\u001b[0m\u001b[1;32m      4\u001b[0m \u001b[0;32mif\u001b[0m \u001b[0mos\u001b[0m\u001b[0;34m.\u001b[0m\u001b[0mpath\u001b[0m\u001b[0;34m.\u001b[0m\u001b[0misdir\u001b[0m\u001b[0;34m(\u001b[0m\u001b[0mresult_folder\u001b[0m\u001b[0;34m)\u001b[0m\u001b[0;34m:\u001b[0m\u001b[0;34m\u001b[0m\u001b[0;34m\u001b[0m\u001b[0m\n\u001b[1;32m      5\u001b[0m   \u001b[0mshutil\u001b[0m\u001b[0;34m.\u001b[0m\u001b[0mrmtree\u001b[0m\u001b[0;34m(\u001b[0m\u001b[0mresult_folder\u001b[0m\u001b[0;34m)\u001b[0m\u001b[0;34m\u001b[0m\u001b[0;34m\u001b[0m\u001b[0m\n",
            "\u001b[0;31mFileNotFoundError\u001b[0m: [Errno 2] No such file or directory: '/content/tmp_frames'"
          ]
        }
      ]
    },
    {
      "cell_type": "code",
      "source": [
        "#@markdown # **6)Descargar archivo mejorado**\n",
        "#@markdown Se pasara el archivo a nuestro drive\n",
        "\n",
        "from google.colab import files\n",
        "\n",
        "filename= os.listdir(result_folder)\n",
        "if drive_mounted:\n",
        "  if os.path.exists('/content/drive/MyDrive/ESRGAN-Videos') is not True:\n",
        "    os.makedirs('/content/drive/MyDrive/ESRGAN-Videos')\n",
        "  shutil.move(f'{result_folder}/{filename[0]}',f'/content/drive/MyDrive/ESRGAN-Videos/{filename[0]}')\n",
        "  print(f\"MOviendo {filename[0]} el archivo a la carpeta ESRGAN-Videos en tu Drive\")\n",
        "else:\n",
        "  files.download(f'{result_folder}/{filename[0]}')"
      ],
      "metadata": {
        "id": "iSWWJoYiq1RC"
      },
      "execution_count": null,
      "outputs": []
    },
    {
      "cell_type": "code",
      "source": [
        "#@markdown # 7) Opcional Borrar archivos temporales  solo dar si vamos a escalar otro video\n",
        "#@markdown  Solo dar click si vamos a escalar otro video\n",
        "\n",
        "import os\n",
        "\n",
        "# Ruta de la carpeta que contiene los archivos que deseas eliminar\n",
        "carpetatemp = '/content/tmp_frames'\n",
        "carpetaresult='/content/Real-ESRGAN/results'\n",
        "\n",
        "# Lista todos los archivos en la carpeta\n",
        "archivos = os.listdir(carpetatemp)\n",
        "\n",
        "# Itera a través de los archivos y elimínalos\n",
        "for archivo in archivos:\n",
        "    ruta_completa = os.path.join(carpetatemp, archivo)\n",
        "    if os.path.isfile(ruta_completa):\n",
        "        os.remove(ruta_completa)\n",
        "        print(f\"Archivo eliminado: {ruta_completa}\")\n",
        "\n",
        "archivos = os.listdir(carpetaresult)\n",
        "for archivo in archivos:\n",
        "    ruta_completa = os.path.join(carpetaresult,archivo)\n",
        "    if os.path.isfile(ruta_completa):\n",
        "        os.remove(ruta_completa)\n",
        "        print(f\"Archivo eliminado: {ruta_completa}\")\n",
        "\n"
      ],
      "metadata": {
        "id": "eWueOhFDq5fi"
      },
      "execution_count": null,
      "outputs": []
    },
    {
      "cell_type": "markdown",
      "source": [
        "#**RIFE**\n",
        "\n"
      ],
      "metadata": {
        "id": "bGe58TMGrByT"
      }
    },
    {
      "cell_type": "code",
      "source": [
        "\n",
        "#@markdown # **1) Instalar Librerias**\n",
        "# # Clone Real-ESRGAN and enter the Real-ESRGAN\n",
        "!git clone https://github.com/hzwer/Practical-RIFE.git\n",
        "%cd Practical-RIFE\n",
        "! import skvideo.io\n",
        "!pip3 install -r requirements.txt\n",
        "!pip3 install --upgrade pip setuptools\n",
        "!pip install sk-video\n"
      ],
      "metadata": {
        "colab": {
          "base_uri": "https://localhost:8080/",
          "height": 685
        },
        "id": "mXld-oWYrKSh",
        "outputId": "5ddc7173-0056-4837-c4df-529eb6a8ae9f"
      },
      "execution_count": 20,
      "outputs": [
        {
          "output_type": "stream",
          "name": "stdout",
          "text": [
            "/bin/bash: line 1: import: command not found\n",
            "\u001b[31mERROR: Could not open requirements file: [Errno 2] No such file or directory: 'requirements.txt'\u001b[0m\u001b[31m\n",
            "\u001b[0mRequirement already satisfied: pip in /usr/local/lib/python3.10/dist-packages (23.1.2)\n",
            "Collecting pip\n",
            "  Downloading pip-24.1.2-py3-none-any.whl (1.8 MB)\n",
            "\u001b[2K     \u001b[90m━━━━━━━━━━━━━━━━━━━━━━━━━━━━━━━━━━━━━━━━\u001b[0m \u001b[32m1.8/1.8 MB\u001b[0m \u001b[31m10.1 MB/s\u001b[0m eta \u001b[36m0:00:00\u001b[0m\n",
            "\u001b[?25hRequirement already satisfied: setuptools in /usr/local/lib/python3.10/dist-packages (67.7.2)\n",
            "Collecting setuptools\n",
            "  Using cached setuptools-70.2.0-py3-none-any.whl (930 kB)\n",
            "Installing collected packages: setuptools, pip\n",
            "  Attempting uninstall: setuptools\n",
            "    Found existing installation: setuptools 67.7.2\n",
            "    Uninstalling setuptools-67.7.2:\n",
            "      Successfully uninstalled setuptools-67.7.2\n",
            "  Attempting uninstall: pip\n",
            "    Found existing installation: pip 23.1.2\n",
            "    Uninstalling pip-23.1.2:\n",
            "      Successfully uninstalled pip-23.1.2\n",
            "\u001b[31mERROR: pip's dependency resolver does not currently take into account all the packages that are installed. This behaviour is the source of the following dependency conflicts.\n",
            "ipython 7.34.0 requires jedi>=0.16, which is not installed.\u001b[0m\u001b[31m\n",
            "\u001b[0mSuccessfully installed pip-24.1.2 setuptools-70.2.0\n"
          ]
        },
        {
          "output_type": "display_data",
          "data": {
            "application/vnd.colab-display-data+json": {
              "pip_warning": {
                "packages": [
                  "_distutils_hack",
                  "pkg_resources",
                  "setuptools"
                ]
              },
              "id": "5ad2581b8e0544a6a11f8243eb083869"
            }
          },
          "metadata": {}
        },
        {
          "output_type": "stream",
          "name": "stdout",
          "text": [
            "Collecting sk-video\n",
            "  Downloading sk_video-1.1.10-py2.py3-none-any.whl.metadata (1.0 kB)\n",
            "Requirement already satisfied: numpy in /usr/local/lib/python3.10/dist-packages (from sk-video) (1.25.2)\n",
            "Requirement already satisfied: scipy in /usr/local/lib/python3.10/dist-packages (from sk-video) (1.11.4)\n",
            "Downloading sk_video-1.1.10-py2.py3-none-any.whl (2.3 MB)\n",
            "\u001b[2K   \u001b[90m━━━━━━━━━━━━━━━━━━━━━━━━━━━━━━━━━━━━━━━━\u001b[0m \u001b[32m2.3/2.3 MB\u001b[0m \u001b[31m29.1 MB/s\u001b[0m eta \u001b[36m0:00:00\u001b[0m\n",
            "\u001b[?25hInstalling collected packages: sk-video\n",
            "Successfully installed sk-video-1.1.10\n",
            "\u001b[33mWARNING: Running pip as the 'root' user can result in broken permissions and conflicting behaviour with the system package manager, possibly rendering your system unusable.It is recommended to use a virtual environment instead: https://pip.pypa.io/warnings/venv. Use the --root-user-action option if you know what you are doing and want to suppress this warning.\u001b[0m\u001b[33m\n",
            "\u001b[0m"
          ]
        }
      ]
    },
    {
      "cell_type": "code",
      "source": [
        "\n",
        "#@markdown # **2) Instalar Modelo**\n",
        "!mkdir /content/Practical-RIFE/train_log\n",
        "!gdown --id 1MmaZfFxHVEs0spM4iCB5NDRDM-bWKlIA\n",
        "!7z e InterpolacionModelo.zip\n",
        "\n",
        "# Ruta al archivo ZIP que deseas descomprimir\n",
        "archivo_zip = '/content/Practical-RIFE/InterpolacionModelo.zip'\n",
        "\n",
        "import zipfile\n",
        "# Directorio de destino para la descompresión\n",
        "directorio_destino = '/content/Practical-RIFE/train_log'\n",
        "\n",
        "with zipfile.ZipFile(archivo_zip, 'r') as zip_ref:\n",
        "    # Descomprime los archivos en el directorio de destino\n",
        "    zip_ref.extractall(directorio_destino)\n"
      ],
      "metadata": {
        "colab": {
          "base_uri": "https://localhost:8080/"
        },
        "id": "P1YpxdMsrRfV",
        "outputId": "a2ec3ea5-1761-43d7-badf-63b02745a119"
      },
      "execution_count": null,
      "outputs": [
        {
          "output_type": "stream",
          "name": "stdout",
          "text": [
            "/usr/local/lib/python3.10/dist-packages/gdown/cli.py:121: FutureWarning: Option `--id` was deprecated in version 4.3.1 and will be removed in 5.0. You don't need to pass it anymore to use a file ID.\n",
            "  warnings.warn(\n",
            "Downloading...\n",
            "From: https://drive.google.com/uc?id=1MmaZfFxHVEs0spM4iCB5NDRDM-bWKlIA\n",
            "To: /content/Practical-RIFE/InterpolacionModelo.zip\n",
            "100% 11.3M/11.3M [00:00<00:00, 108MB/s]\n",
            "\n",
            "7-Zip [64] 16.02 : Copyright (c) 1999-2016 Igor Pavlov : 2016-05-21\n",
            "p7zip Version 16.02 (locale=en_US.UTF-8,Utf16=on,HugeFiles=on,64 bits,2 CPUs Intel(R) Xeon(R) CPU @ 2.00GHz (50653),ASM,AES-NI)\n",
            "\n",
            "Scanning the drive for archives:\n",
            "  0M Scan\b\b\b\b\b\b\b\b\b         \b\b\b\b\b\b\b\b\b1 file, 11319928 bytes (11 MiB)\n",
            "\n",
            "Extracting archive: InterpolacionModelo.zip\n",
            "--\n",
            "Path = InterpolacionModelo.zip\n",
            "Type = zip\n",
            "Physical Size = 11319928\n",
            "\n",
            "  0%\b\b\b\b    \b\b\b\bEverything is Ok\n",
            "\n",
            "Folders: 1\n",
            "Files: 6\n",
            "Size:       12207729\n",
            "Compressed: 11319928\n"
          ]
        }
      ]
    },
    {
      "cell_type": "code",
      "source": [
        "#@markdown # 3.5)** Montar el archivo Videode Google Drive\n",
        "#@markdown Pon la ruta del archivo en tu google drive \"content/drive/MyDrive/... y da click\"\n",
        "import shutil\n",
        "\n",
        "\n",
        "drive_mounted = True\n",
        "drive_path = '/content/drive/MyDrive/ESRGAN-Videos/Mejoradopaprikaintrodst.mp4'#@param{type: \"string\"}\n",
        "file_name = drive_path.split('/')[-1]\n",
        "input_path = f'/content/drive/MyDrive{drive_path}'\n",
        "shutil.copy(drive_path,'/content/Practical-RIFE')\n",
        "print(\"video path set:\\n\",input_path)\n"
      ],
      "metadata": {
        "colab": {
          "base_uri": "https://localhost:8080/"
        },
        "id": "ESdbiFXCrgyd",
        "outputId": "8334bd63-d117-45c2-945f-aef121e0bac7",
        "cellView": "form"
      },
      "execution_count": null,
      "outputs": [
        {
          "output_type": "stream",
          "name": "stdout",
          "text": [
            "video path set:\n",
            " /content/drive/MyDrive/content/drive/MyDrive/ESRGAN-Videos/Mejoradopaprikaintrodst.mp4\n"
          ]
        }
      ]
    },
    {
      "cell_type": "code",
      "source": [
        "\n",
        "#@markdown # **3) Inter polacion de video**\n",
        "#@markdown\n",
        "import shutil\n",
        "fps=60\n",
        "muliplicacion=2\n",
        "\n",
        "#Si es resoluacion 4 poner --scale=0.5\n",
        "!python3 inference_video.py --exp=1 --fps={fps}  --multi={muliplicacion} --video={file_name} --scale=0.5"
      ],
      "metadata": {
        "colab": {
          "base_uri": "https://localhost:8080/"
        },
        "id": "SSvefG1krkw5",
        "outputId": "1899a00c-063c-4609-fed0-2ff237e3447b"
      },
      "execution_count": null,
      "outputs": [
        {
          "output_type": "stream",
          "name": "stdout",
          "text": [
            "Loaded 3.x/4.x HD model.\n",
            "Mejoradopaprikaintrodst.mp4, 3330.0 frames in total, 30.0FPS to 60FPS\n",
            "Will not merge audio because using png or fps flag!\n",
            "100% 3329/3330.0 [24:40<00:00,  2.25it/s]\n"
          ]
        }
      ]
    },
    {
      "cell_type": "code",
      "source": [
        "#@markdown # **5) ** Poner audio original +4k HDR\n",
        "\n",
        "import subprocess\n",
        "import os\n",
        "name_file_sin_ext=os.path.splitext(file_name)[0]\n",
        "\n",
        "fileFullNamme= f'{name_file_sin_ext}_{str(muliplicacion)}X_{fps}fps.mp4'\n",
        "print(fileFullNamme)\n",
        "\n",
        "\n",
        "if os.path.exists(f'/content/Practical-RIFE/Audio_{fileFullNamme}'):\n",
        "    os.remove(f'/content/Practical-RIFE/Audio_{fileFullNamme}')\n",
        "\n",
        "cmd = [\n",
        "      'ffmpeg',\n",
        "\n",
        "     '-i',\n",
        "     f'/content/Practical-RIFE/{fileFullNamme}',\n",
        "      '-i',\n",
        "        f'/content/Practical-RIFE/{file_name}',\n",
        "      '-map', '0:v',\n",
        "      '-map', '1:a',\n",
        "  '-vf',\"scale=3840:2160 ,hqdn3d=4:3:6:5,unsharp=5:5:1:5:5:1,eq=brightness=0.022:saturation=1.3:contrast=1.1,curves=all=0/0 0.2/0.3 0.7/1 1/1'\",\n",
        "      #activar filtro video si quermos a 4k hdr\n",
        "      '-c:v',\n",
        "       'h264_nvenc',\n",
        "       '-c:a',\n",
        "        'mp3',\n",
        "      '-r',\n",
        "      '60',\n",
        "       '-b:v','70M', #birate 8M (720P), 10M (720P:60FPS), 15M (1080P),25M(1080P:60FPS) ,40M(2K),50M(2K:60FP) 60M(4K:60FP)\n",
        "\n",
        "\n",
        "       f'/content/Practical-RIFE/Audio_{fileFullNamme}'\n",
        "\n",
        "]\n",
        "\n",
        "\n",
        "process = subprocess.Popen(cmd, stdout=subprocess.PIPE, stderr=subprocess.PIPE)\n",
        "stdout, stderr = process.communicate()\n",
        "if process.returncode != 0:\n",
        "    print(stderr)\n",
        "    raise RuntimeError(stderr)\n",
        "else:\n",
        "    print(\"Se puso el audio \")"
      ],
      "metadata": {
        "colab": {
          "base_uri": "https://localhost:8080/"
        },
        "id": "TRQ-p6SMrrSl",
        "outputId": "f49da195-ddaf-4ebb-b1bd-0798cce8966b"
      },
      "execution_count": null,
      "outputs": [
        {
          "output_type": "stream",
          "name": "stdout",
          "text": [
            "Mejoradopaprikaintrodst_2X_60fps.mp4\n",
            "Se puso el audio \n"
          ]
        }
      ]
    },
    {
      "cell_type": "code",
      "source": [
        "\n",
        "#@markdown # **6)Descargar archivo mejorado**\n",
        "#@markdown Se pasara el archivo a nuestro drive\n",
        "import os\n",
        "from google.colab import files\n",
        "\n",
        "\n",
        "\n",
        "\n",
        "if drive_mounted:\n",
        "  if os.path.exists('/content/drive/MyDrive/Real-Rife-Videos') is not True:\n",
        "    os.makedirs('/content/drive/MyDrive/Real-Rife-Videos')\n",
        "  shutil.move(f'/content/Practical-RIFE/Audio_{fileFullNamme}',f'/content/drive/MyDrive/Real-Rife-Videos/')\n",
        "  print(f\"MOviendo {fileFullNamme} el archivo a la carpetaReal-Rife-Videos en tu Drive\")\n"
      ],
      "metadata": {
        "colab": {
          "base_uri": "https://localhost:8080/"
        },
        "id": "lDdwZucirzWN",
        "outputId": "0a982c9a-e94c-40a6-d505-2377924f6a2f"
      },
      "execution_count": null,
      "outputs": [
        {
          "output_type": "stream",
          "name": "stdout",
          "text": [
            "MOviendo Mejoradopaprikaintrodst_2X_60fps.mp4 el archivo a la carpetaReal-Rife-Videos en tu Drive\n"
          ]
        }
      ]
    },
    {
      "cell_type": "markdown",
      "source": [
        "# UTILIADES: (OJO NUESTRO ARCHVIO DEBE DE ESTAR SELCINADO EN DRIVE)\n"
      ],
      "metadata": {
        "id": "9a9ru-P7svYx"
      }
    },
    {
      "cell_type": "code",
      "source": [
        "#@markdown #   ** Convertir a 10fps (Opcional Experimental)\n",
        "#@markdown Si nuestro archvio no esta en 10fps  los videos van a salir mas largos o cortos que no encajaran con el audio\n",
        "\n",
        "import subprocess\n",
        "\n",
        "cmd = [\n",
        "      'ffmpeg',\n",
        "     '-i',f'/content/Practical-RIFE/{file_name}',\n",
        "\n",
        "     #'-vf',\"scale=3840:2160\",\n",
        "\n",
        "    \"-r\", '10',  # Establece la tasa de cuadros de salida en 30 fps\n",
        "    \"-c:v\", \"h264_nvenc\",  # Utiliza el códec NVENC H.264\n",
        "    \"-c:a\", \"aac\",  # Códec de audio (puedes ajustarlo según tus necesidades)\n",
        "    \"-strict\", \"experimental\",\n",
        "\n",
        "      \"-b:v\",\"40M\",#birate 8M (720P), 10M (720P:60FPS), 15M (1080P),25M(1080P:60FPS) ,40M(2K),50M(2K:60FP) 60M(4K:60FP)\n",
        "\n",
        "\n",
        "       f'/content/Practical-RIFE/10_{file_name}'\n",
        "\n",
        "]\n",
        "\n",
        "\n",
        "process = subprocess.Popen(cmd, stdout=subprocess.PIPE, stderr=subprocess.PIPE)\n",
        "stdout, stderr = process.communicate()\n",
        "if process.returncode != 0:\n",
        "    print(stderr)\n",
        "\n",
        "    raise RuntimeError(stderr)\n",
        "else:\n",
        "\n",
        "  shutil.move(f'/content/Practical-RIFE/10_{file_name}', f'/content/Practical-RIFE/{file_name}')\n"
      ],
      "metadata": {
        "id": "SAPlhu-Xsz2g"
      },
      "execution_count": null,
      "outputs": []
    },
    {
      "cell_type": "code",
      "source": [
        "#@markdown #  ** Convertir a 20fps (Opcional Experimental)\n",
        "#@markdown Si nuestro archvio no esta en 20fps  los videos van a salir mas largos o cortos que no encajaran con el audio\n",
        "\n",
        "import subprocess\n",
        "\n",
        "cmd = [\n",
        "      'ffmpeg',\n",
        "     '-i',f'/content/Practical-RIFE/{file_name}',\n",
        "\n",
        "     #'-vf',\"scale=3840:2160\",\n",
        "\n",
        "    \"-r\", '20',  # Establece la tasa de cuadros de salida en 30 fps\n",
        "    \"-c:v\", \"h264_nvenc\",  # Utiliza el códec NVENC H.264\n",
        "    \"-c:a\", \"aac\",  # Códec de audio (puedes ajustarlo según tus necesidades)\n",
        "    \"-strict\", \"experimental\",\n",
        "\n",
        "      #\"-b:v\",\"40M\",#birate 8M (720P), 10M (720P:60FPS), 15M (1080P),25M(1080P:60FPS) ,40M(2K),50M(2K:60FP) 60M(4K:60FP)\n",
        "\n",
        "\n",
        "       f'/content/Practical-RIFE/20_{file_name}'\n",
        "\n",
        "]\n",
        "\n",
        "\n",
        "process = subprocess.Popen(cmd, stdout=subprocess.PIPE, stderr=subprocess.PIPE)\n",
        "stdout, stderr = process.communicate()\n",
        "if process.returncode != 0:\n",
        "    print(stderr)\n",
        "\n",
        "    raise RuntimeError(stderr)\n",
        "else:\n",
        "\n",
        "  shutil.move(f'/content/Practical-RIFE/20_{file_name}', f'/content/Practical-RIFE/{file_name}')\n"
      ],
      "metadata": {
        "id": "4mB4WXgWs3Ck",
        "outputId": "fd27f255-0704-42ad-f414-dfb549ac0243",
        "colab": {
          "base_uri": "https://localhost:8080/",
          "height": 390
        }
      },
      "execution_count": null,
      "outputs": [
        {
          "output_type": "error",
          "ename": "KeyboardInterrupt",
          "evalue": "ignored",
          "traceback": [
            "\u001b[0;31m---------------------------------------------------------------------------\u001b[0m",
            "\u001b[0;31mKeyboardInterrupt\u001b[0m                         Traceback (most recent call last)",
            "\u001b[0;32m<ipython-input-7-7b79c66183ed>\u001b[0m in \u001b[0;36m<cell line: 26>\u001b[0;34m()\u001b[0m\n\u001b[1;32m     24\u001b[0m \u001b[0;34m\u001b[0m\u001b[0m\n\u001b[1;32m     25\u001b[0m \u001b[0mprocess\u001b[0m \u001b[0;34m=\u001b[0m \u001b[0msubprocess\u001b[0m\u001b[0;34m.\u001b[0m\u001b[0mPopen\u001b[0m\u001b[0;34m(\u001b[0m\u001b[0mcmd\u001b[0m\u001b[0;34m,\u001b[0m \u001b[0mstdout\u001b[0m\u001b[0;34m=\u001b[0m\u001b[0msubprocess\u001b[0m\u001b[0;34m.\u001b[0m\u001b[0mPIPE\u001b[0m\u001b[0;34m,\u001b[0m \u001b[0mstderr\u001b[0m\u001b[0;34m=\u001b[0m\u001b[0msubprocess\u001b[0m\u001b[0;34m.\u001b[0m\u001b[0mPIPE\u001b[0m\u001b[0;34m)\u001b[0m\u001b[0;34m\u001b[0m\u001b[0;34m\u001b[0m\u001b[0m\n\u001b[0;32m---> 26\u001b[0;31m \u001b[0mstdout\u001b[0m\u001b[0;34m,\u001b[0m \u001b[0mstderr\u001b[0m \u001b[0;34m=\u001b[0m \u001b[0mprocess\u001b[0m\u001b[0;34m.\u001b[0m\u001b[0mcommunicate\u001b[0m\u001b[0;34m(\u001b[0m\u001b[0;34m)\u001b[0m\u001b[0;34m\u001b[0m\u001b[0;34m\u001b[0m\u001b[0m\n\u001b[0m\u001b[1;32m     27\u001b[0m \u001b[0;32mif\u001b[0m \u001b[0mprocess\u001b[0m\u001b[0;34m.\u001b[0m\u001b[0mreturncode\u001b[0m \u001b[0;34m!=\u001b[0m \u001b[0;36m0\u001b[0m\u001b[0;34m:\u001b[0m\u001b[0;34m\u001b[0m\u001b[0;34m\u001b[0m\u001b[0m\n\u001b[1;32m     28\u001b[0m     \u001b[0mprint\u001b[0m\u001b[0;34m(\u001b[0m\u001b[0mstderr\u001b[0m\u001b[0;34m)\u001b[0m\u001b[0;34m\u001b[0m\u001b[0;34m\u001b[0m\u001b[0m\n",
            "\u001b[0;32m/usr/lib/python3.10/subprocess.py\u001b[0m in \u001b[0;36mcommunicate\u001b[0;34m(self, input, timeout)\u001b[0m\n\u001b[1;32m   1152\u001b[0m \u001b[0;34m\u001b[0m\u001b[0m\n\u001b[1;32m   1153\u001b[0m             \u001b[0;32mtry\u001b[0m\u001b[0;34m:\u001b[0m\u001b[0;34m\u001b[0m\u001b[0;34m\u001b[0m\u001b[0m\n\u001b[0;32m-> 1154\u001b[0;31m                 \u001b[0mstdout\u001b[0m\u001b[0;34m,\u001b[0m \u001b[0mstderr\u001b[0m \u001b[0;34m=\u001b[0m \u001b[0mself\u001b[0m\u001b[0;34m.\u001b[0m\u001b[0m_communicate\u001b[0m\u001b[0;34m(\u001b[0m\u001b[0minput\u001b[0m\u001b[0;34m,\u001b[0m \u001b[0mendtime\u001b[0m\u001b[0;34m,\u001b[0m \u001b[0mtimeout\u001b[0m\u001b[0;34m)\u001b[0m\u001b[0;34m\u001b[0m\u001b[0;34m\u001b[0m\u001b[0m\n\u001b[0m\u001b[1;32m   1155\u001b[0m             \u001b[0;32mexcept\u001b[0m \u001b[0mKeyboardInterrupt\u001b[0m\u001b[0;34m:\u001b[0m\u001b[0;34m\u001b[0m\u001b[0;34m\u001b[0m\u001b[0m\n\u001b[1;32m   1156\u001b[0m                 \u001b[0;31m# https://bugs.python.org/issue25942\u001b[0m\u001b[0;34m\u001b[0m\u001b[0;34m\u001b[0m\u001b[0m\n",
            "\u001b[0;32m/usr/lib/python3.10/subprocess.py\u001b[0m in \u001b[0;36m_communicate\u001b[0;34m(self, input, endtime, orig_timeout)\u001b[0m\n\u001b[1;32m   2019\u001b[0m                             'failed to raise TimeoutExpired.')\n\u001b[1;32m   2020\u001b[0m \u001b[0;34m\u001b[0m\u001b[0m\n\u001b[0;32m-> 2021\u001b[0;31m                     \u001b[0mready\u001b[0m \u001b[0;34m=\u001b[0m \u001b[0mselector\u001b[0m\u001b[0;34m.\u001b[0m\u001b[0mselect\u001b[0m\u001b[0;34m(\u001b[0m\u001b[0mtimeout\u001b[0m\u001b[0;34m)\u001b[0m\u001b[0;34m\u001b[0m\u001b[0;34m\u001b[0m\u001b[0m\n\u001b[0m\u001b[1;32m   2022\u001b[0m                     \u001b[0mself\u001b[0m\u001b[0;34m.\u001b[0m\u001b[0m_check_timeout\u001b[0m\u001b[0;34m(\u001b[0m\u001b[0mendtime\u001b[0m\u001b[0;34m,\u001b[0m \u001b[0morig_timeout\u001b[0m\u001b[0;34m,\u001b[0m \u001b[0mstdout\u001b[0m\u001b[0;34m,\u001b[0m \u001b[0mstderr\u001b[0m\u001b[0;34m)\u001b[0m\u001b[0;34m\u001b[0m\u001b[0;34m\u001b[0m\u001b[0m\n\u001b[1;32m   2023\u001b[0m \u001b[0;34m\u001b[0m\u001b[0m\n",
            "\u001b[0;32m/usr/lib/python3.10/selectors.py\u001b[0m in \u001b[0;36mselect\u001b[0;34m(self, timeout)\u001b[0m\n\u001b[1;32m    414\u001b[0m         \u001b[0mready\u001b[0m \u001b[0;34m=\u001b[0m \u001b[0;34m[\u001b[0m\u001b[0;34m]\u001b[0m\u001b[0;34m\u001b[0m\u001b[0;34m\u001b[0m\u001b[0m\n\u001b[1;32m    415\u001b[0m         \u001b[0;32mtry\u001b[0m\u001b[0;34m:\u001b[0m\u001b[0;34m\u001b[0m\u001b[0;34m\u001b[0m\u001b[0m\n\u001b[0;32m--> 416\u001b[0;31m             \u001b[0mfd_event_list\u001b[0m \u001b[0;34m=\u001b[0m \u001b[0mself\u001b[0m\u001b[0;34m.\u001b[0m\u001b[0m_selector\u001b[0m\u001b[0;34m.\u001b[0m\u001b[0mpoll\u001b[0m\u001b[0;34m(\u001b[0m\u001b[0mtimeout\u001b[0m\u001b[0;34m)\u001b[0m\u001b[0;34m\u001b[0m\u001b[0;34m\u001b[0m\u001b[0m\n\u001b[0m\u001b[1;32m    417\u001b[0m         \u001b[0;32mexcept\u001b[0m \u001b[0mInterruptedError\u001b[0m\u001b[0;34m:\u001b[0m\u001b[0;34m\u001b[0m\u001b[0;34m\u001b[0m\u001b[0m\n\u001b[1;32m    418\u001b[0m             \u001b[0;32mreturn\u001b[0m \u001b[0mready\u001b[0m\u001b[0;34m\u001b[0m\u001b[0;34m\u001b[0m\u001b[0m\n",
            "\u001b[0;31mKeyboardInterrupt\u001b[0m: "
          ]
        }
      ]
    },
    {
      "cell_type": "code",
      "source": [
        "#@markdown #  ** Convertir a 30fps (Opcional)\n",
        "#@markdown Si nuestro archvio no esta en 30fps  los videos van a salir mas largos o cortos que no encajaran con el audio\n",
        "\n",
        "import subprocess\n",
        "\n",
        "cmd = [\n",
        "      'ffmpeg',\n",
        "     '-i',f'/content/Practical-RIFE/{file_name}',\n",
        "\n",
        "     #'-vf',\"scale=3840:2160\",\n",
        "\n",
        "    \"-r\", '30',  # Establece la tasa de cuadros de salida en 30 fps\n",
        "    \"-c:v\", \"h264_nvenc\",  # Utiliza el códec NVENC H.264\n",
        "    \"-c:a\", \"aac\",  # Códec de audio (puedes ajustarlo según tus necesidades)\n",
        "    \"-strict\", \"experimental\",\n",
        "\n",
        "      \"-b:v\",\"60M\",#birate 8M (720P), 10M (720P:60FPS), 15M (1080P),25M(1080P:60FPS) ,40M(2K),50M(2K:60FP) 60M(4K:60FP)\n",
        "\n",
        "\n",
        "       f'/content/Practical-RIFE/30_{file_name}'\n",
        "\n",
        "]\n",
        "\n",
        "\n",
        "process = subprocess.Popen(cmd, stdout=subprocess.PIPE, stderr=subprocess.PIPE)\n",
        "stdout, stderr = process.communicate()\n",
        "if process.returncode != 0:\n",
        "    print(stderr)\n",
        "\n",
        "    raise RuntimeError(stderr)\n",
        "else:\n",
        "\n",
        "  shutil.move(f'/content/Practical-RIFE/30_{file_name}', f'/content/Practical-RIFE/{file_name}')"
      ],
      "metadata": {
        "id": "ysYW-fRjs44V"
      },
      "execution_count": null,
      "outputs": []
    },
    {
      "cell_type": "code",
      "source": [
        "#@markdown #  ** Subir a youtube (Opcional)\n",
        "#@markdown\n",
        "\n",
        "!pip install google-auth google-auth-oauthlib google-auth-httplib2 google-api-python-client\n",
        "\n",
        "from google.colab import auth\n",
        "from googleapiclient.http import MediaFileUpload\n",
        "from googleapiclient.discovery import build\n",
        "\n",
        "# Autentica con tu cuenta de Google\n",
        "auth.authenticate_user()\n",
        "\n",
        "# Crea una instancia de la API de YouTube\n",
        "youtube = build('youtube', 'v3')\n",
        "\n",
        "# Especifica el ID de la cuenta de YouTube a la que deseas subir el video\n",
        "channel_id ='UCnIQSwiMpOJ1ufGj58vSSMA' #@param{type: \"string\"}\n",
        "\n",
        "# Ruta al video que deseas subir\n",
        "video_path = '/content/drive/MyDrive/ESRGAN-Videos/MejoradoTrailer.mp4.mp4'#@param{type: \"string\"}\n",
        "\n",
        "# Carga el video\n",
        "media = MediaFileUpload(video_path)\n",
        "\n",
        "# Sube el video a YouTube\n",
        "\n",
        "titulo_video='Perfect Blue  Trailer [4k 60fps HDR]'#@param{type: \"string\"}\n",
        "Descripcion='Perfect blue movie trailer 4k 60fps Hdr'#@param{type: \"string\"}\n",
        "Categoria='10'#@param{type: \"string\"}\n",
        "Estado='Private'#@param{type: \"string\"}\n",
        "request = youtube.videos().insert(\n",
        "    part=\"snippet,status\",\n",
        "    body={\n",
        "      \"snippet\": {\n",
        "        \"title\": {titulo_video},\n",
        "        \"description\": {Descripcion},\n",
        "        \"categoryId\": {Categoria},  # ID de la categoría de YouTube (puedes ajustar esto)\n",
        "      },\n",
        "      \"status\": {\n",
        "        \"privacyStatus\":{Estado},  # Configura la privacidad del video\n",
        "      },\n",
        "    },\n",
        "    media_body=media\n",
        ")\n",
        "\n",
        "response = request.execute()\n",
        "\n",
        "print(f\"Video subido exitosamente. Enlace: https://www.youtube.com/watch?v={response['id']}\")"
      ],
      "metadata": {
        "id": "CCf2rC-OjOTs"
      },
      "execution_count": null,
      "outputs": []
    }
  ]
}