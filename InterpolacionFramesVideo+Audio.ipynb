{
  "nbformat": 4,
  "nbformat_minor": 0,
  "metadata": {
    "colab": {
      "provenance": [],
      "gpuType": "T4",
      "include_colab_link": true
    },
    "kernelspec": {
      "name": "python3",
      "display_name": "Python 3"
    },
    "language_info": {
      "name": "python"
    },
    "accelerator": "GPU"
  },
  "cells": [
    {
      "cell_type": "markdown",
      "metadata": {
        "id": "view-in-github",
        "colab_type": "text"
      },
      "source": [
        "<a href=\"https://colab.research.google.com/github/JuniorHZ19/HerramientasIA/blob/main/InterpolacionFramesVideo%2BAudio.ipynb\" target=\"_parent\"><img src=\"https://colab.research.google.com/assets/colab-badge.svg\" alt=\"Open In Colab\"/></a>"
      ]
    },
    {
      "cell_type": "code",
      "execution_count": 1,
      "metadata": {
        "id": "Hr1X9uIyppHQ",
        "outputId": "4d76fc65-3b24-4bc9-b2d2-4b42ffa334e8",
        "colab": {
          "base_uri": "https://localhost:8080/",
          "height": 1000
        }
      },
      "outputs": [
        {
          "output_type": "stream",
          "name": "stdout",
          "text": [
            "Cloning into 'Practical-RIFE'...\n",
            "remote: Enumerating objects: 289, done.\u001b[K\n",
            "remote: Counting objects: 100% (160/160), done.\u001b[K\n",
            "remote: Compressing objects: 100% (71/71), done.\u001b[K\n",
            "remote: Total 289 (delta 126), reused 114 (delta 89), pack-reused 129\u001b[K\n",
            "Receiving objects: 100% (289/289), 2.95 MiB | 16.22 MiB/s, done.\n",
            "Resolving deltas: 100% (161/161), done.\n",
            "/content/Practical-RIFE\n",
            "/bin/bash: line 1: import: command not found\n",
            "Requirement already satisfied: numpy<=1.23.5,>=1.16 in /usr/local/lib/python3.10/dist-packages (from -r requirements.txt (line 1)) (1.23.5)\n",
            "Requirement already satisfied: tqdm>=4.35.0 in /usr/local/lib/python3.10/dist-packages (from -r requirements.txt (line 2)) (4.66.1)\n",
            "Collecting sk-video>=1.1.10 (from -r requirements.txt (line 3))\n",
            "  Downloading sk_video-1.1.10-py2.py3-none-any.whl (2.3 MB)\n",
            "\u001b[2K     \u001b[90m━━━━━━━━━━━━━━━━━━━━━━━━━━━━━━━━━━━━━━━━\u001b[0m \u001b[32m2.3/2.3 MB\u001b[0m \u001b[31m15.9 MB/s\u001b[0m eta \u001b[36m0:00:00\u001b[0m\n",
            "\u001b[?25hRequirement already satisfied: torch>=1.3.0 in /usr/local/lib/python3.10/dist-packages (from -r requirements.txt (line 4)) (2.1.0+cu118)\n",
            "Requirement already satisfied: opencv-python>=4.1.2 in /usr/local/lib/python3.10/dist-packages (from -r requirements.txt (line 5)) (4.8.0.76)\n",
            "Requirement already satisfied: moviepy>=1.0.3 in /usr/local/lib/python3.10/dist-packages (from -r requirements.txt (line 6)) (1.0.3)\n",
            "\u001b[31mERROR: Could not find a version that satisfies the requirement torchvision==0.7.0 (from versions: 0.1.6, 0.1.7, 0.1.8, 0.1.9, 0.2.0, 0.2.1, 0.2.2, 0.2.2.post2, 0.2.2.post3, 0.12.0, 0.13.0, 0.13.1, 0.14.0, 0.14.1, 0.15.0, 0.15.1, 0.15.2, 0.16.0)\u001b[0m\u001b[31m\n",
            "\u001b[0m\u001b[31mERROR: No matching distribution found for torchvision==0.7.0\u001b[0m\u001b[31m\n",
            "\u001b[0mRequirement already satisfied: pip in /usr/local/lib/python3.10/dist-packages (23.1.2)\n",
            "Collecting pip\n",
            "  Downloading pip-23.3.1-py3-none-any.whl (2.1 MB)\n",
            "\u001b[2K     \u001b[90m━━━━━━━━━━━━━━━━━━━━━━━━━━━━━━━━━━━━━━━━\u001b[0m \u001b[32m2.1/2.1 MB\u001b[0m \u001b[31m15.4 MB/s\u001b[0m eta \u001b[36m0:00:00\u001b[0m\n",
            "\u001b[?25hRequirement already satisfied: setuptools in /usr/local/lib/python3.10/dist-packages (67.7.2)\n",
            "Collecting setuptools\n",
            "  Downloading setuptools-68.2.2-py3-none-any.whl (807 kB)\n",
            "\u001b[2K     \u001b[90m━━━━━━━━━━━━━━━━━━━━━━━━━━━━━━━━━━━━━━━━\u001b[0m \u001b[32m807.9/807.9 kB\u001b[0m \u001b[31m28.4 MB/s\u001b[0m eta \u001b[36m0:00:00\u001b[0m\n",
            "\u001b[?25hInstalling collected packages: setuptools, pip\n",
            "  Attempting uninstall: setuptools\n",
            "    Found existing installation: setuptools 67.7.2\n",
            "    Uninstalling setuptools-67.7.2:\n",
            "      Successfully uninstalled setuptools-67.7.2\n",
            "  Attempting uninstall: pip\n",
            "    Found existing installation: pip 23.1.2\n",
            "    Uninstalling pip-23.1.2:\n",
            "      Successfully uninstalled pip-23.1.2\n",
            "\u001b[31mERROR: pip's dependency resolver does not currently take into account all the packages that are installed. This behaviour is the source of the following dependency conflicts.\n",
            "ipython 7.34.0 requires jedi>=0.16, which is not installed.\n",
            "lida 0.0.10 requires fastapi, which is not installed.\n",
            "lida 0.0.10 requires kaleido, which is not installed.\n",
            "lida 0.0.10 requires python-multipart, which is not installed.\n",
            "lida 0.0.10 requires uvicorn, which is not installed.\u001b[0m\u001b[31m\n",
            "\u001b[0mSuccessfully installed pip-23.3.1 setuptools-68.2.2\n"
          ]
        },
        {
          "output_type": "display_data",
          "data": {
            "application/vnd.colab-display-data+json": {
              "pip_warning": {
                "packages": [
                  "_distutils_hack",
                  "pkg_resources",
                  "setuptools"
                ]
              }
            }
          },
          "metadata": {}
        },
        {
          "output_type": "stream",
          "name": "stdout",
          "text": [
            "Collecting sk-video\n",
            "  Downloading sk_video-1.1.10-py2.py3-none-any.whl (2.3 MB)\n",
            "\u001b[2K     \u001b[90m━━━━━━━━━━━━━━━━━━━━━━━━━━━━━━━━━━━━━━━━\u001b[0m \u001b[32m2.3/2.3 MB\u001b[0m \u001b[31m15.9 MB/s\u001b[0m eta \u001b[36m0:00:00\u001b[0m\n",
            "\u001b[?25hRequirement already satisfied: numpy in /usr/local/lib/python3.10/dist-packages (from sk-video) (1.23.5)\n",
            "Requirement already satisfied: scipy in /usr/local/lib/python3.10/dist-packages (from sk-video) (1.11.3)\n",
            "Installing collected packages: sk-video\n",
            "Successfully installed sk-video-1.1.10\n",
            "\u001b[33mWARNING: Running pip as the 'root' user can result in broken permissions and conflicting behaviour with the system package manager. It is recommended to use a virtual environment instead: https://pip.pypa.io/warnings/venv\u001b[0m\u001b[33m\n",
            "\u001b[0m"
          ]
        }
      ],
      "source": [
        "#@markdown # **1) Instalar Librerias**\n",
        "# # Clone Real-ESRGAN and enter the Real-ESRGAN\n",
        "!git clone https://github.com/hzwer/Practical-RIFE.git\n",
        "%cd Practical-RIFE\n",
        "! import skvideo.io\n",
        "!pip3 install -r requirements.txt\n",
        "!pip3 install --upgrade pip setuptools\n",
        "!pip install sk-video"
      ]
    },
    {
      "cell_type": "code",
      "source": [
        "#@markdown # **1) Instalar Modelo**\n",
        "!mkdir /content/Practical-RIFE/train_log\n",
        "!gdown --id 1MmaZfFxHVEs0spM4iCB5NDRDM-bWKlIA\n",
        "!7z e InterpolacionModelo.zip\n",
        "\n",
        "# Ruta al archivo ZIP que deseas descomprimir\n",
        "archivo_zip = '/content/Practical-RIFE/InterpolacionModelo.zip'\n",
        "\n",
        "import zipfile\n",
        "# Directorio de destino para la descompresión\n",
        "directorio_destino = '/content/Practical-RIFE/train_log'\n",
        "\n",
        "with zipfile.ZipFile(archivo_zip, 'r') as zip_ref:\n",
        "    # Descomprime los archivos en el directorio de destino\n",
        "    zip_ref.extractall(directorio_destino)\n"
      ],
      "metadata": {
        "id": "m4pbf1AlsJSV",
        "outputId": "08a84f79-6d53-4679-8cca-cfb0494b16e7",
        "colab": {
          "base_uri": "https://localhost:8080/"
        }
      },
      "execution_count": 2,
      "outputs": [
        {
          "output_type": "stream",
          "name": "stdout",
          "text": [
            "/usr/local/lib/python3.10/dist-packages/gdown/cli.py:121: FutureWarning: Option `--id` was deprecated in version 4.3.1 and will be removed in 5.0. You don't need to pass it anymore to use a file ID.\n",
            "  warnings.warn(\n",
            "Downloading...\n",
            "From: https://drive.google.com/uc?id=1MmaZfFxHVEs0spM4iCB5NDRDM-bWKlIA\n",
            "To: /content/Practical-RIFE/InterpolacionModelo.zip\n",
            "100% 11.3M/11.3M [00:00<00:00, 22.1MB/s]\n",
            "\n",
            "7-Zip [64] 16.02 : Copyright (c) 1999-2016 Igor Pavlov : 2016-05-21\n",
            "p7zip Version 16.02 (locale=en_US.UTF-8,Utf16=on,HugeFiles=on,64 bits,2 CPUs Intel(R) Xeon(R) CPU @ 2.00GHz (50653),ASM,AES-NI)\n",
            "\n",
            "Scanning the drive for archives:\n",
            "  0M Scan\b\b\b\b\b\b\b\b\b         \b\b\b\b\b\b\b\b\b1 file, 11319928 bytes (11 MiB)\n",
            "\n",
            "Extracting archive: InterpolacionModelo.zip\n",
            "--\n",
            "Path = InterpolacionModelo.zip\n",
            "Type = zip\n",
            "Physical Size = 11319928\n",
            "\n",
            "  0%\b\b\b\b    \b\b\b\bEverything is Ok\n",
            "\n",
            "Folders: 1\n",
            "Files: 6\n",
            "Size:       12207729\n",
            "Compressed: 11319928\n"
          ]
        }
      ]
    },
    {
      "cell_type": "code",
      "source": [
        "#@markdown # **1) Montar Driver**\n",
        "from google.colab import drive, files\n",
        "drive.mount('/content/drive')"
      ],
      "metadata": {
        "id": "DAXUAQtTxBzS",
        "outputId": "a351440c-d74c-4aff-e944-6d6833d47d18",
        "colab": {
          "base_uri": "https://localhost:8080/"
        }
      },
      "execution_count": 3,
      "outputs": [
        {
          "output_type": "stream",
          "name": "stdout",
          "text": [
            "Mounted at /content/drive\n"
          ]
        }
      ]
    },
    {
      "cell_type": "code",
      "source": [
        "#@markdown # **3.5) ** Montar el archivo de Google Drive\n",
        "#@markdown Pon la ruta del archivo en tu google drive \"content/drive/MyDrive/... y da click\"\n",
        "import shutil\n",
        "\n",
        "\n",
        "drive_mounted = True\n",
        "drive_path = '/content/drive/MyDrive/10fpstest.mp4'#@param{type: \"string\"}\n",
        "file_name = drive_path.split('/')[-1]\n",
        "input_path = f'/content/drive/MyDrive{drive_path}'\n",
        "shutil.copy(drive_path,'/content/Practical-RIFE')\n",
        "print(\"video path set:\\n\",input_path)"
      ],
      "metadata": {
        "id": "hzEAC2b1xs6s",
        "outputId": "91b98996-4182-4d6a-a95e-54feb70fb2b7",
        "colab": {
          "base_uri": "https://localhost:8080/"
        }
      },
      "execution_count": 5,
      "outputs": [
        {
          "output_type": "stream",
          "name": "stdout",
          "text": [
            "video path set:\n",
            " /content/drive/MyDrive/content/drive/MyDrive/10fpstest.mp4\n"
          ]
        }
      ]
    },
    {
      "cell_type": "code",
      "source": [
        "#@markdown # **3.5 ) ** Convertir a 10fps (Opcional Experimental)\n",
        "#@markdown Si nuestro archvio no esta en 10fps  los videos van a salir mas largos o cortos que no encajaran con el audio\n",
        "\n",
        "import subprocess\n",
        "\n",
        "cmd = [\n",
        "      'ffmpeg',\n",
        "     '-i',f'/content/Practical-RIFE/{file_name}',\n",
        "\n",
        "     #'-vf',\"scale=3840:2160\",\n",
        "\n",
        "    \"-r\", '10',  # Establece la tasa de cuadros de salida en 30 fps\n",
        "    \"-c:v\", \"h264_nvenc\",  # Utiliza el códec NVENC H.264\n",
        "    \"-c:a\", \"aac\",  # Códec de audio (puedes ajustarlo según tus necesidades)\n",
        "    \"-strict\", \"experimental\",\n",
        "\n",
        "      #\"-b:v\",\"40M\",#birate 5M (720P), 6M (720P:60FPS),8M(1080P), 10M (1080P),15M(1080P:60FPS) ,25M(2K),30M(2K:60FP) 40M(4K:60FP)\n",
        "\n",
        "\n",
        "       f'/content/Practical-RIFE/10_{file_name}'\n",
        "\n",
        "]\n",
        "\n",
        "\n",
        "process = subprocess.Popen(cmd, stdout=subprocess.PIPE, stderr=subprocess.PIPE)\n",
        "stdout, stderr = process.communicate()\n",
        "if process.returncode != 0:\n",
        "    print(stderr)\n",
        "\n",
        "    raise RuntimeError(stderr)\n",
        "else:\n",
        "\n",
        "  shutil.move(f'/content/Practical-RIFE/10_{file_name}', f'/content/Practical-RIFE/{file_name}')\n"
      ],
      "metadata": {
        "id": "2GQjc9_mXgdk"
      },
      "execution_count": 8,
      "outputs": []
    },
    {
      "cell_type": "code",
      "source": [
        "#@markdown # **3.5 ) ** Convertir a 30fps (Opcional)\n",
        "#@markdown Si nuestro archvio no esta en 30fps  los videos van a salir mas largos o cortos que no encajaran con el audio\n",
        "\n",
        "import subprocess\n",
        "\n",
        "cmd = [\n",
        "      'ffmpeg',\n",
        "     '-i',f'/content/Practical-RIFE/{file_name}',\n",
        "\n",
        "     #'-vf',\"scale=3840:2160\",\n",
        "\n",
        "    \"-r\", '30',  # Establece la tasa de cuadros de salida en 30 fps\n",
        "    \"-c:v\", \"h264_nvenc\",  # Utiliza el códec NVENC H.264\n",
        "    \"-c:a\", \"aac\",  # Códec de audio (puedes ajustarlo según tus necesidades)\n",
        "    \"-strict\", \"experimental\",\n",
        "\n",
        "      #\"-b:v\",\"40M\",#birate 5M (720P), 6M (720P:60FPS),8M(1080P), 10M (1080P),15M(1080P:60FPS) ,25M(2K),30M(2K:60FP) 40M(4K:60FP)\n",
        "\n",
        "\n",
        "       f'/content/Practical-RIFE/30_{file_name}'\n",
        "\n",
        "]\n",
        "\n",
        "\n",
        "process = subprocess.Popen(cmd, stdout=subprocess.PIPE, stderr=subprocess.PIPE)\n",
        "stdout, stderr = process.communicate()\n",
        "if process.returncode != 0:\n",
        "    print(stderr)\n",
        "\n",
        "    raise RuntimeError(stderr)\n",
        "else:\n",
        "\n",
        "  shutil.move(f'/content/Practical-RIFE/30_{file_name}', f'/content/Practical-RIFE/{file_name}')\n"
      ],
      "metadata": {
        "id": "EQ0fr1s2oY5y"
      },
      "execution_count": null,
      "outputs": []
    },
    {
      "cell_type": "code",
      "source": [
        "#@markdown # **3.5) ** Interpolar\n",
        "import shutil\n",
        "fps=60\n",
        "muliplicacion=6\n",
        "\n",
        "#Si es resoluacion 4 poner --scale=0.5\n",
        "!python3 inference_video.py --exp=1 --fps={fps}  --multi={muliplicacion} --video={file_name} --scale=1"
      ],
      "metadata": {
        "id": "Rh9SOVDHyO8Q",
        "outputId": "e328cade-92bf-4608-9b30-446535ba8f01",
        "colab": {
          "base_uri": "https://localhost:8080/"
        }
      },
      "execution_count": 9,
      "outputs": [
        {
          "output_type": "stream",
          "name": "stdout",
          "text": [
            "Loaded 3.x/4.x HD model.\n",
            "10fpstest.mp4, 1347.0 frames in total, 10.0FPS to 60FPS\n",
            "Will not merge audio because using png or fps flag!\n",
            "100% 1346/1347.0 [07:55<00:00,  2.83it/s]\n"
          ]
        }
      ]
    },
    {
      "cell_type": "code",
      "source": [
        "#@markdown # **3.5) ** Poner audio original\n",
        "\n",
        "import subprocess\n",
        "import os\n",
        "name_file_sin_ext=os.path.splitext(file_name)[0]\n",
        "\n",
        "fileFullNamme= f'{name_file_sin_ext}_{str(muliplicacion)}X_{fps}fps.mp4'\n",
        "print(fileFullNamme)\n",
        "\n",
        "\n",
        "if os.path.exists(f'/content/Practical-RIFE/Audio_{fileFullNamme}'):\n",
        "    os.remove(f'/content/Practical-RIFE/Audio_{fileFullNamme}')\n",
        "\n",
        "cmd = [\n",
        "      'ffmpeg',\n",
        "\n",
        "     '-i',\n",
        "     f'/content/Practical-RIFE/{fileFullNamme}',\n",
        "      '-i',\n",
        "        f'/content/Practical-RIFE/{file_name}',\n",
        "      '-map', '0:v',\n",
        "      '-map', '1:a',\n",
        "        #'-vf',\"scale=3840:2160\",\n",
        "       '-c:v',\n",
        "       'h264_nvenc',\n",
        "       '-c:a',\n",
        "        'mp3',\n",
        "      '-r',\n",
        "      '60',\n",
        "       '-b:v','5M', #birate 5M (720P), 6M (720P:60FPS), 10M (1080P),15M(1080P:60FPS) ,25M(2K),30M(2K:60FP) 40M(4K:60FP)\n",
        "\n",
        "\n",
        "       f'/content/Practical-RIFE/Audio_{fileFullNamme}'\n",
        "\n",
        "]\n",
        "\n",
        "\n",
        "process = subprocess.Popen(cmd, stdout=subprocess.PIPE, stderr=subprocess.PIPE)\n",
        "stdout, stderr = process.communicate()\n",
        "if process.returncode != 0:\n",
        "    print(stderr)\n",
        "    raise RuntimeError(stderr)\n",
        "else:\n",
        "    print(\"Se puso el audio \")"
      ],
      "metadata": {
        "id": "eTqYIOJPZfbD",
        "outputId": "f8d7a44a-7fa1-427b-d4b5-167671ffa11b",
        "colab": {
          "base_uri": "https://localhost:8080/"
        }
      },
      "execution_count": 13,
      "outputs": [
        {
          "output_type": "stream",
          "name": "stdout",
          "text": [
            "10fpstest_6X_60fps.mp4\n",
            "Se puso el audio \n"
          ]
        }
      ]
    },
    {
      "cell_type": "code",
      "source": [
        "#@markdown # **6)Descargar archivo mejorado**\n",
        "#@markdown Se pasara el archivo a nuestro drive\n",
        "import os\n",
        "from google.colab import files\n",
        "\n",
        "\n",
        "\n",
        "\n",
        "if drive_mounted:\n",
        "  if os.path.exists('/content/drive/MyDrive/Real-Rife-Videos') is not True:\n",
        "    os.makedirs('/content/drive/MyDrive/Real-Rife-Videos')\n",
        "  shutil.move(f'/content/Practical-RIFE/Audio_{fileFullNamme}',f'/content/drive/MyDrive/Real-Rife-Videos/')\n",
        "  print(f\"MOviendo {fileFullNamme} el archivo a la carpetaReal-Rife-Videos en tu Drive\")\n"
      ],
      "metadata": {
        "id": "D0dMBkSSRf1G",
        "outputId": "950be6fa-fc6c-4f98-d489-0e9bbdbb6f9f",
        "colab": {
          "base_uri": "https://localhost:8080/"
        }
      },
      "execution_count": 15,
      "outputs": [
        {
          "output_type": "stream",
          "name": "stdout",
          "text": [
            "MOviendo 10fpstest_6X_60fps.mp4 el archivo a la carpetaReal-Rife-Videos en tu Drive\n"
          ]
        }
      ]
    },
    {
      "cell_type": "code",
      "source": [],
      "metadata": {
        "id": "StAqciB7Zaue"
      },
      "execution_count": null,
      "outputs": []
    }
  ]
}