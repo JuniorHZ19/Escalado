{
  "cells": [
    {
      "cell_type": "markdown",
      "metadata": {
        "id": "view-in-github",
        "colab_type": "text"
      },
      "source": [
        "<a href=\"https://colab.research.google.com/github/JuniorHZ19/HerramientasIA/blob/main/RoopertaV5.5.ipynb\" target=\"_parent\"><img src=\"https://colab.research.google.com/assets/colab-badge.svg\" alt=\"Open In Colab\"/></a>"
      ]
    },
    {
      "cell_type": "code",
      "execution_count": null,
      "metadata": {
        "id": "0aHr4Fo-7IRy",
        "cellView": "form"
      },
      "outputs": [],
      "source": [
        "#@markdown # **1) Clone roop repo and install dependencies**\n",
        "\n",
        "!git clone https://github.com/based9based/roop\n",
        "%cd roop\n",
        "!pip install -r requirements.txt"
      ]
    },
    {
      "cell_type": "code",
      "execution_count": null,
      "metadata": {
        "id": "UQH2exUYGTbK",
        "cellView": "form"
      },
      "outputs": [],
      "source": [
        "\n",
        "#@markdown # **2) download mode**\n",
        "\n",
        "!pip install gdown\n",
        "\n",
        "!gdown --id 1gVbVd0WEfNIweGtZdPmSWFhwqMOhzk4w\n",
        "!7z e RoopModel.zip\n",
        "\n",
        "# Ruta al archivo ZIP que deseas descomprimir\n",
        "archivo_zip = '/content/roop/RoopModel.zip'\n",
        "\n",
        "import zipfile\n",
        "# Directorio de destino para la descompresión\n",
        "directorio_destino = '/content/roop'  #\n",
        "\n",
        "\n",
        "with zipfile.ZipFile(archivo_zip, 'r') as zip_ref:\n",
        "    # Descomprime los archivos en el directorio de destino\n",
        "    zip_ref.extractall(directorio_destino)\n",
        "\n",
        "\n",
        "\n",
        "\n",
        "\n",
        "\n"
      ]
    },
    {
      "cell_type": "code",
      "source": [
        "#@markdown # **3) Montar Driver**\n",
        "from google.colab import drive, files\n",
        "drive.mount('/content/drive')"
      ],
      "metadata": {
        "id": "bk4Ap_uge_Sg",
        "cellView": "form"
      },
      "execution_count": null,
      "outputs": []
    },
    {
      "cell_type": "code",
      "source": [
        "#@markdown # **4.A)Agregar Nueva Data SOURCE**\n",
        "\n",
        "import os\n",
        "from google.colab import files\n",
        "\n",
        "ruta_carpeta = '/content/roop/data_src'\n",
        "\n",
        "if not os.path.exists(ruta_carpeta):\n",
        "        os.makedirs(ruta_carpeta)\n",
        "        print(f'Carpeta creada en: {ruta_carpeta}')\n",
        "else:\n",
        "        print(f'La carpeta ya existe en: {ruta_carpeta}')\n",
        "\n",
        "# Cargar una imagen desde tu computadora\n",
        "uploaded = files.upload()\n",
        "\n",
        "# Mueve el archivo cargado a la carpeta de destino\n",
        "for filename in uploaded.keys():\n",
        "    ruta_origen = filename\n",
        "    ruta_destino = os.path.join(ruta_carpeta, filename)\n",
        "    os.rename(ruta_origen, ruta_destino)\n",
        "    print(f'Archivo movido a: {ruta_destino}')\n",
        "\n",
        "\n"
      ],
      "metadata": {
        "id": "h_mytCNlnSXH",
        "cellView": "form"
      },
      "execution_count": null,
      "outputs": []
    },
    {
      "cell_type": "code",
      "source": [
        "#@markdown # 4.B)AGREGAR VIDEO DESTINO *\n",
        "\n",
        "ruta_dst=\"/content/roop/data_dst\"\n",
        "\n",
        "if not os.path.exists(ruta_dst):\n",
        "        os.makedirs(ruta_dst)\n",
        "        print(f'Carpeta creada en: {ruta_dst}')\n",
        "else:\n",
        "        print(f'La carpeta ya existe en: {ruta_dst}')\n",
        "\n",
        "# Cargar una imagen desde tu computadora\n",
        "uploaded = files.upload()\n",
        "\n",
        "# Mueve el archivo cargado a la carpeta de destino\n",
        "for filename in uploaded.keys():\n",
        "    ruta_origen = filename\n",
        "    ruta_destino = os.path.join(ruta_dst, filename)\n",
        "    os.rename(ruta_origen, ruta_destino)\n",
        "    print(f'Video movido a: {ruta_destino}')\n"
      ],
      "metadata": {
        "cellView": "form",
        "id": "Vql7SWLPuQnv"
      },
      "execution_count": null,
      "outputs": []
    },
    {
      "cell_type": "code",
      "source": [
        "#@markdown # **5.A)SELECIONA SOURCE**\n",
        "from IPython.display import display, Image\n",
        "import ipywidgets as widgets\n",
        "import os\n",
        "\n",
        "# Ruta de la carpeta de imágenes\n",
        "carpeta_imagenes = '/content/roop/data_src'\n",
        "\n",
        "# Obtén la lista de archivos de la carpeta de imágenes\n",
        "lista_archivos = os.listdir(carpeta_imagenes)\n",
        "lista_imagenes = [archivo for archivo in lista_archivos if archivo.lower().endswith(('.png', '.jpg', '.jpeg', '.gif'))]\n",
        "\n",
        "# Crea un widget Dropdown con la lista de imágenes\n",
        "dropdown_imagenes = widgets.Dropdown(\n",
        "    options=lista_imagenes,\n",
        "    description='Selecciona una imagen:'\n",
        ")\n",
        "\n",
        "# Función para mostrar la imagen seleccionada sin reescalado\n",
        "def mostrar_imagen(imagen):\n",
        "    global ruta_completa_src\n",
        "    ruta_completa_src = os.path.join(carpeta_imagenes, imagen)\n",
        "    display(Image(filename=ruta_completa_src))\n",
        "\n",
        "# Vincula la función de mostrar_imagen al cambio en el Dropdown\n",
        "widgets.interactive(mostrar_imagen, imagen=dropdown_imagenes)\n"
      ],
      "metadata": {
        "cellView": "form",
        "id": "Nj1x5P_aorfv"
      },
      "execution_count": null,
      "outputs": []
    },
    {
      "cell_type": "code",
      "source": [
        "#@markdown # **5.A)SELECIONA DESTINY**\n",
        "\n",
        "import os\n",
        "import cv2\n",
        "import ipywidgets as widgets\n",
        "from IPython.display import display, clear_output\n",
        "import matplotlib.pyplot as plt\n",
        "\n",
        "carpeta_dst = '/content/roop/data_dst'\n",
        "\n",
        "# Obtén la lista de archivos de la carpeta de imágenes\n",
        "lista_archivos = os.listdir(carpeta_dst)\n",
        "lista_videos = [archivo for archivo in lista_archivos if archivo.lower().endswith(('.jpg', 'png', '.mp4', '.avi', '.mkv', '.mov'))]\n",
        "\n",
        "# Crea un widget Dropdown con la lista de imágenes\n",
        "dropdown_videos = widgets.Dropdown(\n",
        "    options=[\"Selecciona un video:\"] + lista_videos,\n",
        ")\n",
        "\n",
        "ruta_seleccionada_dst = None\n",
        "\n",
        "# Función para mostrar el video seleccionado sin reescalado\n",
        "def seleccionar_video(change):\n",
        "    global ruta_seleccionada_dst\n",
        "    ruta_seleccionada_dst = os.path.join(carpeta_dst, change.new)\n",
        "\n",
        "    if ruta_seleccionada_dst is not None and ruta_seleccionada_dst.lower().endswith(\".mp4\"):\n",
        "\n",
        "        cap = cv2.VideoCapture(ruta_seleccionada_dst)\n",
        "        ret, frame = cap.read()\n",
        "\n",
        "        # Muestra la imagen en el cuadro de salida usando matplotlib\n",
        "        plt.figure(figsize=(8, 18))\n",
        "        plt.imshow(cv2.cvtColor(frame, cv2.COLOR_BGR2RGB))\n",
        "        plt.axis('off')  # Oculta los ejes\n",
        "        plt.show()\n",
        "\n",
        "# Vincula la función de almacenar la ruta al cambio en el Dropdown\n",
        "display(dropdown_videos)\n",
        "dropdown_videos.observe(seleccionar_video, names='value')"
      ],
      "metadata": {
        "id": "WMocGPh_vfot",
        "cellView": "form"
      },
      "execution_count": null,
      "outputs": []
    },
    {
      "cell_type": "code",
      "execution_count": null,
      "metadata": {
        "id": "lDYdfL3L71i1",
        "cellView": "form"
      },
      "outputs": [],
      "source": [
        "\n",
        "\n",
        "#@markdown # **6) Swapped!!!\"\n",
        "import os\n",
        "drive_mounted = True\n",
        "NombreFinalSwapped = 'verinica'#@param{type: \"string\"}\n",
        "many_faces = False # @param {type:\"boolean\"}\n",
        "face_enhancer=False # @param {type:\"boolean\"}\n",
        "\n",
        "if many_faces:\n",
        "  many_faces= '--many_faces'\n",
        "else: many_faces=''\n",
        "\n",
        "if face_enhancer:\n",
        "  face_enhancer= 'face_enhancer'\n",
        "else: face_enhancer=''\n",
        "\n",
        "ruta_output=\"/content/roop/output\"\n",
        "\n",
        "\n",
        "\n",
        "if not os.path.exists(ruta_output):\n",
        "        os.makedirs(ruta_output)\n",
        "        print(f'Carpeta creada en: {ruta_output}')\n",
        "else:\n",
        "        print(f'La carpeta ya existe en: {ruta_output}')\n",
        "\n",
        "dst=ruta_seleccionada_dst\n",
        "src=ruta_completa_src\n",
        "\n",
        "!python /content/roop/run.py --target {ruta_seleccionada_dst} {many_faces} --source {ruta_completa_src} -o '/content/roop/output/'{NombreFinalSwapped}'.mp4' --execution-provider cuda --frame-processor  face_swapper {face_enhancer}\n",
        "\n",
        "# Ejecuta el comando (puedes comentar esta línea si solo deseas imprimir el comando)\n"
      ]
    },
    {
      "cell_type": "code",
      "execution_count": null,
      "metadata": {
        "id": "dB-yigWx8zht",
        "cellView": "form"
      },
      "outputs": [],
      "source": [
        "#@markdown # 7) Comprimir videos de output!!!\"\n",
        "\n",
        "import shutil\n",
        "import zipfile\n",
        "\n",
        "from PIL import Image\n",
        "import os\n",
        "\n",
        "\n",
        "\n",
        "Nombre_Rar = ''#@param{type: \"string\"}\n",
        "# Ruta de la carpeta de salida para videos\n",
        "ruta_carpeta_videos = '/content/roop/output'\n",
        "\n",
        "\n",
        "\n",
        "\n",
        "# Ruta de la carpeta que deseas comprimir\n",
        "\n",
        "shutil.make_archive(Nombre_Rar, 'zip', ruta_carpeta_videos)\n",
        "\n",
        "\n"
      ]
    },
    {
      "cell_type": "code",
      "source": [
        "#@markdown # **8)Descargar Zip de outpus a drive**\n",
        "#@markdown Se pasara el archivo a nuestro drive\n",
        "import os\n",
        "\n",
        "from google.colab import files\n",
        "from google.colab import drive, files\n",
        "\n",
        "shutil.move(f'/content/roop/{Nombre_Rar}.zip', f'/content/drive/MyDrive')\n",
        "print(f\"MOviendo {Nombre_Rar} el archivo a la carpeta data_src en tu Drive\")"
      ],
      "metadata": {
        "id": "z6fapp1VcCL3",
        "cellView": "form"
      },
      "execution_count": null,
      "outputs": []
    },
    {
      "cell_type": "code",
      "source": [],
      "metadata": {
        "id": "o7wcgUL8cCAP"
      },
      "execution_count": null,
      "outputs": []
    }
  ],
  "metadata": {
    "accelerator": "GPU",
    "colab": {
      "provenance": [],
      "include_colab_link": true
    },
    "kernelspec": {
      "display_name": "Python 3",
      "name": "python3"
    },
    "language_info": {
      "name": "python"
    }
  },
  "nbformat": 4,
  "nbformat_minor": 0
}